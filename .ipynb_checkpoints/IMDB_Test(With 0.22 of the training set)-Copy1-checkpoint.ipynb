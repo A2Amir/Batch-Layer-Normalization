{
 "cells": [
  {
   "cell_type": "code",
   "execution_count": 1,
   "metadata": {},
   "outputs": [],
   "source": [
    "import tensorflow as tf\n",
    "import numpy as np\n",
    "import matplotlib.pyplot as plt\n",
    "\n",
    "from tensorflow.keras.models import Model\n",
    "from utils import creat_datasets, reset_graph, grid_serach,  creating_val_data\n",
    "from utils import creating_train_val_test_datasets\n",
    "from layers import  bln_layer, dense_layer\n",
    "from callbacks import bln_callback , tensorboard_callback, create_callback_list, save_best_model_callback\n",
    "\n",
    "\n",
    "from tensorflow.keras.preprocessing import sequence\n",
    "from tensorflow.keras.layers import Embedding\n",
    "from tensorflow.keras.layers import LSTM\n",
    "from tensorflow.keras.datasets import imdb"
   ]
  },
  {
   "cell_type": "code",
   "execution_count": 2,
   "metadata": {},
   "outputs": [],
   "source": [
    "tf.config.experimental_run_functions_eagerly(True)"
   ]
  },
  {
   "cell_type": "code",
   "execution_count": 3,
   "metadata": {},
   "outputs": [
    {
     "data": {
      "text/plain": [
       "'2.1.0'"
      ]
     },
     "execution_count": 3,
     "metadata": {},
     "output_type": "execute_result"
    }
   ],
   "source": [
    "tf.__version__"
   ]
  },
  {
   "cell_type": "markdown",
   "metadata": {},
   "source": [
    "### Loading data"
   ]
  },
  {
   "cell_type": "code",
   "execution_count": 4,
   "metadata": {},
   "outputs": [],
   "source": [
    "random_seed = 100\n",
    "minibatch = 20\n",
    "buffersize = 60000\n",
    "number_valid_sampels = 5000 # number of validation data\n",
    "epochs = 5\n",
    "learning_rate = 0.001\n",
    "# 1000.0 -> 1 (all of the training dataset),  500.0 -> .5 (half of the training dataset) , 220.0-> .22 of the training dataset\n",
    "number_batches_train = 225 # number of batches to train, each batch of size minibatch parameter\n",
    "number_batches_valid = 50 # number of batches to validate, each batch of size minibatch parameter\n",
    "num_classes = 1\n",
    "\n",
    "max_features = 20000\n",
    "maxlen = 80  # cut texts after this number of words (among top max_features most common words)\n"
   ]
  },
  {
   "cell_type": "code",
   "execution_count": 5,
   "metadata": {
    "scrolled": true
   },
   "outputs": [
    {
     "name": "stdout",
     "output_type": "stream",
     "text": [
      "Loading data...\n"
     ]
    },
    {
     "name": "stderr",
     "output_type": "stream",
     "text": [
      "C:\\Users\\amira\\.conda\\envs\\Normalization\\lib\\site-packages\\tensorflow_core\\python\\keras\\datasets\\imdb.py:129: VisibleDeprecationWarning: Creating an ndarray from ragged nested sequences (which is a list-or-tuple of lists-or-tuples-or ndarrays with different lengths or shapes) is deprecated. If you meant to do this, you must specify 'dtype=object' when creating the ndarray\n",
      "  x_train, y_train = np.array(xs[:idx]), np.array(labels[:idx])\n",
      "C:\\Users\\amira\\.conda\\envs\\Normalization\\lib\\site-packages\\tensorflow_core\\python\\keras\\datasets\\imdb.py:130: VisibleDeprecationWarning: Creating an ndarray from ragged nested sequences (which is a list-or-tuple of lists-or-tuples-or ndarrays with different lengths or shapes) is deprecated. If you meant to do this, you must specify 'dtype=object' when creating the ndarray\n",
      "  x_test, y_test = np.array(xs[idx:]), np.array(labels[idx:])\n"
     ]
    },
    {
     "name": "stdout",
     "output_type": "stream",
     "text": [
      "25000 train sequences\n",
      "25000 test sequences\n",
      "Pad sequences (samples x time)\n",
      "x_train shape: (25000, 80)\n",
      "x_test shape: (25000, 80)\n"
     ]
    }
   ],
   "source": [
    "print('Loading data...')\n",
    "(x_train, y_train), (x_test, y_test) = imdb.load_data(num_words=max_features)\n",
    "print(len(x_train), 'train sequences')\n",
    "print(len(x_test), 'test sequences')\n",
    "\n",
    "print('Pad sequences (samples x time)')\n",
    "x_train = sequence.pad_sequences(x_train, maxlen = maxlen)\n",
    "x_test = sequence.pad_sequences(x_test, maxlen = maxlen)\n",
    "print('x_train shape:', x_train.shape)\n",
    "print('x_test shape:', x_test.shape)"
   ]
  },
  {
   "cell_type": "code",
   "execution_count": 6,
   "metadata": {},
   "outputs": [],
   "source": [
    "x_train, y_train, x_valid, y_valid = creating_val_data(x_train, y_train,\n",
    "                                                       number_valid_sampels = number_valid_sampels,\n",
    "                                                       random_seed=random_seed)\n",
    "\n",
    "train_dataset, valid_dataset, test_dataset = creating_train_val_test_datasets(x_train, y_train,\n",
    "                                                                              x_test, y_test,\n",
    "                                                                              x_valid, y_valid, \n",
    "                                                                              minibatch = minibatch,\n",
    "                                                                              buffersize= buffersize,\n",
    "                                                                              random_seed=random_seed)"
   ]
  },
  {
   "cell_type": "code",
   "execution_count": 7,
   "metadata": {},
   "outputs": [
    {
     "data": {
      "text/plain": [
       "<PrefetchDataset shapes: ((20, 80), (20,)), types: (tf.int32, tf.int64)>"
      ]
     },
     "execution_count": 7,
     "metadata": {},
     "output_type": "execute_result"
    }
   ],
   "source": [
    "train_dataset"
   ]
  },
  {
   "cell_type": "markdown",
   "metadata": {},
   "source": [
    "# 1. Using Batch Layer Normalization Layer"
   ]
  },
  {
   "cell_type": "code",
   "execution_count": 8,
   "metadata": {},
   "outputs": [],
   "source": [
    "def BLNLayer_model(inputshape= (80), max_features = 20000, embed_size=128, random_seed = 100,\n",
    "                          lstm_unit = 128 , dense_units= 1,\n",
    "                          batch_size = 10,\n",
    "                          b_mm = True, b_mv = True,\n",
    "                          f_mm = False, f_mv = False):\n",
    "    \n",
    "\n",
    "    \n",
    "    input_lyr = tf.keras.Input(shape = inputshape, batch_size=batch_size, name = 'input')\n",
    "    \n",
    "    x = Embedding(max_features, embed_size,\n",
    "                  embeddings_initializer=tf.keras.initializers.GlorotUniform(seed=random_seed))(input_lyr)\n",
    "    \n",
    "    x = LSTM(lstm_unit, dropout=0.2, recurrent_dropout=0.2,activation='tanh',\n",
    "            recurrent_initializer = tf.keras.initializers.GlorotUniform(seed=random_seed),\n",
    "            kernel_initializer = tf.keras.initializers.GlorotUniform(seed=random_seed) ,\n",
    "            return_sequences=True)(x)\n",
    "    \n",
    "    x = bln_layer(stateful = True, batchsize= batch_size, name = 'bn1', \n",
    "                  batch_moving_mean = b_mm, batch_moving_var = b_mv,\n",
    "                  feature_moving_mean = f_mm, feature_moving_var = f_mv)(x) \n",
    "    \n",
    "    x = LSTM(lstm_unit//2, dropout=0.2,  recurrent_dropout=0.2,activation='tanh',\n",
    "            recurrent_initializer = tf.keras.initializers.GlorotUniform(seed=random_seed),\n",
    "            kernel_initializer = tf.keras.initializers.GlorotUniform(seed=random_seed) ,\n",
    "            return_sequences=False)(x)\n",
    "    \n",
    "    \n",
    "    x = bln_layer(stateful = True, batchsize= batch_size, name = 'bn2', \n",
    "                  batch_moving_mean = b_mm, batch_moving_var = b_mv,\n",
    "                  feature_moving_mean = f_mm, feature_moving_var = f_mv)(x) \n",
    "    \n",
    "    output_lyr = dense_layer(units = dense_units, name = 'dense1', random_seed=random_seed)(x)    \n",
    "    return tf.keras.Model(inputs = [input_lyr], outputs = [output_lyr])"
   ]
  },
  {
   "cell_type": "code",
   "execution_count": 9,
   "metadata": {},
   "outputs": [],
   "source": [
    "model_bln_layer = BLNLayer_model(inputshape= (80), max_features = max_features, \n",
    "                                        embed_size= 128, random_seed = random_seed,\n",
    "                                        lstm_unit = 128 , dense_units= num_classes,\n",
    "                                        batch_size = minibatch,\n",
    "                                        b_mm = True, b_mv = True,\n",
    "                                        f_mm = False, f_mv = False\n",
    "                                        )\n",
    "\n"
   ]
  },
  {
   "cell_type": "code",
   "execution_count": 10,
   "metadata": {},
   "outputs": [
    {
     "name": "stdout",
     "output_type": "stream",
     "text": [
      "Model: \"model\"\n",
      "_________________________________________________________________\n",
      "Layer (type)                 Output Shape              Param #   \n",
      "=================================================================\n",
      "input (InputLayer)           [(20, 80)]                0         \n",
      "_________________________________________________________________\n",
      "embedding (Embedding)        (20, 80, 128)             2560000   \n",
      "_________________________________________________________________\n",
      "lstm (LSTM)                  (20, 80, 128)             131584    \n",
      "_________________________________________________________________\n",
      "bn1 (bln_layer)              (20, 80, 128)             23938     \n",
      "_________________________________________________________________\n",
      "lstm_1 (LSTM)                (20, 64)                  49408     \n",
      "_________________________________________________________________\n",
      "bn2 (bln_layer)              (20, 64)                  298       \n",
      "_________________________________________________________________\n",
      "dense1 (dense_layer)         (20, 1)                   65        \n",
      "=================================================================\n",
      "Total params: 2,765,293\n",
      "Trainable params: 2,741,441\n",
      "Non-trainable params: 23,852\n",
      "_________________________________________________________________\n"
     ]
    }
   ],
   "source": [
    "model_bln_layer.summary()"
   ]
  },
  {
   "cell_type": "markdown",
   "metadata": {},
   "source": [
    "# callbacks"
   ]
  },
  {
   "cell_type": "code",
   "execution_count": 11,
   "metadata": {},
   "outputs": [],
   "source": [
    "# Callbacks for saving best model and tensorboard\n",
    "folder_name = str(number_batches_train) + '_bln_layer_TTFF_imdb'\n",
    "save_bm_cb = save_best_model_callback(folder_name)\n",
    "tb_cb = tensorboard_callback(folder_name)\n",
    "\n",
    "# Callback for resetting moving mean and variances at the end of each epoch\n",
    "bln_layer_cb = bln_callback()\n",
    "\n",
    "bln_layer_cb_list = create_callback_list(save_bm_cb, tb_cb, bln_layer_cb)"
   ]
  },
  {
   "cell_type": "code",
   "execution_count": 12,
   "metadata": {},
   "outputs": [],
   "source": [
    "model_bln_layer.compile(optimizer = tf.keras.optimizers.Adam(learning_rate=learning_rate),\n",
    "                               loss = tf.keras.losses.BinaryCrossentropy(from_logits=True),\n",
    "                               metrics = [tf.keras.metrics.BinaryAccuracy()])"
   ]
  },
  {
   "cell_type": "code",
   "execution_count": 13,
   "metadata": {
    "scrolled": false
   },
   "outputs": [
    {
     "name": "stdout",
     "output_type": "stream",
     "text": [
      "Train for 225 steps, validate for 50 steps\n",
      "Epoch 1/5\n",
      "225/225 [==============================] - 170s 756ms/step - loss: 0.5639 - binary_accuracy: 0.6784 - val_loss: 0.5594 - val_binary_accuracy: 0.7530\n",
      "Epoch 2/5\n",
      "225/225 [==============================] - 177s 787ms/step - loss: 0.3086 - binary_accuracy: 0.8733 - val_loss: 0.5425 - val_binary_accuracy: 0.7620\n",
      "Epoch 3/5\n",
      "225/225 [==============================] - 173s 770ms/step - loss: 0.1875 - binary_accuracy: 0.9311 - val_loss: 0.8406 - val_binary_accuracy: 0.7490\n",
      "Epoch 4/5\n",
      "225/225 [==============================] - 178s 791ms/step - loss: 0.1452 - binary_accuracy: 0.9489 - val_loss: 0.7505 - val_binary_accuracy: 0.7410\n",
      "Epoch 5/5\n",
      "225/225 [==============================] - 168s 748ms/step - loss: 0.1092 - binary_accuracy: 0.9624 - val_loss: 0.7341 - val_binary_accuracy: 0.7560\n"
     ]
    }
   ],
   "source": [
    "model_bln_layer_history =  model_bln_layer.fit(train_dataset.take(number_batches_train), epochs=epochs,\n",
    "                                                verbose=1, callbacks=bln_layer_cb_list,\n",
    "                                                validation_data=valid_dataset.take(number_batches_valid),\n",
    "                                                shuffle=True)"
   ]
  },
  {
   "cell_type": "code",
   "execution_count": 14,
   "metadata": {},
   "outputs": [],
   "source": [
    "weights_path = \"./models/\" + folder_name + '/'+ str(number_batches_train) +\"_pretrained_weights_TTFF.h5\"\n",
    "model_bln_layer.save_weights(weights_path)"
   ]
  },
  {
   "cell_type": "code",
   "execution_count": 15,
   "metadata": {},
   "outputs": [
    {
     "name": "stdout",
     "output_type": "stream",
     "text": [
      "session is clear\n"
     ]
    }
   ],
   "source": [
    "del model_bln_layer, save_bm_cb, tb_cb, bln_layer_cb, bln_layer_cb_list\n",
    "reset_graph()"
   ]
  },
  {
   "cell_type": "code",
   "execution_count": 16,
   "metadata": {},
   "outputs": [
    {
     "name": "stdout",
     "output_type": "stream",
     "text": [
      "1250/1250 [==============================] - 358s 286ms/step - loss: 0.7000 - binary_accuracy: 0.7681\n",
      "{'Bmm_True Bmv_True Fmm_True Fmv_True': [0.7000058815211058, 0.76812]}\n",
      "session is clear\n",
      "1250/1250 [==============================] - 358s 286ms/step - loss: 0.7065 - binary_accuracy: 0.7682\n",
      "{'Bmm_True Bmv_True Fmm_True Fmv_True': [0.7000058815211058, 0.76812], 'Bmm_True Bmv_True Fmm_True Fmv_False': [0.706537753404677, 0.76824]}\n",
      "session is clear\n",
      "1250/1250 [==============================] - 356s 285ms/step - loss: 0.6995 - binary_accuracy: 0.7681\n",
      "{'Bmm_True Bmv_True Fmm_True Fmv_True': [0.7000058815211058, 0.76812], 'Bmm_True Bmv_True Fmm_True Fmv_False': [0.706537753404677, 0.76824], 'Bmm_True Bmv_True Fmm_False Fmv_True': [0.6995357632756233, 0.76808]}\n",
      "session is clear\n",
      "1250/1250 [==============================] - 377s 301ms/step - loss: 0.7059 - binary_accuracy: 0.7680\n",
      "{'Bmm_True Bmv_True Fmm_True Fmv_True': [0.7000058815211058, 0.76812], 'Bmm_True Bmv_True Fmm_True Fmv_False': [0.706537753404677, 0.76824], 'Bmm_True Bmv_True Fmm_False Fmv_True': [0.6995357632756233, 0.76808], 'Bmm_True Bmv_True Fmm_False Fmv_False': [0.705917464312911, 0.76804]}\n",
      "session is clear\n",
      "1250/1250 [==============================] - 404s 323ms/step - loss: 0.7792 - binary_accuracy: 0.7656\n",
      "{'Bmm_True Bmv_True Fmm_True Fmv_True': [0.7000058815211058, 0.76812], 'Bmm_True Bmv_True Fmm_True Fmv_False': [0.706537753404677, 0.76824], 'Bmm_True Bmv_True Fmm_False Fmv_True': [0.6995357632756233, 0.76808], 'Bmm_True Bmv_True Fmm_False Fmv_False': [0.705917464312911, 0.76804], 'Bmm_True Bmv_False Fmm_True Fmv_True': [0.7792014545038343, 0.76564]}\n",
      "session is clear\n",
      "1250/1250 [==============================] - 396s 317ms/step - loss: 0.7849 - binary_accuracy: 0.7654\n",
      "{'Bmm_True Bmv_True Fmm_True Fmv_True': [0.7000058815211058, 0.76812], 'Bmm_True Bmv_True Fmm_True Fmv_False': [0.706537753404677, 0.76824], 'Bmm_True Bmv_True Fmm_False Fmv_True': [0.6995357632756233, 0.76808], 'Bmm_True Bmv_True Fmm_False Fmv_False': [0.705917464312911, 0.76804], 'Bmm_True Bmv_False Fmm_True Fmv_True': [0.7792014545038343, 0.76564], 'Bmm_True Bmv_False Fmm_True Fmv_False': [0.7849482204765081, 0.76536]}\n",
      "session is clear\n",
      "1250/1250 [==============================] - 371s 297ms/step - loss: 0.7786 - binary_accuracy: 0.7657\n",
      "{'Bmm_True Bmv_True Fmm_True Fmv_True': [0.7000058815211058, 0.76812], 'Bmm_True Bmv_True Fmm_True Fmv_False': [0.706537753404677, 0.76824], 'Bmm_True Bmv_True Fmm_False Fmv_True': [0.6995357632756233, 0.76808], 'Bmm_True Bmv_True Fmm_False Fmv_False': [0.705917464312911, 0.76804], 'Bmm_True Bmv_False Fmm_True Fmv_True': [0.7792014545038343, 0.76564], 'Bmm_True Bmv_False Fmm_True Fmv_False': [0.7849482204765081, 0.76536], 'Bmm_True Bmv_False Fmm_False Fmv_True': [0.7785731842175126, 0.76568]}\n",
      "session is clear\n",
      "1250/1250 [==============================] - 383s 306ms/step - loss: 0.7841 - binary_accuracy: 0.7654\n",
      "{'Bmm_True Bmv_True Fmm_True Fmv_True': [0.7000058815211058, 0.76812], 'Bmm_True Bmv_True Fmm_True Fmv_False': [0.706537753404677, 0.76824], 'Bmm_True Bmv_True Fmm_False Fmv_True': [0.6995357632756233, 0.76808], 'Bmm_True Bmv_True Fmm_False Fmv_False': [0.705917464312911, 0.76804], 'Bmm_True Bmv_False Fmm_True Fmv_True': [0.7792014545038343, 0.76564], 'Bmm_True Bmv_False Fmm_True Fmv_False': [0.7849482204765081, 0.76536], 'Bmm_True Bmv_False Fmm_False Fmv_True': [0.7785731842175126, 0.76568], 'Bmm_True Bmv_False Fmm_False Fmv_False': [0.7841053017556667, 0.76544]}\n",
      "session is clear\n",
      "1250/1250 [==============================] - 377s 302ms/step - loss: 0.7283 - binary_accuracy: 0.7617\n",
      "{'Bmm_True Bmv_True Fmm_True Fmv_True': [0.7000058815211058, 0.76812], 'Bmm_True Bmv_True Fmm_True Fmv_False': [0.706537753404677, 0.76824], 'Bmm_True Bmv_True Fmm_False Fmv_True': [0.6995357632756233, 0.76808], 'Bmm_True Bmv_True Fmm_False Fmv_False': [0.705917464312911, 0.76804], 'Bmm_True Bmv_False Fmm_True Fmv_True': [0.7792014545038343, 0.76564], 'Bmm_True Bmv_False Fmm_True Fmv_False': [0.7849482204765081, 0.76536], 'Bmm_True Bmv_False Fmm_False Fmv_True': [0.7785731842175126, 0.76568], 'Bmm_True Bmv_False Fmm_False Fmv_False': [0.7841053017556667, 0.76544], 'Bmm_False Bmv_True Fmm_True Fmv_True': [0.7283321310341359, 0.76168]}\n",
      "session is clear\n",
      "1250/1250 [==============================] - 397s 318ms/step - loss: 0.7347 - binary_accuracy: 0.7616\n",
      "{'Bmm_True Bmv_True Fmm_True Fmv_True': [0.7000058815211058, 0.76812], 'Bmm_True Bmv_True Fmm_True Fmv_False': [0.706537753404677, 0.76824], 'Bmm_True Bmv_True Fmm_False Fmv_True': [0.6995357632756233, 0.76808], 'Bmm_True Bmv_True Fmm_False Fmv_False': [0.705917464312911, 0.76804], 'Bmm_True Bmv_False Fmm_True Fmv_True': [0.7792014545038343, 0.76564], 'Bmm_True Bmv_False Fmm_True Fmv_False': [0.7849482204765081, 0.76536], 'Bmm_True Bmv_False Fmm_False Fmv_True': [0.7785731842175126, 0.76568], 'Bmm_True Bmv_False Fmm_False Fmv_False': [0.7841053017556667, 0.76544], 'Bmm_False Bmv_True Fmm_True Fmv_True': [0.7283321310341359, 0.76168], 'Bmm_False Bmv_True Fmm_True Fmv_False': [0.7346842591434717, 0.76164]}\n",
      "session is clear\n",
      "1250/1250 [==============================] - 413s 330ms/step - loss: 0.7279 - binary_accuracy: 0.7616\n",
      "{'Bmm_True Bmv_True Fmm_True Fmv_True': [0.7000058815211058, 0.76812], 'Bmm_True Bmv_True Fmm_True Fmv_False': [0.706537753404677, 0.76824], 'Bmm_True Bmv_True Fmm_False Fmv_True': [0.6995357632756233, 0.76808], 'Bmm_True Bmv_True Fmm_False Fmv_False': [0.705917464312911, 0.76804], 'Bmm_True Bmv_False Fmm_True Fmv_True': [0.7792014545038343, 0.76564], 'Bmm_True Bmv_False Fmm_True Fmv_False': [0.7849482204765081, 0.76536], 'Bmm_True Bmv_False Fmm_False Fmv_True': [0.7785731842175126, 0.76568], 'Bmm_True Bmv_False Fmm_False Fmv_False': [0.7841053017556667, 0.76544], 'Bmm_False Bmv_True Fmm_True Fmv_True': [0.7283321310341359, 0.76168], 'Bmm_False Bmv_True Fmm_True Fmv_False': [0.7346842591434717, 0.76164], 'Bmm_False Bmv_True Fmm_False Fmv_True': [0.7278612845867872, 0.76164]}\n",
      "session is clear\n",
      "1250/1250 [==============================] - 397s 317ms/step - loss: 0.7341 - binary_accuracy: 0.7618\n",
      "{'Bmm_True Bmv_True Fmm_True Fmv_True': [0.7000058815211058, 0.76812], 'Bmm_True Bmv_True Fmm_True Fmv_False': [0.706537753404677, 0.76824], 'Bmm_True Bmv_True Fmm_False Fmv_True': [0.6995357632756233, 0.76808], 'Bmm_True Bmv_True Fmm_False Fmv_False': [0.705917464312911, 0.76804], 'Bmm_True Bmv_False Fmm_True Fmv_True': [0.7792014545038343, 0.76564], 'Bmm_True Bmv_False Fmm_True Fmv_False': [0.7849482204765081, 0.76536], 'Bmm_True Bmv_False Fmm_False Fmv_True': [0.7785731842175126, 0.76568], 'Bmm_True Bmv_False Fmm_False Fmv_False': [0.7841053017556667, 0.76544], 'Bmm_False Bmv_True Fmm_True Fmv_True': [0.7283321310341359, 0.76168], 'Bmm_False Bmv_True Fmm_True Fmv_False': [0.7346842591434717, 0.76164], 'Bmm_False Bmv_True Fmm_False Fmv_True': [0.7278612845867872, 0.76164], 'Bmm_False Bmv_True Fmm_False Fmv_False': [0.7340918087154626, 0.76184]}\n",
      "session is clear\n",
      "1250/1250 [==============================] - 396s 317ms/step - loss: 0.8002 - binary_accuracy: 0.7590\n",
      "{'Bmm_True Bmv_True Fmm_True Fmv_True': [0.7000058815211058, 0.76812], 'Bmm_True Bmv_True Fmm_True Fmv_False': [0.706537753404677, 0.76824], 'Bmm_True Bmv_True Fmm_False Fmv_True': [0.6995357632756233, 0.76808], 'Bmm_True Bmv_True Fmm_False Fmv_False': [0.705917464312911, 0.76804], 'Bmm_True Bmv_False Fmm_True Fmv_True': [0.7792014545038343, 0.76564], 'Bmm_True Bmv_False Fmm_True Fmv_False': [0.7849482204765081, 0.76536], 'Bmm_True Bmv_False Fmm_False Fmv_True': [0.7785731842175126, 0.76568], 'Bmm_True Bmv_False Fmm_False Fmv_False': [0.7841053017556667, 0.76544], 'Bmm_False Bmv_True Fmm_True Fmv_True': [0.7283321310341359, 0.76168], 'Bmm_False Bmv_True Fmm_True Fmv_False': [0.7346842591434717, 0.76164], 'Bmm_False Bmv_True Fmm_False Fmv_True': [0.7278612845867872, 0.76164], 'Bmm_False Bmv_True Fmm_False Fmv_False': [0.7340918087154626, 0.76184], 'Bmm_False Bmv_False Fmm_True Fmv_True': [0.8001733502358198, 0.75896]}\n",
      "session is clear\n",
      "1250/1250 [==============================] - 364s 291ms/step - loss: 0.8056 - binary_accuracy: 0.7587\n",
      "{'Bmm_True Bmv_True Fmm_True Fmv_True': [0.7000058815211058, 0.76812], 'Bmm_True Bmv_True Fmm_True Fmv_False': [0.706537753404677, 0.76824], 'Bmm_True Bmv_True Fmm_False Fmv_True': [0.6995357632756233, 0.76808], 'Bmm_True Bmv_True Fmm_False Fmv_False': [0.705917464312911, 0.76804], 'Bmm_True Bmv_False Fmm_True Fmv_True': [0.7792014545038343, 0.76564], 'Bmm_True Bmv_False Fmm_True Fmv_False': [0.7849482204765081, 0.76536], 'Bmm_True Bmv_False Fmm_False Fmv_True': [0.7785731842175126, 0.76568], 'Bmm_True Bmv_False Fmm_False Fmv_False': [0.7841053017556667, 0.76544], 'Bmm_False Bmv_True Fmm_True Fmv_True': [0.7283321310341359, 0.76168], 'Bmm_False Bmv_True Fmm_True Fmv_False': [0.7346842591434717, 0.76164], 'Bmm_False Bmv_True Fmm_False Fmv_True': [0.7278612845867872, 0.76164], 'Bmm_False Bmv_True Fmm_False Fmv_False': [0.7340918087154626, 0.76184], 'Bmm_False Bmv_False Fmm_True Fmv_True': [0.8001733502358198, 0.75896], 'Bmm_False Bmv_False Fmm_True Fmv_False': [0.8056015780091286, 0.75872]}\n",
      "session is clear\n"
     ]
    },
    {
     "name": "stdout",
     "output_type": "stream",
     "text": [
      "1250/1250 [==============================] - 363s 290ms/step - loss: 0.7995 - binary_accuracy: 0.7592\n",
      "{'Bmm_True Bmv_True Fmm_True Fmv_True': [0.7000058815211058, 0.76812], 'Bmm_True Bmv_True Fmm_True Fmv_False': [0.706537753404677, 0.76824], 'Bmm_True Bmv_True Fmm_False Fmv_True': [0.6995357632756233, 0.76808], 'Bmm_True Bmv_True Fmm_False Fmv_False': [0.705917464312911, 0.76804], 'Bmm_True Bmv_False Fmm_True Fmv_True': [0.7792014545038343, 0.76564], 'Bmm_True Bmv_False Fmm_True Fmv_False': [0.7849482204765081, 0.76536], 'Bmm_True Bmv_False Fmm_False Fmv_True': [0.7785731842175126, 0.76568], 'Bmm_True Bmv_False Fmm_False Fmv_False': [0.7841053017556667, 0.76544], 'Bmm_False Bmv_True Fmm_True Fmv_True': [0.7283321310341359, 0.76168], 'Bmm_False Bmv_True Fmm_True Fmv_False': [0.7346842591434717, 0.76164], 'Bmm_False Bmv_True Fmm_False Fmv_True': [0.7278612845867872, 0.76164], 'Bmm_False Bmv_True Fmm_False Fmv_False': [0.7340918087154626, 0.76184], 'Bmm_False Bmv_False Fmm_True Fmv_True': [0.8001733502358198, 0.75896], 'Bmm_False Bmv_False Fmm_True Fmv_False': [0.8056015780091286, 0.75872], 'Bmm_False Bmv_False Fmm_False Fmv_True': [0.7995439440310002, 0.75916]}\n",
      "session is clear\n",
      "1250/1250 [==============================] - 382s 305ms/step - loss: 0.8048 - binary_accuracy: 0.7588\n",
      "{'Bmm_True Bmv_True Fmm_True Fmv_True': [0.7000058815211058, 0.76812], 'Bmm_True Bmv_True Fmm_True Fmv_False': [0.706537753404677, 0.76824], 'Bmm_True Bmv_True Fmm_False Fmv_True': [0.6995357632756233, 0.76808], 'Bmm_True Bmv_True Fmm_False Fmv_False': [0.705917464312911, 0.76804], 'Bmm_True Bmv_False Fmm_True Fmv_True': [0.7792014545038343, 0.76564], 'Bmm_True Bmv_False Fmm_True Fmv_False': [0.7849482204765081, 0.76536], 'Bmm_True Bmv_False Fmm_False Fmv_True': [0.7785731842175126, 0.76568], 'Bmm_True Bmv_False Fmm_False Fmv_False': [0.7841053017556667, 0.76544], 'Bmm_False Bmv_True Fmm_True Fmv_True': [0.7283321310341359, 0.76168], 'Bmm_False Bmv_True Fmm_True Fmv_False': [0.7346842591434717, 0.76164], 'Bmm_False Bmv_True Fmm_False Fmv_True': [0.7278612845867872, 0.76164], 'Bmm_False Bmv_True Fmm_False Fmv_False': [0.7340918087154626, 0.76184], 'Bmm_False Bmv_False Fmm_True Fmv_True': [0.8001733502358198, 0.75896], 'Bmm_False Bmv_False Fmm_True Fmv_False': [0.8056015780091286, 0.75872], 'Bmm_False Bmv_False Fmm_False Fmv_True': [0.7995439440310002, 0.75916], 'Bmm_False Bmv_False Fmm_False Fmv_False': [0.8047888945609332, 0.75876]}\n",
      "session is clear\n"
     ]
    }
   ],
   "source": [
    "save_eval_path = \"./logs/\" + folder_name + '/'+ str(number_batches_train) +\"_sorted_evaluation.pkl\"\n",
    "evaluation = grid_serach(BLNLayer_model, test_dataset,\n",
    "                         batch_size = minibatch, sort=True,\n",
    "                         save_eval_path = save_eval_path,\n",
    "                         weights_path = weights_path,\n",
    "                         loss = tf.keras.losses.BinaryCrossentropy(from_logits=True),\n",
    "                         metrics = tf.keras.metrics.BinaryAccuracy())\n",
    "\n"
   ]
  },
  {
   "cell_type": "code",
   "execution_count": 17,
   "metadata": {},
   "outputs": [
    {
     "data": {
      "text/plain": [
       "[('Bmm_True Bmv_True Fmm_False Fmv_True', [0.6995357632756233, 0.76808]),\n",
       " ('Bmm_True Bmv_True Fmm_True Fmv_True', [0.7000058815211058, 0.76812]),\n",
       " ('Bmm_True Bmv_True Fmm_False Fmv_False', [0.705917464312911, 0.76804]),\n",
       " ('Bmm_True Bmv_True Fmm_True Fmv_False', [0.706537753404677, 0.76824]),\n",
       " ('Bmm_False Bmv_True Fmm_False Fmv_True', [0.7278612845867872, 0.76164]),\n",
       " ('Bmm_False Bmv_True Fmm_True Fmv_True', [0.7283321310341359, 0.76168]),\n",
       " ('Bmm_False Bmv_True Fmm_False Fmv_False', [0.7340918087154626, 0.76184]),\n",
       " ('Bmm_False Bmv_True Fmm_True Fmv_False', [0.7346842591434717, 0.76164]),\n",
       " ('Bmm_True Bmv_False Fmm_False Fmv_True', [0.7785731842175126, 0.76568]),\n",
       " ('Bmm_True Bmv_False Fmm_True Fmv_True', [0.7792014545038343, 0.76564]),\n",
       " ('Bmm_True Bmv_False Fmm_False Fmv_False', [0.7841053017556667, 0.76544]),\n",
       " ('Bmm_True Bmv_False Fmm_True Fmv_False', [0.7849482204765081, 0.76536]),\n",
       " ('Bmm_False Bmv_False Fmm_False Fmv_True', [0.7995439440310002, 0.75916]),\n",
       " ('Bmm_False Bmv_False Fmm_True Fmv_True', [0.8001733502358198, 0.75896]),\n",
       " ('Bmm_False Bmv_False Fmm_False Fmv_False', [0.8047888945609332, 0.75876]),\n",
       " ('Bmm_False Bmv_False Fmm_True Fmv_False', [0.8056015780091286, 0.75872])]"
      ]
     },
     "execution_count": 17,
     "metadata": {},
     "output_type": "execute_result"
    }
   ],
   "source": [
    "evaluation "
   ]
  },
  {
   "cell_type": "markdown",
   "metadata": {},
   "source": [
    "# 2.Using  Batch Normalization implemented in Keras"
   ]
  },
  {
   "cell_type": "code",
   "execution_count": 18,
   "metadata": {},
   "outputs": [],
   "source": [
    "def bn_keras_model(inputshape= (80), max_features = 20000, embed_size=128, random_seed = 100,\n",
    "                          lstm_unit = 128 , dense_units= 1,\n",
    "                          batch_size = 60):\n",
    "    \n",
    "\n",
    "    \n",
    "    input_lyr = tf.keras.Input(shape = inputshape, batch_size=batch_size, name = 'input')\n",
    "    \n",
    "    x = Embedding(max_features, embed_size,\n",
    "                  embeddings_initializer=tf.keras.initializers.GlorotUniform(seed=random_seed))(input_lyr)\n",
    "    \n",
    "    x = LSTM(lstm_unit, dropout=0.2, recurrent_dropout=0.2, activation='tanh',\n",
    "            recurrent_initializer = tf.keras.initializers.GlorotUniform(seed=random_seed),\n",
    "            kernel_initializer = tf.keras.initializers.GlorotUniform(seed=random_seed) ,\n",
    "            return_sequences=True)(x)\n",
    "    \n",
    "    x =  tf.keras.layers.BatchNormalization(momentum = 0.99,  name = 'bn1') (x) \n",
    "    \n",
    "    x = LSTM(lstm_unit//2, dropout=0.2,  recurrent_dropout=0.2, activation='tanh',\n",
    "            recurrent_initializer = tf.keras.initializers.GlorotUniform(seed=random_seed),\n",
    "            kernel_initializer = tf.keras.initializers.GlorotUniform(seed=random_seed) ,\n",
    "            return_sequences=False)(x)\n",
    "    \n",
    "    x =  tf.keras.layers.BatchNormalization(momentum = 0.99,  name = 'bn2') (x) \n",
    "\n",
    "    \n",
    "    output_lyr = dense_layer(units = dense_units, name = 'dense1', random_seed=random_seed)(x)    \n",
    "    return tf.keras.Model(inputs = [input_lyr], outputs = [output_lyr])\n"
   ]
  },
  {
   "cell_type": "code",
   "execution_count": 19,
   "metadata": {},
   "outputs": [
    {
     "name": "stdout",
     "output_type": "stream",
     "text": [
      "Model: \"model\"\n",
      "_________________________________________________________________\n",
      "Layer (type)                 Output Shape              Param #   \n",
      "=================================================================\n",
      "input (InputLayer)           [(20, 80)]                0         \n",
      "_________________________________________________________________\n",
      "embedding (Embedding)        (20, 80, 128)             2560000   \n",
      "_________________________________________________________________\n",
      "lstm (LSTM)                  (20, 80, 128)             131584    \n",
      "_________________________________________________________________\n",
      "bn1 (BatchNormalization)     (20, 80, 128)             512       \n",
      "_________________________________________________________________\n",
      "lstm_1 (LSTM)                (20, 64)                  49408     \n",
      "_________________________________________________________________\n",
      "bn2 (BatchNormalization)     (20, 64)                  256       \n",
      "_________________________________________________________________\n",
      "dense1 (dense_layer)         (20, 1)                   65        \n",
      "=================================================================\n",
      "Total params: 2,741,825\n",
      "Trainable params: 2,741,441\n",
      "Non-trainable params: 384\n",
      "_________________________________________________________________\n"
     ]
    }
   ],
   "source": [
    "model_bn_keras = bn_keras_model(inputshape= (80), max_features = max_features, \n",
    "                                embed_size= 128, random_seed = random_seed,\n",
    "                                lstm_unit = 128 , dense_units= num_classes,\n",
    "                                batch_size = minibatch)\n",
    "model_bn_keras.summary()\n",
    "\n",
    "#### Compiling \n",
    "model_bn_keras.compile(optimizer = tf.keras.optimizers.Adam(learning_rate=learning_rate),\n",
    "                       loss = tf.keras.losses.BinaryCrossentropy(from_logits=True),\n",
    "                       metrics = [tf.keras.metrics.BinaryAccuracy()])"
   ]
  },
  {
   "cell_type": "code",
   "execution_count": 20,
   "metadata": {},
   "outputs": [],
   "source": [
    "# Callbacks for saving best model and tensorboard\n",
    "folder_name = str(number_batches_train) + '_bn_Keras_imdb'\n",
    "save_bm_cb = save_best_model_callback(folder_name)\n",
    "tb_cb = tensorboard_callback(folder_name)\n",
    "\n",
    "\n",
    "bn_keras_cb_list = [save_bm_cb, tb_cb]"
   ]
  },
  {
   "cell_type": "code",
   "execution_count": 21,
   "metadata": {},
   "outputs": [
    {
     "name": "stdout",
     "output_type": "stream",
     "text": [
      "Train for 225 steps, validate for 50 steps\n",
      "Epoch 1/5\n",
      "225/225 [==============================] - 174s 774ms/step - loss: 0.6183 - binary_accuracy: 0.6384 - val_loss: 0.6529 - val_binary_accuracy: 0.6970\n",
      "Epoch 2/5\n",
      "225/225 [==============================] - 181s 805ms/step - loss: 0.3235 - binary_accuracy: 0.8560 - val_loss: 0.6806 - val_binary_accuracy: 0.6950\n",
      "Epoch 3/5\n",
      "225/225 [==============================] - 171s 758ms/step - loss: 0.1831 - binary_accuracy: 0.9307 - val_loss: 0.8931 - val_binary_accuracy: 0.7290\n",
      "Epoch 4/5\n",
      "225/225 [==============================] - 174s 771ms/step - loss: 0.1240 - binary_accuracy: 0.9529 - val_loss: 0.8873 - val_binary_accuracy: 0.7340\n",
      "Epoch 5/5\n",
      "225/225 [==============================] - 177s 787ms/step - loss: 0.0917 - binary_accuracy: 0.9684 - val_loss: 1.0165 - val_binary_accuracy: 0.7260\n"
     ]
    }
   ],
   "source": [
    "model_bn_keras_history =  model_bn_keras.fit(train_dataset.take(number_batches_train),\n",
    "                                             epochs = epochs, verbose=1, \n",
    "                                             callbacks = bn_keras_cb_list,\n",
    "                                             validation_data = valid_dataset.take(number_batches_valid),\n",
    "                                             shuffle = True)"
   ]
  },
  {
   "cell_type": "code",
   "execution_count": 22,
   "metadata": {},
   "outputs": [
    {
     "name": "stdout",
     "output_type": "stream",
     "text": [
      "1250/1250 [==============================] - 366s 293ms/step - loss: 1.0207 - binary_accuracy: 0.7276\n"
     ]
    }
   ],
   "source": [
    "model_bn_keras_test_history = model_bn_keras.evaluate(test_dataset)"
   ]
  },
  {
   "cell_type": "code",
   "execution_count": 23,
   "metadata": {},
   "outputs": [
    {
     "name": "stdout",
     "output_type": "stream",
     "text": [
      "session is clear\n"
     ]
    }
   ],
   "source": [
    "del model_bn_keras, save_bm_cb, tb_cb, bn_keras_cb_list \n",
    "reset_graph()"
   ]
  },
  {
   "cell_type": "markdown",
   "metadata": {},
   "source": [
    "# 3.Using  Layer normalization  implemented in Keras\n"
   ]
  },
  {
   "cell_type": "code",
   "execution_count": 24,
   "metadata": {},
   "outputs": [],
   "source": [
    "def ln_keras_model(inputshape= (80), max_features = 20000, embed_size=128, random_seed = 100,\n",
    "                          lstm_unit = 128 , dense_units= 1,\n",
    "                          batch_size = 60):\n",
    "    \n",
    "\n",
    "    \n",
    "    input_lyr = tf.keras.Input(shape = inputshape, batch_size=batch_size, name = 'input')\n",
    "    \n",
    "    x = Embedding(max_features, embed_size,\n",
    "                  embeddings_initializer=tf.keras.initializers.GlorotUniform(seed=random_seed))(input_lyr)\n",
    "    \n",
    "    x = LSTM(lstm_unit, dropout=0.2, recurrent_dropout=0.2, activation='tanh',\n",
    "            recurrent_initializer = tf.keras.initializers.GlorotUniform(seed=random_seed),\n",
    "            kernel_initializer = tf.keras.initializers.GlorotUniform(seed=random_seed) ,\n",
    "            return_sequences=True)(x)\n",
    "    \n",
    "    x =  tf.keras.layers.LayerNormalization()(x) \n",
    "\n",
    "    x = LSTM(lstm_unit//2, dropout=0.2,  recurrent_dropout=0.2, activation='tanh',\n",
    "            recurrent_initializer = tf.keras.initializers.GlorotUniform(seed=random_seed),\n",
    "            kernel_initializer = tf.keras.initializers.GlorotUniform(seed=random_seed) ,\n",
    "            return_sequences=False)(x)\n",
    "    \n",
    "    x =  tf.keras.layers.LayerNormalization()(x) \n",
    "\n",
    "    \n",
    "    output_lyr = dense_layer(units = dense_units, name = 'dense1', random_seed=random_seed)(x)    \n",
    "    return tf.keras.Model(inputs = [input_lyr], outputs = [output_lyr])\n",
    "\n"
   ]
  },
  {
   "cell_type": "code",
   "execution_count": 25,
   "metadata": {},
   "outputs": [
    {
     "name": "stdout",
     "output_type": "stream",
     "text": [
      "Model: \"model\"\n",
      "_________________________________________________________________\n",
      "Layer (type)                 Output Shape              Param #   \n",
      "=================================================================\n",
      "input (InputLayer)           [(20, 80)]                0         \n",
      "_________________________________________________________________\n",
      "embedding (Embedding)        (20, 80, 128)             2560000   \n",
      "_________________________________________________________________\n",
      "lstm (LSTM)                  (20, 80, 128)             131584    \n",
      "_________________________________________________________________\n",
      "layer_normalization (LayerNo (20, 80, 128)             256       \n",
      "_________________________________________________________________\n",
      "lstm_1 (LSTM)                (20, 64)                  49408     \n",
      "_________________________________________________________________\n",
      "layer_normalization_1 (Layer (20, 64)                  128       \n",
      "_________________________________________________________________\n",
      "dense1 (dense_layer)         (20, 1)                   65        \n",
      "=================================================================\n",
      "Total params: 2,741,441\n",
      "Trainable params: 2,741,441\n",
      "Non-trainable params: 0\n",
      "_________________________________________________________________\n"
     ]
    }
   ],
   "source": [
    "model_ln_keras = ln_keras_model(inputshape= (80), max_features = max_features, \n",
    "                                embed_size= 128, random_seed = random_seed,\n",
    "                                lstm_unit = 128 , dense_units= num_classes,\n",
    "                                batch_size = minibatch)\n",
    "model_ln_keras.summary()\n",
    "\n",
    "#### Compiling \n",
    "model_ln_keras.compile(optimizer = tf.keras.optimizers.Adam(learning_rate=learning_rate),\n",
    "                       loss = tf.keras.losses.BinaryCrossentropy(from_logits=True),\n",
    "                       metrics = [tf.keras.metrics.BinaryAccuracy()])"
   ]
  },
  {
   "cell_type": "code",
   "execution_count": 26,
   "metadata": {},
   "outputs": [],
   "source": [
    "# Callbacks for saving best model and tensorboard\n",
    "folder_name = str(number_batches_train) + '_ln_Keras_imdb'\n",
    "save_bm_cb = save_best_model_callback(folder_name)\n",
    "tb_cb = tensorboard_callback(folder_name)\n",
    "\n",
    "ln_keras_cb_list = [save_bm_cb, tb_cb]"
   ]
  },
  {
   "cell_type": "code",
   "execution_count": 27,
   "metadata": {},
   "outputs": [
    {
     "name": "stdout",
     "output_type": "stream",
     "text": [
      "Train for 225 steps, validate for 50 steps\n",
      "Epoch 1/5\n",
      "225/225 [==============================] - 173s 770ms/step - loss: 0.6207 - binary_accuracy: 0.6222 - val_loss: 0.4751 - val_binary_accuracy: 0.7580\n",
      "Epoch 2/5\n",
      "225/225 [==============================] - 168s 748ms/step - loss: 0.3212 - binary_accuracy: 0.8600 - val_loss: 0.5263 - val_binary_accuracy: 0.7870\n",
      "Epoch 3/5\n",
      "225/225 [==============================] - 171s 759ms/step - loss: 0.1269 - binary_accuracy: 0.9547 - val_loss: 0.8304 - val_binary_accuracy: 0.7400\n",
      "Epoch 4/5\n",
      "225/225 [==============================] - 170s 757ms/step - loss: 0.0901 - binary_accuracy: 0.9669 - val_loss: 0.8190 - val_binary_accuracy: 0.7380\n",
      "Epoch 5/5\n",
      "225/225 [==============================] - 171s 759ms/step - loss: 0.0584 - binary_accuracy: 0.9791 - val_loss: 1.0137 - val_binary_accuracy: 0.7340\n"
     ]
    }
   ],
   "source": [
    "model_ln_keras_history =  model_ln_keras.fit(train_dataset.take(number_batches_train),\n",
    "                                             epochs=epochs, verbose=1, \n",
    "                                             callbacks=ln_keras_cb_list,\n",
    "                                             validation_data=valid_dataset.take(number_batches_valid),\n",
    "                                             shuffle=True)"
   ]
  },
  {
   "cell_type": "code",
   "execution_count": 28,
   "metadata": {},
   "outputs": [
    {
     "name": "stdout",
     "output_type": "stream",
     "text": [
      "1250/1250 [==============================] - 496s 397ms/step - loss: 1.0017 - binary_accuracy: 0.7242\n"
     ]
    }
   ],
   "source": [
    "model_ln_keras_test_history = model_ln_keras.evaluate(test_dataset)"
   ]
  },
  {
   "cell_type": "code",
   "execution_count": 29,
   "metadata": {},
   "outputs": [
    {
     "name": "stdout",
     "output_type": "stream",
     "text": [
      "session is clear\n"
     ]
    }
   ],
   "source": [
    "del model_ln_keras,save_bm_cb, ln_keras_cb_list\n",
    "reset_graph()"
   ]
  },
  {
   "cell_type": "markdown",
   "metadata": {},
   "source": [
    "# 4. Make Comaprison \n",
    "#### Layer Normalization, Batch Normalization and Batch Layer Normalization\n"
   ]
  },
  {
   "cell_type": "code",
   "execution_count": 32,
   "metadata": {},
   "outputs": [
    {
     "name": "stdout",
     "output_type": "stream",
     "text": [
      "dict_keys(['loss', 'binary_accuracy', 'val_loss', 'val_binary_accuracy'])\n"
     ]
    },
    {
     "data": {
      "image/png": "[encoded data removed]",
      "text/plain": [
       "<Figure size 432x288 with 1 Axes>"
      ]
     },
     "metadata": {
      "needs_background": "light"
     },
     "output_type": "display_data"
    },
    {
     "data": {
      "image/png": "[encoded data removed]",
      "text/plain": [
       "<Figure size 432x288 with 1 Axes>"
      ]
     },
     "metadata": {
      "needs_background": "light"
     },
     "output_type": "display_data"
    }
   ],
   "source": [
    "# list all data in history\n",
    "print(model_ln_keras_history.history.keys())\n",
    "# summarize history for accuracy\n",
    "\n",
    "\n",
    "plt.figsize=(12, 12)\n",
    "plt.plot(model_ln_keras_history.history['val_loss'])\n",
    "plt.plot(model_bn_keras_history.history['val_loss'])\n",
    "plt.plot(model_bln_layer_history.history['val_loss'])\n",
    "plt.scatter(4, model_ln_keras_test_history[0], s=80,  marker=(5, 2))\n",
    "plt.scatter(4, model_bn_keras_test_history[0], s=80,  marker=(5, 2))\n",
    "plt.scatter(4,evaluation[0][1][0], s=80,  marker=(5, 2))\n",
    "plt.xticks(np.arange(0, 5, 1))\n",
    "\n",
    "plt.title('model validation loss')\n",
    "plt.ylabel('validation loss',fontsize=14)\n",
    "plt.xlabel('epoch',fontsize=14)\n",
    "plt.legend(['Layer Normalization', 'Batch Normalization','Batch Layer Normalization' ], loc='upper left')\n",
    "ax = plt.gca()\n",
    "ax.text(0.3,0.05,'Stars showing loss on test set',transform=ax.transAxes, bbox=dict(facecolor='none',edgecolor='black',boxstyle='square'))\n",
    "plt.show()\n",
    "\n",
    "\n",
    "plt.plot(model_ln_keras_history.history['val_binary_accuracy'])\n",
    "plt.plot(model_bn_keras_history.history['val_binary_accuracy'])\n",
    "plt.plot(model_bln_layer_history.history['val_binary_accuracy'])\n",
    "plt.scatter(4, model_ln_keras_test_history[1], s=80,  marker=(5, 2))\n",
    "plt.scatter(4, model_bn_keras_test_history[1], s=80,  marker=(5, 2))\n",
    "plt.scatter(4, evaluation[0][1][1], s=80,  marker=(5, 2))\n",
    "#plt.xticks(np.arange(0, 5, 1))\n",
    "#plt.yticks(np.arange(0.2, .6, .05))\n",
    "\n",
    "plt.title('model validation accuracy')\n",
    "plt.ylabel('validation accuracy', fontsize=14)\n",
    "plt.xlabel('epoch',fontsize=14)\n",
    "plt.legend(['Layer Normalization', 'Batch Normalization','Batch Layer Normalization' ], loc='upper left')\n",
    "ax = plt.gca()\n",
    "ax.text(0.3,0.05,'Stars showing accuracy on test set',transform=ax.transAxes, bbox=dict(facecolor='none',edgecolor='black',boxstyle='square'))\n",
    "plt.show()\n",
    "\n"
   ]
  },
  {
   "cell_type": "code",
   "execution_count": null,
   "metadata": {},
   "outputs": [],
   "source": []
  }
 ],
 "metadata": {
  "kernelspec": {
   "display_name": "Python 3",
   "language": "python",
   "name": "python3"
  },
  "language_info": {
   "codemirror_mode": {
    "name": "ipython",
    "version": 3
   },
   "file_extension": ".py",
   "mimetype": "text/x-python",
   "name": "python",
   "nbconvert_exporter": "python",
   "pygments_lexer": "ipython3",
   "version": "3.6.13"
  }
 },
 "nbformat": 4,
 "nbformat_minor": 4
}
