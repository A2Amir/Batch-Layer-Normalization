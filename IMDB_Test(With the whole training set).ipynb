{
 "cells": [
  {
   "cell_type": "code",
   "execution_count": 1,
   "metadata": {},
   "outputs": [],
   "source": [
    "import tensorflow as tf\n",
    "import numpy as np\n",
    "import matplotlib.pyplot as plt\n",
    "\n",
    "from tensorflow.keras.models import Model\n",
    "from utils import creat_datasets, reset_graph, grid_serach,  creating_val_data\n",
    "from utils import creating_train_val_test_datasets\n",
    "from layers import  bln_layer, dense_layer\n",
    "from callbacks import bln_callback , tensorboard_callback, create_callback_list, save_best_model_callback\n",
    "\n",
    "\n",
    "from tensorflow.keras.preprocessing import sequence\n",
    "from tensorflow.keras.layers import Embedding\n",
    "from tensorflow.keras.layers import LSTM\n",
    "from tensorflow.keras.datasets import imdb"
   ]
  },
  {
   "cell_type": "code",
   "execution_count": 2,
   "metadata": {},
   "outputs": [],
   "source": [
    "tf.config.experimental_run_functions_eagerly(True)"
   ]
  },
  {
   "cell_type": "code",
   "execution_count": 3,
   "metadata": {},
   "outputs": [
    {
     "data": {
      "text/plain": [
       "'2.1.0'"
      ]
     },
     "execution_count": 3,
     "metadata": {},
     "output_type": "execute_result"
    }
   ],
   "source": [
    "tf.__version__"
   ]
  },
  {
   "cell_type": "markdown",
   "metadata": {},
   "source": [
    "### Loading data"
   ]
  },
  {
   "cell_type": "code",
   "execution_count": 4,
   "metadata": {},
   "outputs": [],
   "source": [
    "random_seed = 100\n",
    "minibatch = 20\n",
    "buffersize = 60000\n",
    "number_valid_sampels = 5000 # number of validation data\n",
    "epochs = 5\n",
    "learning_rate = 0.001\n",
    "\n",
    "# 1000.0 -> 1 (all of the training dataset),  500.0 -> .5 (half of the training dataset) , 220.0-> .22 of the training dataset\n",
    "number_batches_train = 1000 # number of batches to train, each batch of size of minibatch parameter\n",
    "number_batches_valid = 50 # number of batches to validate, each batch of size of minibatch parameter\n",
    "num_classes = 1\n",
    "\n",
    "max_features = 20000\n",
    "maxlen = 80  # cut texts after this number of words (among top max_features most common words)\n"
   ]
  },
  {
   "cell_type": "code",
   "execution_count": 5,
   "metadata": {
    "scrolled": true
   },
   "outputs": [
    {
     "name": "stdout",
     "output_type": "stream",
     "text": [
      "Loading data...\n"
     ]
    },
    {
     "name": "stderr",
     "output_type": "stream",
     "text": [
      "C:\\Users\\amira\\.conda\\envs\\Normalization\\lib\\site-packages\\tensorflow_core\\python\\keras\\datasets\\imdb.py:129: VisibleDeprecationWarning: Creating an ndarray from ragged nested sequences (which is a list-or-tuple of lists-or-tuples-or ndarrays with different lengths or shapes) is deprecated. If you meant to do this, you must specify 'dtype=object' when creating the ndarray\n",
      "  x_train, y_train = np.array(xs[:idx]), np.array(labels[:idx])\n",
      "C:\\Users\\amira\\.conda\\envs\\Normalization\\lib\\site-packages\\tensorflow_core\\python\\keras\\datasets\\imdb.py:130: VisibleDeprecationWarning: Creating an ndarray from ragged nested sequences (which is a list-or-tuple of lists-or-tuples-or ndarrays with different lengths or shapes) is deprecated. If you meant to do this, you must specify 'dtype=object' when creating the ndarray\n",
      "  x_test, y_test = np.array(xs[idx:]), np.array(labels[idx:])\n"
     ]
    },
    {
     "name": "stdout",
     "output_type": "stream",
     "text": [
      "25000 train sequences\n",
      "25000 test sequences\n",
      "Pad sequences (samples x time)\n",
      "x_train shape: (25000, 80)\n",
      "x_test shape: (25000, 80)\n"
     ]
    }
   ],
   "source": [
    "print('Loading data...')\n",
    "(x_train, y_train), (x_test, y_test) = imdb.load_data(num_words=max_features)\n",
    "print(len(x_train), 'train sequences')\n",
    "print(len(x_test), 'test sequences')\n",
    "\n",
    "print('Pad sequences (samples x time)')\n",
    "x_train = sequence.pad_sequences(x_train, maxlen = maxlen)\n",
    "x_test = sequence.pad_sequences(x_test, maxlen = maxlen)\n",
    "print('x_train shape:', x_train.shape)\n",
    "print('x_test shape:', x_test.shape)"
   ]
  },
  {
   "cell_type": "code",
   "execution_count": 6,
   "metadata": {},
   "outputs": [],
   "source": [
    "x_train, y_train, x_valid, y_valid = creating_val_data(x_train, y_train,\n",
    "                                                       number_valid_sampels = number_valid_sampels,\n",
    "                                                       random_seed=random_seed)\n",
    "\n",
    "train_dataset, valid_dataset, test_dataset = creating_train_val_test_datasets(x_train, y_train,\n",
    "                                                                              x_test, y_test,\n",
    "                                                                              x_valid, y_valid, \n",
    "                                                                              minibatch = minibatch,\n",
    "                                                                              buffersize= buffersize,\n",
    "                                                                              random_seed=random_seed)"
   ]
  },
  {
   "cell_type": "code",
   "execution_count": 7,
   "metadata": {},
   "outputs": [
    {
     "data": {
      "text/plain": [
       "<PrefetchDataset shapes: ((20, 80), (20,)), types: (tf.int32, tf.int64)>"
      ]
     },
     "execution_count": 7,
     "metadata": {},
     "output_type": "execute_result"
    }
   ],
   "source": [
    "train_dataset"
   ]
  },
  {
   "cell_type": "markdown",
   "metadata": {},
   "source": [
    "# 1. Using Batch Layer Normalization Layer"
   ]
  },
  {
   "cell_type": "code",
   "execution_count": 9,
   "metadata": {},
   "outputs": [],
   "source": [
    "def BLNLayer_model(inputshape= (80), max_features = 20000, embed_size=128, random_seed = 100,\n",
    "                          lstm_unit = 128 , dense_units= 1,\n",
    "                          batch_size = 10,\n",
    "                          b_mm = True, b_mv = True,\n",
    "                          f_mm = False, f_mv = False):\n",
    "    \n",
    "\n",
    "    \n",
    "    input_lyr = tf.keras.Input(shape = inputshape, batch_size=batch_size, name = 'input')\n",
    "    \n",
    "    x = Embedding(max_features, embed_size,\n",
    "                  embeddings_initializer=tf.keras.initializers.GlorotUniform(seed=random_seed))(input_lyr)\n",
    "    \n",
    "    x = LSTM(lstm_unit, dropout=0.2, recurrent_dropout=0.2,activation='tanh',\n",
    "            recurrent_initializer = tf.keras.initializers.GlorotUniform(seed=random_seed),\n",
    "            kernel_initializer = tf.keras.initializers.GlorotUniform(seed=random_seed) ,\n",
    "            return_sequences=True)(x)\n",
    "    \n",
    "    x = bln_layer(stateful = True, batchsize= batch_size, name = 'bn1', \n",
    "                  batch_moving_mean = b_mm, batch_moving_var = b_mv,\n",
    "                  feature_moving_mean = f_mm, feature_moving_var = f_mv)(x) \n",
    "    \n",
    "    x = LSTM(lstm_unit//2, dropout=0.2,  recurrent_dropout=0.2,activation='tanh',\n",
    "            recurrent_initializer = tf.keras.initializers.GlorotUniform(seed=random_seed),\n",
    "            kernel_initializer = tf.keras.initializers.GlorotUniform(seed=random_seed) ,\n",
    "            return_sequences=False)(x)\n",
    "    \n",
    "    \n",
    "    x = bln_layer(stateful = True, batchsize= batch_size, name = 'bn2', \n",
    "                  batch_moving_mean = b_mm, batch_moving_var = b_mv,\n",
    "                  feature_moving_mean = f_mm, feature_moving_var = f_mv)(x) \n",
    "    \n",
    "    output_lyr = dense_layer(units = dense_units, name = 'dense1', random_seed=random_seed)(x)    \n",
    "    return tf.keras.Model(inputs = [input_lyr], outputs = [output_lyr])"
   ]
  },
  {
   "cell_type": "code",
   "execution_count": 10,
   "metadata": {},
   "outputs": [],
   "source": [
    "model_bln_layer = BLNLayer_model(inputshape= (80), max_features = max_features, \n",
    "                                        embed_size= 128, random_seed = random_seed,\n",
    "                                        lstm_unit = 128 , dense_units= num_classes,\n",
    "                                        batch_size = minibatch,\n",
    "                                        b_mm = True, b_mv = True,\n",
    "                                        f_mm = False, f_mv = False\n",
    "                                        )\n",
    "\n"
   ]
  },
  {
   "cell_type": "code",
   "execution_count": 11,
   "metadata": {},
   "outputs": [
    {
     "name": "stdout",
     "output_type": "stream",
     "text": [
      "Model: \"model\"\n",
      "_________________________________________________________________\n",
      "Layer (type)                 Output Shape              Param #   \n",
      "=================================================================\n",
      "input (InputLayer)           [(20, 80)]                0         \n",
      "_________________________________________________________________\n",
      "embedding (Embedding)        (20, 80, 128)             2560000   \n",
      "_________________________________________________________________\n",
      "lstm (LSTM)                  (20, 80, 128)             131584    \n",
      "_________________________________________________________________\n",
      "bn1 (bln_layer)              (20, 80, 128)             23938     \n",
      "_________________________________________________________________\n",
      "lstm_1 (LSTM)                (20, 64)                  49408     \n",
      "_________________________________________________________________\n",
      "bn2 (bln_layer)              (20, 64)                  298       \n",
      "_________________________________________________________________\n",
      "dense1 (dense_layer)         (20, 1)                   65        \n",
      "=================================================================\n",
      "Total params: 2,765,293\n",
      "Trainable params: 2,741,441\n",
      "Non-trainable params: 23,852\n",
      "_________________________________________________________________\n"
     ]
    }
   ],
   "source": [
    "model_bln_layer.summary()"
   ]
  },
  {
   "cell_type": "markdown",
   "metadata": {},
   "source": [
    "# callbacks"
   ]
  },
  {
   "cell_type": "code",
   "execution_count": 12,
   "metadata": {},
   "outputs": [],
   "source": [
    "# Callbacks for saving best model and tensorboard\n",
    "folder_name = str(number_batches_train) + '_bln_layer_TTFF_imdb'\n",
    "save_bm_cb = save_best_model_callback(folder_name)\n",
    "tb_cb = tensorboard_callback(folder_name)\n",
    "\n",
    "# Callback for resetting moving mean and variances at the end of each epoch\n",
    "bln_layer_cb = bln_callback()\n",
    "\n",
    "bln_layer_cb_list = create_callback_list(save_bm_cb, tb_cb, bln_layer_cb)"
   ]
  },
  {
   "cell_type": "code",
   "execution_count": 13,
   "metadata": {},
   "outputs": [],
   "source": [
    "model_bln_layer.compile(optimizer = tf.keras.optimizers.Adam(learning_rate=learning_rate),\n",
    "                               loss = tf.keras.losses.BinaryCrossentropy(from_logits=True),\n",
    "                               metrics = [tf.keras.metrics.BinaryAccuracy()])"
   ]
  },
  {
   "cell_type": "code",
   "execution_count": 14,
   "metadata": {
    "scrolled": false
   },
   "outputs": [
    {
     "name": "stdout",
     "output_type": "stream",
     "text": [
      "Train for 500 steps, validate for 50 steps\n",
      "Epoch 1/5\n",
      "500/500 [==============================] - 362s 724ms/step - loss: 0.5155 - binary_accuracy: 0.7265 - val_loss: 0.4525 - val_binary_accuracy: 0.7850\n",
      "Epoch 2/5\n",
      "500/500 [==============================] - 378s 756ms/step - loss: 0.3081 - binary_accuracy: 0.8715 - val_loss: 0.6340 - val_binary_accuracy: 0.7470\n",
      "Epoch 3/5\n",
      "500/500 [==============================] - 377s 755ms/step - loss: 0.1926 - binary_accuracy: 0.9290 - val_loss: 0.6061 - val_binary_accuracy: 0.7580\n",
      "Epoch 4/5\n",
      "500/500 [==============================] - 386s 773ms/step - loss: 0.1309 - binary_accuracy: 0.9518 - val_loss: 0.6262 - val_binary_accuracy: 0.7850\n",
      "Epoch 5/5\n",
      "500/500 [==============================] - 368s 736ms/step - loss: 0.1123 - binary_accuracy: 0.9571 - val_loss: 0.6651 - val_binary_accuracy: 0.7690\n"
     ]
    }
   ],
   "source": [
    "model_bln_layer_history =  model_bln_layer.fit(train_dataset.take(number_batches_train), epochs=epochs,\n",
    "                                                verbose=1, callbacks=bln_layer_cb_list,\n",
    "                                                validation_data=valid_dataset.take(number_batches_valid),\n",
    "                                                shuffle=True)"
   ]
  },
  {
   "cell_type": "code",
   "execution_count": 15,
   "metadata": {},
   "outputs": [],
   "source": [
    "weights_path = \"./models/\" + folder_name + '/'+ str(number_batches_train) +\"_pretrained_weights_TTFF.h5\"\n",
    "model_bln_layer.save_weights(weights_path)"
   ]
  },
  {
   "cell_type": "code",
   "execution_count": 16,
   "metadata": {},
   "outputs": [
    {
     "name": "stdout",
     "output_type": "stream",
     "text": [
      "session is clear\n"
     ]
    }
   ],
   "source": [
    "del model_bln_layer, save_bm_cb, tb_cb, bln_layer_cb, bln_layer_cb_list\n",
    "reset_graph()"
   ]
  },
  {
   "cell_type": "code",
   "execution_count": 17,
   "metadata": {},
   "outputs": [
    {
     "name": "stdout",
     "output_type": "stream",
     "text": [
      "1250/1250 [==============================] - 358s 286ms/step - loss: 0.6346 - binary_accuracy: 0.7854\n",
      "{'Bmm_True Bmv_True Fmm_True Fmv_True': [0.6346097180426121, 0.78536]}\n",
      "session is clear\n",
      "1250/1250 [==============================] - 362s 290ms/step - loss: 0.6411 - binary_accuracy: 0.7841\n",
      "{'Bmm_True Bmv_True Fmm_True Fmv_True': [0.6346097180426121, 0.78536], 'Bmm_True Bmv_True Fmm_True Fmv_False': [0.6410765636846423, 0.78412]}\n",
      "session is clear\n",
      "1250/1250 [==============================] - 358s 286ms/step - loss: 0.6343 - binary_accuracy: 0.7854\n",
      "{'Bmm_True Bmv_True Fmm_True Fmv_True': [0.6346097180426121, 0.78536], 'Bmm_True Bmv_True Fmm_True Fmv_False': [0.6410765636846423, 0.78412], 'Bmm_True Bmv_True Fmm_False Fmv_True': [0.6342640895679593, 0.78536]}\n",
      "session is clear\n",
      "1250/1250 [==============================] - 354s 283ms/step - loss: 0.6406 - binary_accuracy: 0.7840\n",
      "{'Bmm_True Bmv_True Fmm_True Fmv_True': [0.6346097180426121, 0.78536], 'Bmm_True Bmv_True Fmm_True Fmv_False': [0.6410765636846423, 0.78412], 'Bmm_True Bmv_True Fmm_False Fmv_True': [0.6342640895679593, 0.78536], 'Bmm_True Bmv_True Fmm_False Fmv_False': [0.6405762285396457, 0.784]}\n",
      "session is clear\n",
      "1250/1250 [==============================] - 353s 283ms/step - loss: 0.7500 - binary_accuracy: 0.7807\n",
      "{'Bmm_True Bmv_True Fmm_True Fmv_True': [0.6346097180426121, 0.78536], 'Bmm_True Bmv_True Fmm_True Fmv_False': [0.6410765636846423, 0.78412], 'Bmm_True Bmv_True Fmm_False Fmv_True': [0.6342640895679593, 0.78536], 'Bmm_True Bmv_True Fmm_False Fmv_False': [0.6405762285396457, 0.784], 'Bmm_True Bmv_False Fmm_True Fmv_True': [0.7500201662614941, 0.78072]}\n",
      "session is clear\n",
      "1250/1250 [==============================] - 353s 282ms/step - loss: 0.7575 - binary_accuracy: 0.7805\n",
      "{'Bmm_True Bmv_True Fmm_True Fmv_True': [0.6346097180426121, 0.78536], 'Bmm_True Bmv_True Fmm_True Fmv_False': [0.6410765636846423, 0.78412], 'Bmm_True Bmv_True Fmm_False Fmv_True': [0.6342640895679593, 0.78536], 'Bmm_True Bmv_True Fmm_False Fmv_False': [0.6405762285396457, 0.784], 'Bmm_True Bmv_False Fmm_True Fmv_True': [0.7500201662614941, 0.78072], 'Bmm_True Bmv_False Fmm_True Fmv_False': [0.7574760594069958, 0.78048]}\n",
      "session is clear\n",
      "1250/1250 [==============================] - 354s 283ms/step - loss: 0.7496 - binary_accuracy: 0.7807\n",
      "{'Bmm_True Bmv_True Fmm_True Fmv_True': [0.6346097180426121, 0.78536], 'Bmm_True Bmv_True Fmm_True Fmv_False': [0.6410765636846423, 0.78412], 'Bmm_True Bmv_True Fmm_False Fmv_True': [0.6342640895679593, 0.78536], 'Bmm_True Bmv_True Fmm_False Fmv_False': [0.6405762285396457, 0.784], 'Bmm_True Bmv_False Fmm_True Fmv_True': [0.7500201662614941, 0.78072], 'Bmm_True Bmv_False Fmm_True Fmv_False': [0.7574760594069958, 0.78048], 'Bmm_True Bmv_False Fmm_False Fmv_True': [0.7495505352556705, 0.78072]}\n",
      "session is clear\n",
      "1250/1250 [==============================] - 353s 282ms/step - loss: 0.7568 - binary_accuracy: 0.7804\n",
      "{'Bmm_True Bmv_True Fmm_True Fmv_True': [0.6346097180426121, 0.78536], 'Bmm_True Bmv_True Fmm_True Fmv_False': [0.6410765636846423, 0.78412], 'Bmm_True Bmv_True Fmm_False Fmv_True': [0.6342640895679593, 0.78536], 'Bmm_True Bmv_True Fmm_False Fmv_False': [0.6405762285396457, 0.784], 'Bmm_True Bmv_False Fmm_True Fmv_True': [0.7500201662614941, 0.78072], 'Bmm_True Bmv_False Fmm_True Fmv_False': [0.7574760594069958, 0.78048], 'Bmm_True Bmv_False Fmm_False Fmv_True': [0.7495505352556705, 0.78072], 'Bmm_True Bmv_False Fmm_False Fmv_False': [0.7568002015382052, 0.78044]}\n",
      "session is clear\n",
      "1250/1250 [==============================] - 353s 282ms/step - loss: 0.6248 - binary_accuracy: 0.7759\n",
      "{'Bmm_True Bmv_True Fmm_True Fmv_True': [0.6346097180426121, 0.78536], 'Bmm_True Bmv_True Fmm_True Fmv_False': [0.6410765636846423, 0.78412], 'Bmm_True Bmv_True Fmm_False Fmv_True': [0.6342640895679593, 0.78536], 'Bmm_True Bmv_True Fmm_False Fmv_False': [0.6405762285396457, 0.784], 'Bmm_True Bmv_False Fmm_True Fmv_True': [0.7500201662614941, 0.78072], 'Bmm_True Bmv_False Fmm_True Fmv_False': [0.7574760594069958, 0.78048], 'Bmm_True Bmv_False Fmm_False Fmv_True': [0.7495505352556705, 0.78072], 'Bmm_True Bmv_False Fmm_False Fmv_False': [0.7568002015382052, 0.78044], 'Bmm_False Bmv_True Fmm_True Fmv_True': [0.6248436477184296, 0.77592]}\n",
      "session is clear\n",
      "1250/1250 [==============================] - 353s 282ms/step - loss: 0.6315 - binary_accuracy: 0.7758\n",
      "{'Bmm_True Bmv_True Fmm_True Fmv_True': [0.6346097180426121, 0.78536], 'Bmm_True Bmv_True Fmm_True Fmv_False': [0.6410765636846423, 0.78412], 'Bmm_True Bmv_True Fmm_False Fmv_True': [0.6342640895679593, 0.78536], 'Bmm_True Bmv_True Fmm_False Fmv_False': [0.6405762285396457, 0.784], 'Bmm_True Bmv_False Fmm_True Fmv_True': [0.7500201662614941, 0.78072], 'Bmm_True Bmv_False Fmm_True Fmv_False': [0.7574760594069958, 0.78048], 'Bmm_True Bmv_False Fmm_False Fmv_True': [0.7495505352556705, 0.78072], 'Bmm_True Bmv_False Fmm_False Fmv_False': [0.7568002015382052, 0.78044], 'Bmm_False Bmv_True Fmm_True Fmv_True': [0.6248436477184296, 0.77592], 'Bmm_False Bmv_True Fmm_True Fmv_False': [0.6314860007792711, 0.7758]}\n",
      "session is clear\n",
      "1250/1250 [==============================] - 354s 283ms/step - loss: 0.6244 - binary_accuracy: 0.7760\n",
      "{'Bmm_True Bmv_True Fmm_True Fmv_True': [0.6346097180426121, 0.78536], 'Bmm_True Bmv_True Fmm_True Fmv_False': [0.6410765636846423, 0.78412], 'Bmm_True Bmv_True Fmm_False Fmv_True': [0.6342640895679593, 0.78536], 'Bmm_True Bmv_True Fmm_False Fmv_False': [0.6405762285396457, 0.784], 'Bmm_True Bmv_False Fmm_True Fmv_True': [0.7500201662614941, 0.78072], 'Bmm_True Bmv_False Fmm_True Fmv_False': [0.7574760594069958, 0.78048], 'Bmm_True Bmv_False Fmm_False Fmv_True': [0.7495505352556705, 0.78072], 'Bmm_True Bmv_False Fmm_False Fmv_False': [0.7568002015382052, 0.78044], 'Bmm_False Bmv_True Fmm_True Fmv_True': [0.6248436477184296, 0.77592], 'Bmm_False Bmv_True Fmm_True Fmv_False': [0.6314860007792711, 0.7758], 'Bmm_False Bmv_True Fmm_False Fmv_True': [0.6244417284399271, 0.776]}\n",
      "session is clear\n",
      "1250/1250 [==============================] - 355s 284ms/step - loss: 0.6308 - binary_accuracy: 0.7760\n",
      "{'Bmm_True Bmv_True Fmm_True Fmv_True': [0.6346097180426121, 0.78536], 'Bmm_True Bmv_True Fmm_True Fmv_False': [0.6410765636846423, 0.78412], 'Bmm_True Bmv_True Fmm_False Fmv_True': [0.6342640895679593, 0.78536], 'Bmm_True Bmv_True Fmm_False Fmv_False': [0.6405762285396457, 0.784], 'Bmm_True Bmv_False Fmm_True Fmv_True': [0.7500201662614941, 0.78072], 'Bmm_True Bmv_False Fmm_True Fmv_False': [0.7574760594069958, 0.78048], 'Bmm_True Bmv_False Fmm_False Fmv_True': [0.7495505352556705, 0.78072], 'Bmm_True Bmv_False Fmm_False Fmv_False': [0.7568002015382052, 0.78044], 'Bmm_False Bmv_True Fmm_True Fmv_True': [0.6248436477184296, 0.77592], 'Bmm_False Bmv_True Fmm_True Fmv_False': [0.6314860007792711, 0.7758], 'Bmm_False Bmv_True Fmm_False Fmv_True': [0.6244417284399271, 0.776], 'Bmm_False Bmv_True Fmm_False Fmv_False': [0.6308254452496767, 0.77596]}\n",
      "session is clear\n",
      "1250/1250 [==============================] - 353s 283ms/step - loss: 0.7365 - binary_accuracy: 0.7725\n",
      "{'Bmm_True Bmv_True Fmm_True Fmv_True': [0.6346097180426121, 0.78536], 'Bmm_True Bmv_True Fmm_True Fmv_False': [0.6410765636846423, 0.78412], 'Bmm_True Bmv_True Fmm_False Fmv_True': [0.6342640895679593, 0.78536], 'Bmm_True Bmv_True Fmm_False Fmv_False': [0.6405762285396457, 0.784], 'Bmm_True Bmv_False Fmm_True Fmv_True': [0.7500201662614941, 0.78072], 'Bmm_True Bmv_False Fmm_True Fmv_False': [0.7574760594069958, 0.78048], 'Bmm_True Bmv_False Fmm_False Fmv_True': [0.7495505352556705, 0.78072], 'Bmm_True Bmv_False Fmm_False Fmv_False': [0.7568002015382052, 0.78044], 'Bmm_False Bmv_True Fmm_True Fmv_True': [0.6248436477184296, 0.77592], 'Bmm_False Bmv_True Fmm_True Fmv_False': [0.6314860007792711, 0.7758], 'Bmm_False Bmv_True Fmm_False Fmv_True': [0.6244417284399271, 0.776], 'Bmm_False Bmv_True Fmm_False Fmv_False': [0.6308254452496767, 0.77596], 'Bmm_False Bmv_False Fmm_True Fmv_True': [0.7364888896733522, 0.77248]}\n",
      "session is clear\n",
      "1250/1250 [==============================] - 352s 282ms/step - loss: 0.7442 - binary_accuracy: 0.7722\n",
      "{'Bmm_True Bmv_True Fmm_True Fmv_True': [0.6346097180426121, 0.78536], 'Bmm_True Bmv_True Fmm_True Fmv_False': [0.6410765636846423, 0.78412], 'Bmm_True Bmv_True Fmm_False Fmv_True': [0.6342640895679593, 0.78536], 'Bmm_True Bmv_True Fmm_False Fmv_False': [0.6405762285396457, 0.784], 'Bmm_True Bmv_False Fmm_True Fmv_True': [0.7500201662614941, 0.78072], 'Bmm_True Bmv_False Fmm_True Fmv_False': [0.7574760594069958, 0.78048], 'Bmm_True Bmv_False Fmm_False Fmv_True': [0.7495505352556705, 0.78072], 'Bmm_True Bmv_False Fmm_False Fmv_False': [0.7568002015382052, 0.78044], 'Bmm_False Bmv_True Fmm_True Fmv_True': [0.6248436477184296, 0.77592], 'Bmm_False Bmv_True Fmm_True Fmv_False': [0.6314860007792711, 0.7758], 'Bmm_False Bmv_True Fmm_False Fmv_True': [0.6244417284399271, 0.776], 'Bmm_False Bmv_True Fmm_False Fmv_False': [0.6308254452496767, 0.77596], 'Bmm_False Bmv_False Fmm_True Fmv_True': [0.7364888896733522, 0.77248], 'Bmm_False Bmv_False Fmm_True Fmv_False': [0.744176055303216, 0.77216]}\n",
      "session is clear\n"
     ]
    },
    {
     "name": "stdout",
     "output_type": "stream",
     "text": [
      "1250/1250 [==============================] - 352s 282ms/step - loss: 0.7360 - binary_accuracy: 0.7726\n",
      "{'Bmm_True Bmv_True Fmm_True Fmv_True': [0.6346097180426121, 0.78536], 'Bmm_True Bmv_True Fmm_True Fmv_False': [0.6410765636846423, 0.78412], 'Bmm_True Bmv_True Fmm_False Fmv_True': [0.6342640895679593, 0.78536], 'Bmm_True Bmv_True Fmm_False Fmv_False': [0.6405762285396457, 0.784], 'Bmm_True Bmv_False Fmm_True Fmv_True': [0.7500201662614941, 0.78072], 'Bmm_True Bmv_False Fmm_True Fmv_False': [0.7574760594069958, 0.78048], 'Bmm_True Bmv_False Fmm_False Fmv_True': [0.7495505352556705, 0.78072], 'Bmm_True Bmv_False Fmm_False Fmv_False': [0.7568002015382052, 0.78044], 'Bmm_False Bmv_True Fmm_True Fmv_True': [0.6248436477184296, 0.77592], 'Bmm_False Bmv_True Fmm_True Fmv_False': [0.6314860007792711, 0.7758], 'Bmm_False Bmv_True Fmm_False Fmv_True': [0.6244417284399271, 0.776], 'Bmm_False Bmv_True Fmm_False Fmv_False': [0.6308254452496767, 0.77596], 'Bmm_False Bmv_False Fmm_True Fmv_True': [0.7364888896733522, 0.77248], 'Bmm_False Bmv_False Fmm_True Fmv_False': [0.744176055303216, 0.77216], 'Bmm_False Bmv_False Fmm_False Fmv_True': [0.7359723214775323, 0.77256]}\n",
      "session is clear\n",
      "1250/1250 [==============================] - 352s 282ms/step - loss: 0.7434 - binary_accuracy: 0.7721\n",
      "{'Bmm_True Bmv_True Fmm_True Fmv_True': [0.6346097180426121, 0.78536], 'Bmm_True Bmv_True Fmm_True Fmv_False': [0.6410765636846423, 0.78412], 'Bmm_True Bmv_True Fmm_False Fmv_True': [0.6342640895679593, 0.78536], 'Bmm_True Bmv_True Fmm_False Fmv_False': [0.6405762285396457, 0.784], 'Bmm_True Bmv_False Fmm_True Fmv_True': [0.7500201662614941, 0.78072], 'Bmm_True Bmv_False Fmm_True Fmv_False': [0.7574760594069958, 0.78048], 'Bmm_True Bmv_False Fmm_False Fmv_True': [0.7495505352556705, 0.78072], 'Bmm_True Bmv_False Fmm_False Fmv_False': [0.7568002015382052, 0.78044], 'Bmm_False Bmv_True Fmm_True Fmv_True': [0.6248436477184296, 0.77592], 'Bmm_False Bmv_True Fmm_True Fmv_False': [0.6314860007792711, 0.7758], 'Bmm_False Bmv_True Fmm_False Fmv_True': [0.6244417284399271, 0.776], 'Bmm_False Bmv_True Fmm_False Fmv_False': [0.6308254452496767, 0.77596], 'Bmm_False Bmv_False Fmm_True Fmv_True': [0.7364888896733522, 0.77248], 'Bmm_False Bmv_False Fmm_True Fmv_False': [0.744176055303216, 0.77216], 'Bmm_False Bmv_False Fmm_False Fmv_True': [0.7359723214775323, 0.77256], 'Bmm_False Bmv_False Fmm_False Fmv_False': [0.7433640133857727, 0.77212]}\n",
      "session is clear\n"
     ]
    }
   ],
   "source": [
    "save_eval_path = \"./logs/\" + folder_name + '/'+ str(number_batches_train) +\"_sorted_evaluation.pkl\"\n",
    "evaluation = grid_serach(BLNLayer_model, test_dataset,\n",
    "                         batch_size = minibatch, sort=True,\n",
    "                         save_eval_path = save_eval_path,\n",
    "                         weights_path = weights_path,\n",
    "                         loss = tf.keras.losses.BinaryCrossentropy(from_logits=True),\n",
    "                         metrics = tf.keras.metrics.BinaryAccuracy())\n",
    "\n"
   ]
  },
  {
   "cell_type": "code",
   "execution_count": 2,
   "metadata": {},
   "outputs": [
    {
     "data": {
      "text/plain": [
       "[('Bmm_False Bmv_True Fmm_False Fmv_True', [0.6244417284399271, 0.791]),\n",
       " ('Bmm_False Bmv_True Fmm_True Fmv_True', [0.6248436477184296, 0.77592]),\n",
       " ('Bmm_False Bmv_True Fmm_False Fmv_False', [0.6308254452496767, 0.77596]),\n",
       " ('Bmm_False Bmv_True Fmm_True Fmv_False', [0.6314860007792711, 0.7758]),\n",
       " ('Bmm_True Bmv_True Fmm_False Fmv_True', [0.6342640895679593, 0.78536]),\n",
       " ('Bmm_True Bmv_True Fmm_True Fmv_True', [0.6346097180426121, 0.78536]),\n",
       " ('Bmm_True Bmv_True Fmm_False Fmv_False', [0.6405762285396457, 0.784]),\n",
       " ('Bmm_True Bmv_True Fmm_True Fmv_False', [0.6410765636846423, 0.78412]),\n",
       " ('Bmm_False Bmv_False Fmm_False Fmv_True', [0.7359723214775323, 0.77256]),\n",
       " ('Bmm_False Bmv_False Fmm_True Fmv_True', [0.7364888896733522, 0.77248]),\n",
       " ('Bmm_False Bmv_False Fmm_False Fmv_False', [0.7433640133857727, 0.77212]),\n",
       " ('Bmm_False Bmv_False Fmm_True Fmv_False', [0.744176055303216, 0.77216]),\n",
       " ('Bmm_True Bmv_False Fmm_False Fmv_True', [0.7495505352556705, 0.78072]),\n",
       " ('Bmm_True Bmv_False Fmm_True Fmv_True', [0.7500201662614941, 0.78072]),\n",
       " ('Bmm_True Bmv_False Fmm_False Fmv_False', [0.7568002015382052, 0.78044]),\n",
       " ('Bmm_True Bmv_False Fmm_True Fmv_False', [0.7574760594069958, 0.78048])]"
      ]
     },
     "execution_count": 2,
     "metadata": {},
     "output_type": "execute_result"
    }
   ],
   "source": [
    "evaluation "
   ]
  },
  {
   "cell_type": "markdown",
   "metadata": {},
   "source": [
    "# 2.Using  Batch Normalization implemented in Keras"
   ]
  },
  {
   "cell_type": "code",
   "execution_count": 25,
   "metadata": {},
   "outputs": [],
   "source": [
    "def bn_keras_model(inputshape= (80), max_features = 20000, embed_size=128, random_seed = 100,\n",
    "                          lstm_unit = 128 , dense_units= 1,\n",
    "                          batch_size = 60):\n",
    "    \n",
    "\n",
    "    \n",
    "    input_lyr = tf.keras.Input(shape = inputshape, batch_size=batch_size, name = 'input')\n",
    "    \n",
    "    x = Embedding(max_features, embed_size,\n",
    "                  embeddings_initializer=tf.keras.initializers.GlorotUniform(seed=random_seed))(input_lyr)\n",
    "    \n",
    "    x = LSTM(lstm_unit, dropout=0.2, recurrent_dropout=0.2, activation='tanh',\n",
    "            recurrent_initializer = tf.keras.initializers.GlorotUniform(seed=random_seed),\n",
    "            kernel_initializer = tf.keras.initializers.GlorotUniform(seed=random_seed) ,\n",
    "            return_sequences=True)(x)\n",
    "    \n",
    "    x =  tf.keras.layers.BatchNormalization(momentum = 0.99,  name = 'bn1') (x) \n",
    "    \n",
    "    x = LSTM(lstm_unit//2, dropout=0.2,  recurrent_dropout=0.2, activation='tanh',\n",
    "            recurrent_initializer = tf.keras.initializers.GlorotUniform(seed=random_seed),\n",
    "            kernel_initializer = tf.keras.initializers.GlorotUniform(seed=random_seed) ,\n",
    "            return_sequences=False)(x)\n",
    "    \n",
    "    x =  tf.keras.layers.BatchNormalization(momentum = 0.99,  name = 'bn2') (x) \n",
    "\n",
    "    \n",
    "    output_lyr = dense_layer(units = dense_units, name = 'dense1', random_seed=random_seed)(x)    \n",
    "    return tf.keras.Model(inputs = [input_lyr], outputs = [output_lyr])\n"
   ]
  },
  {
   "cell_type": "code",
   "execution_count": 26,
   "metadata": {},
   "outputs": [
    {
     "name": "stdout",
     "output_type": "stream",
     "text": [
      "Model: \"model\"\n",
      "_________________________________________________________________\n",
      "Layer (type)                 Output Shape              Param #   \n",
      "=================================================================\n",
      "input (InputLayer)           [(20, 80)]                0         \n",
      "_________________________________________________________________\n",
      "embedding (Embedding)        (20, 80, 128)             2560000   \n",
      "_________________________________________________________________\n",
      "lstm (LSTM)                  (20, 80, 128)             131584    \n",
      "_________________________________________________________________\n",
      "bn1 (BatchNormalization)     (20, 80, 128)             512       \n",
      "_________________________________________________________________\n",
      "lstm_1 (LSTM)                (20, 64)                  49408     \n",
      "_________________________________________________________________\n",
      "bn2 (BatchNormalization)     (20, 64)                  256       \n",
      "_________________________________________________________________\n",
      "dense1 (dense_layer)         (20, 1)                   65        \n",
      "=================================================================\n",
      "Total params: 2,741,825\n",
      "Trainable params: 2,741,441\n",
      "Non-trainable params: 384\n",
      "_________________________________________________________________\n"
     ]
    }
   ],
   "source": [
    "model_bn_keras = bn_keras_model(inputshape= (80), max_features = max_features, \n",
    "                                embed_size= 128, random_seed = random_seed,\n",
    "                                lstm_unit = 128 , dense_units= num_classes,\n",
    "                                batch_size = minibatch)\n",
    "model_bn_keras.summary()\n",
    "\n",
    "#### Compiling \n",
    "model_bn_keras.compile(optimizer = tf.keras.optimizers.Adam(learning_rate=learning_rate),\n",
    "                       loss = tf.keras.losses.BinaryCrossentropy(from_logits=True),\n",
    "                       metrics = [tf.keras.metrics.BinaryAccuracy()])"
   ]
  },
  {
   "cell_type": "code",
   "execution_count": 27,
   "metadata": {},
   "outputs": [],
   "source": [
    "# Callbacks for saving best model and tensorboard\n",
    "folder_name = str(number_batches_train) + '_bn_Keras_imdb'\n",
    "save_bm_cb = save_best_model_callback(folder_name)\n",
    "tb_cb = tensorboard_callback(folder_name)\n",
    "\n",
    "\n",
    "bn_keras_cb_list = [save_bm_cb, tb_cb]"
   ]
  },
  {
   "cell_type": "code",
   "execution_count": 28,
   "metadata": {},
   "outputs": [
    {
     "name": "stdout",
     "output_type": "stream",
     "text": [
      "Train for 500 steps, validate for 50 steps\n",
      "Epoch 1/5\n",
      "500/500 [==============================] - 370s 740ms/step - loss: 0.5463 - binary_accuracy: 0.7076 - val_loss: 0.6746 - val_binary_accuracy: 0.7100\n",
      "Epoch 2/5\n",
      "500/500 [==============================] - 388s 775ms/step - loss: 0.3608 - binary_accuracy: 0.8364 - val_loss: 0.5634 - val_binary_accuracy: 0.7370\n",
      "Epoch 3/5\n",
      "500/500 [==============================] - 391s 782ms/step - loss: 0.2392 - binary_accuracy: 0.9034 - val_loss: 0.6374 - val_binary_accuracy: 0.7780\n",
      "Epoch 4/5\n",
      "500/500 [==============================] - 364s 727ms/step - loss: 0.1690 - binary_accuracy: 0.9351 - val_loss: 0.6599 - val_binary_accuracy: 0.7680\n",
      "Epoch 5/5\n",
      "500/500 [==============================] - 361s 721ms/step - loss: 0.1236 - binary_accuracy: 0.9551 - val_loss: 0.7111 - val_binary_accuracy: 0.7790\n"
     ]
    }
   ],
   "source": [
    "model_bn_keras_history =  model_bn_keras.fit(train_dataset.take(number_batches_train),\n",
    "                                             epochs = epochs, verbose=1, \n",
    "                                             callbacks = bn_keras_cb_list,\n",
    "                                             validation_data = valid_dataset.take(number_batches_valid),\n",
    "                                             shuffle = True)"
   ]
  },
  {
   "cell_type": "code",
   "execution_count": 29,
   "metadata": {},
   "outputs": [
    {
     "name": "stdout",
     "output_type": "stream",
     "text": [
      "1250/1250 [==============================] - 364s 291ms/step - loss: 0.6873 - binary_accuracy: 0.7731\n"
     ]
    },
    {
     "data": {
      "text/plain": [
       "[0.6872664474546909, 0.77312]"
      ]
     },
     "execution_count": 29,
     "metadata": {},
     "output_type": "execute_result"
    }
   ],
   "source": [
    "model_bn_keras_test_history = model_bn_keras.evaluate(test_dataset)"
   ]
  },
  {
   "cell_type": "code",
   "execution_count": null,
   "metadata": {},
   "outputs": [],
   "source": [
    "del model_bn_keras, save_bm_cb, tb_cb, bn_keras_cb_list \n",
    "reset_graph()"
   ]
  },
  {
   "cell_type": "markdown",
   "metadata": {},
   "source": [
    "# 3.Using  Layer normalization  implemented in Keras\n"
   ]
  },
  {
   "cell_type": "code",
   "execution_count": 31,
   "metadata": {},
   "outputs": [],
   "source": [
    "def ln_keras_model(inputshape= (80), max_features = 20000, embed_size=128, random_seed = 100,\n",
    "                          lstm_unit = 128 , dense_units= 1,\n",
    "                          batch_size = 60):\n",
    "    \n",
    "\n",
    "    \n",
    "    input_lyr = tf.keras.Input(shape = inputshape, batch_size=batch_size, name = 'input')\n",
    "    \n",
    "    x = Embedding(max_features, embed_size,\n",
    "                  embeddings_initializer=tf.keras.initializers.GlorotUniform(seed=random_seed))(input_lyr)\n",
    "    \n",
    "    x = LSTM(lstm_unit, dropout=0.2, recurrent_dropout=0.2, activation='tanh',\n",
    "            recurrent_initializer = tf.keras.initializers.GlorotUniform(seed=random_seed),\n",
    "            kernel_initializer = tf.keras.initializers.GlorotUniform(seed=random_seed) ,\n",
    "            return_sequences=True)(x)\n",
    "    \n",
    "    x =  tf.keras.layers.LayerNormalization()(x) \n",
    "\n",
    "    x = LSTM(lstm_unit//2, dropout=0.2,  recurrent_dropout=0.2, activation='tanh',\n",
    "            recurrent_initializer = tf.keras.initializers.GlorotUniform(seed=random_seed),\n",
    "            kernel_initializer = tf.keras.initializers.GlorotUniform(seed=random_seed) ,\n",
    "            return_sequences=False)(x)\n",
    "    \n",
    "    x =  tf.keras.layers.LayerNormalization()(x) \n",
    "\n",
    "    \n",
    "    output_lyr = dense_layer(units = dense_units, name = 'dense1', random_seed=random_seed)(x)    \n",
    "    return tf.keras.Model(inputs = [input_lyr], outputs = [output_lyr])\n",
    "\n"
   ]
  },
  {
   "cell_type": "code",
   "execution_count": 32,
   "metadata": {},
   "outputs": [
    {
     "name": "stdout",
     "output_type": "stream",
     "text": [
      "Model: \"model\"\n",
      "_________________________________________________________________\n",
      "Layer (type)                 Output Shape              Param #   \n",
      "=================================================================\n",
      "input (InputLayer)           [(20, 80)]                0         \n",
      "_________________________________________________________________\n",
      "embedding (Embedding)        (20, 80, 128)             2560000   \n",
      "_________________________________________________________________\n",
      "lstm (LSTM)                  (20, 80, 128)             131584    \n",
      "_________________________________________________________________\n",
      "layer_normalization (LayerNo (20, 80, 128)             256       \n",
      "_________________________________________________________________\n",
      "lstm_1 (LSTM)                (20, 64)                  49408     \n",
      "_________________________________________________________________\n",
      "layer_normalization_1 (Layer (20, 64)                  128       \n",
      "_________________________________________________________________\n",
      "dense1 (dense_layer)         (20, 1)                   65        \n",
      "=================================================================\n",
      "Total params: 2,741,441\n",
      "Trainable params: 2,741,441\n",
      "Non-trainable params: 0\n",
      "_________________________________________________________________\n"
     ]
    }
   ],
   "source": [
    "model_ln_keras = ln_keras_model(inputshape= (80), max_features = max_features, \n",
    "                                embed_size= 128, random_seed = random_seed,\n",
    "                                lstm_unit = 128 , dense_units= num_classes,\n",
    "                                batch_size = minibatch)\n",
    "model_ln_keras.summary()\n",
    "\n",
    "#### Compiling \n",
    "model_ln_keras.compile(optimizer = tf.keras.optimizers.Adam(learning_rate=learning_rate),\n",
    "                       loss = tf.keras.losses.BinaryCrossentropy(from_logits=True),\n",
    "                       metrics = [tf.keras.metrics.BinaryAccuracy()])"
   ]
  },
  {
   "cell_type": "code",
   "execution_count": 33,
   "metadata": {},
   "outputs": [],
   "source": [
    "# Callbacks for saving best model and tensorboard\n",
    "folder_name = str(number_batches_train) + '_ln_Keras_imdb'\n",
    "save_bm_cb = save_best_model_callback(folder_name)\n",
    "tb_cb = tensorboard_callback(folder_name)\n",
    "\n",
    "ln_keras_cb_list = [save_bm_cb, tb_cb]"
   ]
  },
  {
   "cell_type": "code",
   "execution_count": 34,
   "metadata": {},
   "outputs": [
    {
     "name": "stdout",
     "output_type": "stream",
     "text": [
      "Train for 500 steps, validate for 50 steps\n",
      "Epoch 1/5\n",
      "500/500 [==============================] - 362s 724ms/step - loss: 0.5407 - binary_accuracy: 0.7026 - val_loss: 0.4623 - val_binary_accuracy: 0.7580\n",
      "Epoch 2/5\n",
      "500/500 [==============================] - 361s 723ms/step - loss: 0.2711 - binary_accuracy: 0.8874 - val_loss: 0.4589 - val_binary_accuracy: 0.7840\n",
      "Epoch 3/5\n",
      "500/500 [==============================] - 367s 734ms/step - loss: 0.1751 - binary_accuracy: 0.9326 - val_loss: 0.4799 - val_binary_accuracy: 0.7950\n",
      "Epoch 4/5\n",
      "500/500 [==============================] - 373s 746ms/step - loss: 0.1174 - binary_accuracy: 0.9566 - val_loss: 0.5854 - val_binary_accuracy: 0.7640\n",
      "Epoch 5/5\n",
      "500/500 [==============================] - 360s 720ms/step - loss: 0.0799 - binary_accuracy: 0.9716 - val_loss: 0.6458 - val_binary_accuracy: 0.7900\n"
     ]
    }
   ],
   "source": [
    "model_ln_keras_history =  model_ln_keras.fit(train_dataset.take(number_batches_train),\n",
    "                                             epochs=epochs, verbose=1, \n",
    "                                             callbacks=ln_keras_cb_list,\n",
    "                                             validation_data=valid_dataset.take(number_batches_valid),\n",
    "                                             shuffle=True)"
   ]
  },
  {
   "cell_type": "code",
   "execution_count": 35,
   "metadata": {},
   "outputs": [
    {
     "name": "stdout",
     "output_type": "stream",
     "text": [
      "1250/1250 [==============================] - 368s 294ms/step - loss: 0.6488 - binary_accuracy: 0.7826\n"
     ]
    },
    {
     "data": {
      "text/plain": [
       "[0.6487908877536654, 0.7826]"
      ]
     },
     "execution_count": 35,
     "metadata": {},
     "output_type": "execute_result"
    }
   ],
   "source": [
    "model_ln_keras_test_history = model_ln_keras.evaluate(test_dataset)"
   ]
  },
  {
   "cell_type": "code",
   "execution_count": 36,
   "metadata": {},
   "outputs": [
    {
     "name": "stdout",
     "output_type": "stream",
     "text": [
      "session is clear\n"
     ]
    }
   ],
   "source": [
    "del model_ln_keras,save_bm_cb, ln_keras_cb_list\n",
    "reset_graph()"
   ]
  },
  {
   "cell_type": "markdown",
   "metadata": {},
   "source": [
    "# 4. Make Comaprison \n",
    "#### Layer Normalization, Batch Normalization and Batch Layer Normalization\n"
   ]
  },
  {
   "cell_type": "code",
   "execution_count": 60,
   "metadata": {},
   "outputs": [
    {
     "name": "stdout",
     "output_type": "stream",
     "text": [
      "dict_keys(['loss', 'binary_accuracy', 'val_loss', 'val_binary_accuracy'])\n"
     ]
    },
    {
     "data": {
      "image/png": "[encoded data removed]",
      "text/plain": [
       "<Figure size 432x288 with 1 Axes>"
      ]
     },
     "metadata": {
      "needs_background": "light"
     },
     "output_type": "display_data"
    },
    {
     "data": {
      "image/png": "[encoded data removed]",
      "text/plain": [
       "<Figure size 432x288 with 1 Axes>"
      ]
     },
     "metadata": {
      "needs_background": "light"
     },
     "output_type": "display_data"
    }
   ],
   "source": [
    "# list all data in history\n",
    "print(model_ln_keras_history.history.keys())\n",
    "# summarize history for accuracy\n",
    "\n",
    "\n",
    "plt.figsize=(12, 12)\n",
    "plt.plot(model_ln_keras_history.history['val_loss'])\n",
    "plt.plot(model_bn_keras_history.history['val_loss'])\n",
    "plt.plot(model_bln_layer_history.history['val_loss'])\n",
    "plt.scatter(4, model_ln_keras_test_history[0], s=80,  marker=(5, 2))\n",
    "plt.scatter(4, model_bn_keras_test_history[0], s=80,  marker=(5, 2))\n",
    "plt.scatter(4,evaluation[0][1][0], s=80,  marker=(5, 2))\n",
    "plt.xticks(np.arange(0, 5, 1))\n",
    "\n",
    "plt.title('model validation loss')\n",
    "plt.ylabel('validation loss',fontsize=14)\n",
    "plt.xlabel('epoch',fontsize=14)\n",
    "plt.legend(['Layer Normalization', 'Batch Normalization','Batch Layer Normalization' ], loc='upper left')\n",
    "ax = plt.gca()\n",
    "ax.text(0.3,0.05,'Stars showing loss on test set',transform=ax.transAxes, bbox=dict(facecolor='none',edgecolor='black',boxstyle='square'))\n",
    "plt.show()\n",
    "\n",
    "\n",
    "plt.plot(model_ln_keras_history.history['val_binary_accuracy'])\n",
    "plt.plot(model_bn_keras_history.history['val_binary_accuracy'])\n",
    "plt.plot(model_bln_layer_history.history['val_binary_accuracy'])\n",
    "plt.scatter(4, model_ln_keras_test_history[1], s=80,  marker=(5, 2))\n",
    "plt.scatter(4, model_bn_keras_test_history[1], s=80,  marker=(5, 2))\n",
    "plt.scatter(4, evaluation[0][1][1], s=80,  marker=(5, 2))\n",
    "#plt.xticks(np.arange(0, 5, 1))\n",
    "#plt.yticks(np.arange(0.2, .6, .05))\n",
    "\n",
    "plt.title('model validation accuracy')\n",
    "plt.ylabel('validation accuracy', fontsize=14)\n",
    "plt.xlabel('epoch',fontsize=14)\n",
    "plt.legend(['Layer Normalization', 'Batch Normalization','Batch Layer Normalization' ], loc='upper left')\n",
    "ax = plt.gca()\n",
    "ax.text(0.3,0.05,'Stars showing accuracy on test set',transform=ax.transAxes, bbox=dict(facecolor='none',edgecolor='black',boxstyle='square'))\n",
    "plt.show()\n",
    "\n"
   ]
  }
 ],
 "metadata": {
  "kernelspec": {
   "display_name": "Python 3",
   "language": "python",
   "name": "python3"
  },
  "language_info": {
   "codemirror_mode": {
    "name": "ipython",
    "version": 3
   },
   "file_extension": ".py",
   "mimetype": "text/x-python",
   "name": "python",
   "nbconvert_exporter": "python",
   "pygments_lexer": "ipython3",
   "version": "3.6.13"
  }
 },
 "nbformat": 4,
 "nbformat_minor": 4
}
