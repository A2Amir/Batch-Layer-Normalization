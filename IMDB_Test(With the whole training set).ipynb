{
 "cells": [
  {
   "cell_type": "code",
   "execution_count": 1,
   "metadata": {},
   "outputs": [],
   "source": [
    "import tensorflow as tf\n",
    "import numpy as np\n",
    "import matplotlib.pyplot as plt\n",
    "\n",
    "from tensorflow.keras.models import Model\n",
    "from utils import creat_datasets, reset_graph, grid_serach,  creating_val_data\n",
    "from utils import creating_train_val_test_datasets\n",
    "from layers import  bln_layer, dense_layer\n",
    "from callbacks import bln_callback , tensorboard_callback, create_callback_list, save_best_model_callback\n",
    "\n",
    "\n",
    "from tensorflow.keras.preprocessing import sequence\n",
    "from tensorflow.keras.layers import Embedding\n",
    "from tensorflow.keras.layers import LSTM\n",
    "from tensorflow.keras.datasets import imdb"
   ]
  },
  {
   "cell_type": "code",
   "execution_count": 2,
   "metadata": {},
   "outputs": [],
   "source": [
    "tf.config.experimental_run_functions_eagerly(True)"
   ]
  },
  {
   "cell_type": "code",
   "execution_count": 3,
   "metadata": {},
   "outputs": [
    {
     "data": {
      "text/plain": [
       "'2.1.0'"
      ]
     },
     "execution_count": 3,
     "metadata": {},
     "output_type": "execute_result"
    }
   ],
   "source": [
    "tf.__version__"
   ]
  },
  {
   "cell_type": "markdown",
   "metadata": {},
   "source": [
    "### Loading data"
   ]
  },
  {
   "cell_type": "code",
   "execution_count": 4,
   "metadata": {},
   "outputs": [],
   "source": [
    "random_seed = 100\n",
    "minibatch = 25\n",
    "buffersize = 60000\n",
    "number_valid_sampels = 5000 # number of validation data\n",
    "epochs = 5\n",
    "learning_rate = 0.005\n",
    "\n",
    "#((25000  - 5000 )/ 25 ) * 1\n",
    "number_batches_train = 800 # number of batches to train, each batch of size minibatch parameter\n",
    "number_batches_valid = 40 # number of batches to validate, each batch of size minibatch parameter\n",
    "num_classes = 1\n",
    "\n",
    "max_features = 20000\n",
    "maxlen = 80  # cut texts after this number of words (among top max_features most common words)\n"
   ]
  },
  {
   "cell_type": "code",
   "execution_count": 5,
   "metadata": {
    "scrolled": true
   },
   "outputs": [
    {
     "name": "stdout",
     "output_type": "stream",
     "text": [
      "Loading data...\n"
     ]
    },
    {
     "name": "stderr",
     "output_type": "stream",
     "text": [
      "C:\\Users\\amira\\.conda\\envs\\Normalization\\lib\\site-packages\\tensorflow_core\\python\\keras\\datasets\\imdb.py:129: VisibleDeprecationWarning: Creating an ndarray from ragged nested sequences (which is a list-or-tuple of lists-or-tuples-or ndarrays with different lengths or shapes) is deprecated. If you meant to do this, you must specify 'dtype=object' when creating the ndarray\n",
      "  x_train, y_train = np.array(xs[:idx]), np.array(labels[:idx])\n",
      "C:\\Users\\amira\\.conda\\envs\\Normalization\\lib\\site-packages\\tensorflow_core\\python\\keras\\datasets\\imdb.py:130: VisibleDeprecationWarning: Creating an ndarray from ragged nested sequences (which is a list-or-tuple of lists-or-tuples-or ndarrays with different lengths or shapes) is deprecated. If you meant to do this, you must specify 'dtype=object' when creating the ndarray\n",
      "  x_test, y_test = np.array(xs[idx:]), np.array(labels[idx:])\n"
     ]
    },
    {
     "name": "stdout",
     "output_type": "stream",
     "text": [
      "25000 train sequences\n",
      "25000 test sequences\n",
      "Pad sequences (samples x time)\n",
      "x_train shape: (25000, 80)\n",
      "x_test shape: (25000, 80)\n"
     ]
    }
   ],
   "source": [
    "print('Loading data...')\n",
    "(x_train, y_train), (x_test, y_test) = imdb.load_data(num_words=max_features)\n",
    "print(len(x_train), 'train sequences')\n",
    "print(len(x_test), 'test sequences')\n",
    "\n",
    "print('Pad sequences (samples x time)')\n",
    "x_train = sequence.pad_sequences(x_train, maxlen = maxlen)\n",
    "x_test = sequence.pad_sequences(x_test, maxlen = maxlen)\n",
    "print('x_train shape:', x_train.shape)\n",
    "print('x_test shape:', x_test.shape)"
   ]
  },
  {
   "cell_type": "code",
   "execution_count": 6,
   "metadata": {},
   "outputs": [],
   "source": [
    "x_train, y_train, x_valid, y_valid = creating_val_data(x_train, y_train,\n",
    "                                                       number_valid_sampels = number_valid_sampels,\n",
    "                                                       random_seed=random_seed)\n",
    "\n",
    "train_dataset, valid_dataset, test_dataset = creating_train_val_test_datasets(x_train, y_train,\n",
    "                                                                              x_test, y_test,\n",
    "                                                                              x_valid, y_valid, \n",
    "                                                                              minibatch = minibatch,\n",
    "                                                                              buffersize= buffersize,\n",
    "                                                                              random_seed=random_seed)"
   ]
  },
  {
   "cell_type": "code",
   "execution_count": 7,
   "metadata": {},
   "outputs": [
    {
     "data": {
      "text/plain": [
       "<PrefetchDataset shapes: ((25, 80), (25,)), types: (tf.int32, tf.int64)>"
      ]
     },
     "execution_count": 7,
     "metadata": {},
     "output_type": "execute_result"
    }
   ],
   "source": [
    "train_dataset"
   ]
  },
  {
   "cell_type": "markdown",
   "metadata": {},
   "source": [
    "# 1. Using Batch Layer Normalization Layer"
   ]
  },
  {
   "cell_type": "code",
   "execution_count": 8,
   "metadata": {},
   "outputs": [],
   "source": [
    "def BLNLayer_model(inputshape= (80), max_features = 20000, embed_size=256, random_seed = 100,\n",
    "                          lstm_unit = 128 , dense_units= 1,\n",
    "                          batch_size = 10,\n",
    "                          b_mm = True, b_mv = True,\n",
    "                          f_mm = False, f_mv = False):\n",
    "    \n",
    "   \n",
    "    # building the model\n",
    "  \n",
    "    input_lyr = tf.keras.Input(shape = inputshape, batch_size=batch_size, name = 'input')\n",
    "    \n",
    "    x = Embedding(max_features, embed_size,\n",
    "                  embeddings_initializer=tf.keras.initializers.GlorotUniform(seed=random_seed))(input_lyr)\n",
    "    \n",
    "    x = LSTM(lstm_unit, dropout=0.2, recurrent_dropout=0.2,activation='tanh',\n",
    "            recurrent_initializer = tf.keras.initializers.GlorotUniform(seed=random_seed),\n",
    "            kernel_initializer = tf.keras.initializers.GlorotUniform(seed=random_seed) ,\n",
    "            return_sequences=True)(x)\n",
    "    \n",
    "    x = bln_layer(stateful = True, batchsize= batch_size, name = 'bn1', \n",
    "                  batch_moving_mean = b_mm, batch_moving_var = b_mv,\n",
    "                  feature_moving_mean = f_mm, feature_moving_var = f_mv)(x) \n",
    "    \n",
    "    x = LSTM(lstm_unit//2, dropout=0.2,  recurrent_dropout=0.2,activation='tanh',\n",
    "            recurrent_initializer = tf.keras.initializers.GlorotUniform(seed=random_seed),\n",
    "            kernel_initializer = tf.keras.initializers.GlorotUniform(seed=random_seed) ,\n",
    "            return_sequences=False)(x)\n",
    "    \n",
    "    \n",
    "    x = bln_layer(stateful = True, batchsize= batch_size, name = 'bn2', \n",
    "                  batch_moving_mean = b_mm, batch_moving_var = b_mv,\n",
    "                  feature_moving_mean = f_mm, feature_moving_var = f_mv)(x) \n",
    "    \n",
    "    x = dense_layer(units = 32, name = 'dense1', random_seed=random_seed)(x)\n",
    "    x = tf.keras.layers.Activation('tanh')(x)\n",
    "    x = bln_layer(stateful = True, batchsize= batch_size, name = 'bn3', \n",
    "                  batch_moving_mean = b_mm, batch_moving_var = b_mv,\n",
    "                  feature_moving_mean = f_mm, feature_moving_var = f_mv)(x)\n",
    "           \n",
    "    \n",
    "    output_lyr = dense_layer(units = dense_units, name = 'dense2', random_seed=random_seed)(x)    \n",
    "    return tf.keras.Model(inputs = [input_lyr], outputs = [output_lyr])"
   ]
  },
  {
   "cell_type": "code",
   "execution_count": 9,
   "metadata": {},
   "outputs": [],
   "source": [
    "model_bln_layer = BLNLayer_model(inputshape= (80), max_features = max_features, \n",
    "                                        embed_size= 256, random_seed = random_seed,\n",
    "                                        lstm_unit = 128 , dense_units= num_classes,\n",
    "                                        batch_size = minibatch,\n",
    "                                        b_mm = True, b_mv = True,\n",
    "                                        f_mm = False, f_mv = False\n",
    "                                        )\n",
    "\n"
   ]
  },
  {
   "cell_type": "code",
   "execution_count": 10,
   "metadata": {},
   "outputs": [
    {
     "name": "stdout",
     "output_type": "stream",
     "text": [
      "Model: \"model\"\n",
      "_________________________________________________________________\n",
      "Layer (type)                 Output Shape              Param #   \n",
      "=================================================================\n",
      "input (InputLayer)           [(25, 80)]                0         \n",
      "_________________________________________________________________\n",
      "embedding (Embedding)        (25, 80, 256)             5120000   \n",
      "_________________________________________________________________\n",
      "lstm (LSTM)                  (25, 80, 128)             197120    \n",
      "_________________________________________________________________\n",
      "bn1 (bln_layer)              (25, 80, 128)             24738     \n",
      "_________________________________________________________________\n",
      "lstm_1 (LSTM)                (25, 64)                  49408     \n",
      "_________________________________________________________________\n",
      "bn2 (bln_layer)              (25, 64)                  308       \n",
      "_________________________________________________________________\n",
      "dense1 (dense_layer)         (25, 32)                  2080      \n",
      "_________________________________________________________________\n",
      "activation (Activation)      (25, 32)                  0         \n",
      "_________________________________________________________________\n",
      "bn3 (bln_layer)              (25, 32)                  180       \n",
      "_________________________________________________________________\n",
      "dense2 (dense_layer)         (25, 1)                   33        \n",
      "=================================================================\n",
      "Total params: 5,393,867\n",
      "Trainable params: 5,369,089\n",
      "Non-trainable params: 24,778\n",
      "_________________________________________________________________\n"
     ]
    }
   ],
   "source": [
    "model_bln_layer.summary()"
   ]
  },
  {
   "cell_type": "markdown",
   "metadata": {},
   "source": [
    "# callbacks"
   ]
  },
  {
   "cell_type": "code",
   "execution_count": 11,
   "metadata": {},
   "outputs": [],
   "source": [
    "# Callbacks for saving best model and tensorboard\n",
    "folder_name = str(number_batches_train) + '_bln_layer_TTFF_imdb'\n",
    "save_bm_cb = save_best_model_callback(folder_name)\n",
    "tb_cb = tensorboard_callback(folder_name)\n",
    "\n",
    "# Callback for resetting moving mean and variances at the end of each epoch\n",
    "bln_layer_cb = bln_callback()\n",
    "\n",
    "bln_layer_cb_list = create_callback_list(save_bm_cb, tb_cb, bln_layer_cb)"
   ]
  },
  {
   "cell_type": "code",
   "execution_count": 12,
   "metadata": {},
   "outputs": [],
   "source": [
    "model_bln_layer.compile(optimizer = tf.keras.optimizers.Adam(learning_rate=learning_rate),\n",
    "                               loss = tf.keras.losses.BinaryCrossentropy(from_logits=True),\n",
    "                               metrics = [tf.keras.metrics.BinaryAccuracy()])"
   ]
  },
  {
   "cell_type": "code",
   "execution_count": 13,
   "metadata": {
    "scrolled": true
   },
   "outputs": [
    {
     "name": "stdout",
     "output_type": "stream",
     "text": [
      "Train for 800 steps, validate for 40 steps\n",
      "Epoch 1/5\n",
      "800/800 [==============================] - 656s 821ms/step - loss: 0.4879 - binary_accuracy: 0.7444 - val_loss: 0.5628 - val_binary_accuracy: 0.8030\n",
      "Epoch 2/5\n",
      "800/800 [==============================] - 708s 885ms/step - loss: 0.2578 - binary_accuracy: 0.8903 - val_loss: 0.4081 - val_binary_accuracy: 0.8570\n",
      "Epoch 3/5\n",
      "800/800 [==============================] - 580s 725ms/step - loss: 0.1419 - binary_accuracy: 0.9459 - val_loss: 0.5159 - val_binary_accuracy: 0.8300\n",
      "Epoch 4/5\n",
      "800/800 [==============================] - 583s 729ms/step - loss: 0.0926 - binary_accuracy: 0.9645 - val_loss: 0.5715 - val_binary_accuracy: 0.8220\n",
      "Epoch 5/5\n",
      "800/800 [==============================] - 582s 728ms/step - loss: 0.0672 - binary_accuracy: 0.9758 - val_loss: 0.6105 - val_binary_accuracy: 0.8340\n"
     ]
    }
   ],
   "source": [
    "\n",
    "\n",
    "\n",
    "\n",
    "model_bln_layer_history =  model_bln_layer.fit(train_dataset.take(number_batches_train), epochs=epochs,\n",
    "                                                verbose=1, callbacks=bln_layer_cb_list,\n",
    "                                                validation_data=valid_dataset.take(number_batches_valid),\n",
    "                                                shuffle=True)"
   ]
  },
  {
   "cell_type": "code",
   "execution_count": 14,
   "metadata": {},
   "outputs": [],
   "source": [
    "weights_path = \"./models/\" + folder_name + '/'+ str(number_batches_train) +\"_pretrained_weights_TTFF.h5\"\n",
    "model_bln_layer.save_weights(weights_path)"
   ]
  },
  {
   "cell_type": "code",
   "execution_count": 15,
   "metadata": {},
   "outputs": [
    {
     "name": "stdout",
     "output_type": "stream",
     "text": [
      "session is clear\n"
     ]
    }
   ],
   "source": [
    "del model_bln_layer, save_bm_cb, tb_cb, bln_layer_cb, bln_layer_cb_list\n",
    "reset_graph()"
   ]
  },
  {
   "cell_type": "code",
   "execution_count": 16,
   "metadata": {},
   "outputs": [
    {
     "name": "stdout",
     "output_type": "stream",
     "text": [
      "1000/1000 [==============================] - 288s 288ms/step - loss: 0.7386 - binary_accuracy: 0.8056\n",
      "{'Bmm_True Bmv_True Fmm_True Fmv_True': [0.7385573499687016, 0.80556]}\n",
      "session is clear\n",
      "1000/1000 [==============================] - 291s 291ms/step - loss: 0.7405 - binary_accuracy: 0.8057\n",
      "{'Bmm_True Bmv_True Fmm_True Fmv_True': [0.7385573499687016, 0.80556], 'Bmm_True Bmv_True Fmm_True Fmv_False': [0.740498792514205, 0.80572]}\n",
      "session is clear\n",
      "1000/1000 [==============================] - 286s 286ms/step - loss: 0.7382 - binary_accuracy: 0.8056\n",
      "{'Bmm_True Bmv_True Fmm_True Fmv_True': [0.7385573499687016, 0.80556], 'Bmm_True Bmv_True Fmm_True Fmv_False': [0.740498792514205, 0.80572], 'Bmm_True Bmv_True Fmm_False Fmv_True': [0.7382061852253974, 0.8056]}\n",
      "session is clear\n",
      "1000/1000 [==============================] - 286s 286ms/step - loss: 0.7402 - binary_accuracy: 0.8057\n",
      "{'Bmm_True Bmv_True Fmm_True Fmv_True': [0.7385573499687016, 0.80556], 'Bmm_True Bmv_True Fmm_True Fmv_False': [0.740498792514205, 0.80572], 'Bmm_True Bmv_True Fmm_False Fmv_True': [0.7382061852253974, 0.8056], 'Bmm_True Bmv_True Fmm_False Fmv_False': [0.7401523437313735, 0.80572]}\n",
      "session is clear\n",
      "1000/1000 [==============================] - 286s 286ms/step - loss: 0.9696 - binary_accuracy: 0.8001\n",
      "{'Bmm_True Bmv_True Fmm_True Fmv_True': [0.7385573499687016, 0.80556], 'Bmm_True Bmv_True Fmm_True Fmv_False': [0.740498792514205, 0.80572], 'Bmm_True Bmv_True Fmm_False Fmv_True': [0.7382061852253974, 0.8056], 'Bmm_True Bmv_True Fmm_False Fmv_False': [0.7401523437313735, 0.80572], 'Bmm_True Bmv_False Fmm_True Fmv_True': [0.9696211096700281, 0.80012]}\n",
      "session is clear\n",
      "1000/1000 [==============================] - 285s 285ms/step - loss: 0.9707 - binary_accuracy: 0.8005\n",
      "{'Bmm_True Bmv_True Fmm_True Fmv_True': [0.7385573499687016, 0.80556], 'Bmm_True Bmv_True Fmm_True Fmv_False': [0.740498792514205, 0.80572], 'Bmm_True Bmv_True Fmm_False Fmv_True': [0.7382061852253974, 0.8056], 'Bmm_True Bmv_True Fmm_False Fmv_False': [0.7401523437313735, 0.80572], 'Bmm_True Bmv_False Fmm_True Fmv_True': [0.9696211096700281, 0.80012], 'Bmm_True Bmv_False Fmm_True Fmv_False': [0.9706676502488554, 0.80052]}\n",
      "session is clear\n",
      "1000/1000 [==============================] - 284s 284ms/step - loss: 0.9693 - binary_accuracy: 0.8001\n",
      "{'Bmm_True Bmv_True Fmm_True Fmv_True': [0.7385573499687016, 0.80556], 'Bmm_True Bmv_True Fmm_True Fmv_False': [0.740498792514205, 0.80572], 'Bmm_True Bmv_True Fmm_False Fmv_True': [0.7382061852253974, 0.8056], 'Bmm_True Bmv_True Fmm_False Fmv_False': [0.7401523437313735, 0.80572], 'Bmm_True Bmv_False Fmm_True Fmv_True': [0.9696211096700281, 0.80012], 'Bmm_True Bmv_False Fmm_True Fmv_False': [0.9706676502488554, 0.80052], 'Bmm_True Bmv_False Fmm_False Fmv_True': [0.969344563903287, 0.80012]}\n",
      "session is clear\n",
      "1000/1000 [==============================] - 287s 287ms/step - loss: 0.9704 - binary_accuracy: 0.8005\n",
      "{'Bmm_True Bmv_True Fmm_True Fmv_True': [0.7385573499687016, 0.80556], 'Bmm_True Bmv_True Fmm_True Fmv_False': [0.740498792514205, 0.80572], 'Bmm_True Bmv_True Fmm_False Fmv_True': [0.7382061852253974, 0.8056], 'Bmm_True Bmv_True Fmm_False Fmv_False': [0.7401523437313735, 0.80572], 'Bmm_True Bmv_False Fmm_True Fmv_True': [0.9696211096700281, 0.80012], 'Bmm_True Bmv_False Fmm_True Fmv_False': [0.9706676502488554, 0.80052], 'Bmm_True Bmv_False Fmm_False Fmv_True': [0.969344563903287, 0.80012], 'Bmm_True Bmv_False Fmm_False Fmv_False': [0.970418508278206, 0.80052]}\n",
      "session is clear\n",
      "1000/1000 [==============================] - 287s 287ms/step - loss: 0.6717 - binary_accuracy: 0.8033\n",
      "{'Bmm_True Bmv_True Fmm_True Fmv_True': [0.7385573499687016, 0.80556], 'Bmm_True Bmv_True Fmm_True Fmv_False': [0.740498792514205, 0.80572], 'Bmm_True Bmv_True Fmm_False Fmv_True': [0.7382061852253974, 0.8056], 'Bmm_True Bmv_True Fmm_False Fmv_False': [0.7401523437313735, 0.80572], 'Bmm_True Bmv_False Fmm_True Fmv_True': [0.9696211096700281, 0.80012], 'Bmm_True Bmv_False Fmm_True Fmv_False': [0.9706676502488554, 0.80052], 'Bmm_True Bmv_False Fmm_False Fmv_True': [0.969344563903287, 0.80012], 'Bmm_True Bmv_False Fmm_False Fmv_False': [0.970418508278206, 0.80052], 'Bmm_False Bmv_True Fmm_True Fmv_True': [0.671727910194546, 0.80328]}\n",
      "session is clear\n",
      "1000/1000 [==============================] - 285s 285ms/step - loss: 0.6729 - binary_accuracy: 0.8038\n",
      "{'Bmm_True Bmv_True Fmm_True Fmv_True': [0.7385573499687016, 0.80556], 'Bmm_True Bmv_True Fmm_True Fmv_False': [0.740498792514205, 0.80572], 'Bmm_True Bmv_True Fmm_False Fmv_True': [0.7382061852253974, 0.8056], 'Bmm_True Bmv_True Fmm_False Fmv_False': [0.7401523437313735, 0.80572], 'Bmm_True Bmv_False Fmm_True Fmv_True': [0.9696211096700281, 0.80012], 'Bmm_True Bmv_False Fmm_True Fmv_False': [0.9706676502488554, 0.80052], 'Bmm_True Bmv_False Fmm_False Fmv_True': [0.969344563903287, 0.80012], 'Bmm_True Bmv_False Fmm_False Fmv_False': [0.970418508278206, 0.80052], 'Bmm_False Bmv_True Fmm_True Fmv_True': [0.671727910194546, 0.80328], 'Bmm_False Bmv_True Fmm_True Fmv_False': [0.6728945661447943, 0.80376]}\n",
      "session is clear\n",
      "1000/1000 [==============================] - 284s 284ms/step - loss: 0.6713 - binary_accuracy: 0.8032\n",
      "{'Bmm_True Bmv_True Fmm_True Fmv_True': [0.7385573499687016, 0.80556], 'Bmm_True Bmv_True Fmm_True Fmv_False': [0.740498792514205, 0.80572], 'Bmm_True Bmv_True Fmm_False Fmv_True': [0.7382061852253974, 0.8056], 'Bmm_True Bmv_True Fmm_False Fmv_False': [0.7401523437313735, 0.80572], 'Bmm_True Bmv_False Fmm_True Fmv_True': [0.9696211096700281, 0.80012], 'Bmm_True Bmv_False Fmm_True Fmv_False': [0.9706676502488554, 0.80052], 'Bmm_True Bmv_False Fmm_False Fmv_True': [0.969344563903287, 0.80012], 'Bmm_True Bmv_False Fmm_False Fmv_False': [0.970418508278206, 0.80052], 'Bmm_False Bmv_True Fmm_True Fmv_True': [0.671727910194546, 0.80328], 'Bmm_False Bmv_True Fmm_True Fmv_False': [0.6728945661447943, 0.80376], 'Bmm_False Bmv_True Fmm_False Fmv_True': [0.6713106780014932, 0.8032]}\n",
      "session is clear\n",
      "1000/1000 [==============================] - 285s 285ms/step - loss: 0.6725 - binary_accuracy: 0.8038\n",
      "{'Bmm_True Bmv_True Fmm_True Fmv_True': [0.7385573499687016, 0.80556], 'Bmm_True Bmv_True Fmm_True Fmv_False': [0.740498792514205, 0.80572], 'Bmm_True Bmv_True Fmm_False Fmv_True': [0.7382061852253974, 0.8056], 'Bmm_True Bmv_True Fmm_False Fmv_False': [0.7401523437313735, 0.80572], 'Bmm_True Bmv_False Fmm_True Fmv_True': [0.9696211096700281, 0.80012], 'Bmm_True Bmv_False Fmm_True Fmv_False': [0.9706676502488554, 0.80052], 'Bmm_True Bmv_False Fmm_False Fmv_True': [0.969344563903287, 0.80012], 'Bmm_True Bmv_False Fmm_False Fmv_False': [0.970418508278206, 0.80052], 'Bmm_False Bmv_True Fmm_True Fmv_True': [0.671727910194546, 0.80328], 'Bmm_False Bmv_True Fmm_True Fmv_False': [0.6728945661447943, 0.80376], 'Bmm_False Bmv_True Fmm_False Fmv_True': [0.6713106780014932, 0.8032], 'Bmm_False Bmv_True Fmm_False Fmv_False': [0.672457942545414, 0.80376]}\n",
      "session is clear\n",
      "1000/1000 [==============================] - 284s 284ms/step - loss: 0.8610 - binary_accuracy: 0.8024\n",
      "{'Bmm_True Bmv_True Fmm_True Fmv_True': [0.7385573499687016, 0.80556], 'Bmm_True Bmv_True Fmm_True Fmv_False': [0.740498792514205, 0.80572], 'Bmm_True Bmv_True Fmm_False Fmv_True': [0.7382061852253974, 0.8056], 'Bmm_True Bmv_True Fmm_False Fmv_False': [0.7401523437313735, 0.80572], 'Bmm_True Bmv_False Fmm_True Fmv_True': [0.9696211096700281, 0.80012], 'Bmm_True Bmv_False Fmm_True Fmv_False': [0.9706676502488554, 0.80052], 'Bmm_True Bmv_False Fmm_False Fmv_True': [0.969344563903287, 0.80012], 'Bmm_True Bmv_False Fmm_False Fmv_False': [0.970418508278206, 0.80052], 'Bmm_False Bmv_True Fmm_True Fmv_True': [0.671727910194546, 0.80328], 'Bmm_False Bmv_True Fmm_True Fmv_False': [0.6728945661447943, 0.80376], 'Bmm_False Bmv_True Fmm_False Fmv_True': [0.6713106780014932, 0.8032], 'Bmm_False Bmv_True Fmm_False Fmv_False': [0.672457942545414, 0.80376], 'Bmm_False Bmv_False Fmm_True Fmv_True': [0.8610291698966175, 0.8024]}\n",
      "session is clear\n",
      "1000/1000 [==============================] - 284s 284ms/step - loss: 0.8625 - binary_accuracy: 0.8027\n",
      "{'Bmm_True Bmv_True Fmm_True Fmv_True': [0.7385573499687016, 0.80556], 'Bmm_True Bmv_True Fmm_True Fmv_False': [0.740498792514205, 0.80572], 'Bmm_True Bmv_True Fmm_False Fmv_True': [0.7382061852253974, 0.8056], 'Bmm_True Bmv_True Fmm_False Fmv_False': [0.7401523437313735, 0.80572], 'Bmm_True Bmv_False Fmm_True Fmv_True': [0.9696211096700281, 0.80012], 'Bmm_True Bmv_False Fmm_True Fmv_False': [0.9706676502488554, 0.80052], 'Bmm_True Bmv_False Fmm_False Fmv_True': [0.969344563903287, 0.80012], 'Bmm_True Bmv_False Fmm_False Fmv_False': [0.970418508278206, 0.80052], 'Bmm_False Bmv_True Fmm_True Fmv_True': [0.671727910194546, 0.80328], 'Bmm_False Bmv_True Fmm_True Fmv_False': [0.6728945661447943, 0.80376], 'Bmm_False Bmv_True Fmm_False Fmv_True': [0.6713106780014932, 0.8032], 'Bmm_False Bmv_True Fmm_False Fmv_False': [0.672457942545414, 0.80376], 'Bmm_False Bmv_False Fmm_True Fmv_True': [0.8610291698966175, 0.8024], 'Bmm_False Bmv_False Fmm_True Fmv_False': [0.8625368915423751, 0.80272]}\n",
      "session is clear\n"
     ]
    },
    {
     "name": "stdout",
     "output_type": "stream",
     "text": [
      "1000/1000 [==============================] - 283s 283ms/step - loss: 0.8608 - binary_accuracy: 0.8024\n",
      "{'Bmm_True Bmv_True Fmm_True Fmv_True': [0.7385573499687016, 0.80556], 'Bmm_True Bmv_True Fmm_True Fmv_False': [0.740498792514205, 0.80572], 'Bmm_True Bmv_True Fmm_False Fmv_True': [0.7382061852253974, 0.8056], 'Bmm_True Bmv_True Fmm_False Fmv_False': [0.7401523437313735, 0.80572], 'Bmm_True Bmv_False Fmm_True Fmv_True': [0.9696211096700281, 0.80012], 'Bmm_True Bmv_False Fmm_True Fmv_False': [0.9706676502488554, 0.80052], 'Bmm_True Bmv_False Fmm_False Fmv_True': [0.969344563903287, 0.80012], 'Bmm_True Bmv_False Fmm_False Fmv_False': [0.970418508278206, 0.80052], 'Bmm_False Bmv_True Fmm_True Fmv_True': [0.671727910194546, 0.80328], 'Bmm_False Bmv_True Fmm_True Fmv_False': [0.6728945661447943, 0.80376], 'Bmm_False Bmv_True Fmm_False Fmv_True': [0.6713106780014932, 0.8032], 'Bmm_False Bmv_True Fmm_False Fmv_False': [0.672457942545414, 0.80376], 'Bmm_False Bmv_False Fmm_True Fmv_True': [0.8610291698966175, 0.8024], 'Bmm_False Bmv_False Fmm_True Fmv_False': [0.8625368915423751, 0.80272], 'Bmm_False Bmv_False Fmm_False Fmv_True': [0.8607997256219387, 0.8024]}\n",
      "session is clear\n",
      "1000/1000 [==============================] - 284s 284ms/step - loss: 0.8623 - binary_accuracy: 0.8027\n",
      "{'Bmm_True Bmv_True Fmm_True Fmv_True': [0.7385573499687016, 0.80556], 'Bmm_True Bmv_True Fmm_True Fmv_False': [0.740498792514205, 0.80572], 'Bmm_True Bmv_True Fmm_False Fmv_True': [0.7382061852253974, 0.8056], 'Bmm_True Bmv_True Fmm_False Fmv_False': [0.7401523437313735, 0.80572], 'Bmm_True Bmv_False Fmm_True Fmv_True': [0.9696211096700281, 0.80012], 'Bmm_True Bmv_False Fmm_True Fmv_False': [0.9706676502488554, 0.80052], 'Bmm_True Bmv_False Fmm_False Fmv_True': [0.969344563903287, 0.80012], 'Bmm_True Bmv_False Fmm_False Fmv_False': [0.970418508278206, 0.80052], 'Bmm_False Bmv_True Fmm_True Fmv_True': [0.671727910194546, 0.80328], 'Bmm_False Bmv_True Fmm_True Fmv_False': [0.6728945661447943, 0.80376], 'Bmm_False Bmv_True Fmm_False Fmv_True': [0.6713106780014932, 0.8032], 'Bmm_False Bmv_True Fmm_False Fmv_False': [0.672457942545414, 0.80376], 'Bmm_False Bmv_False Fmm_True Fmv_True': [0.8610291698966175, 0.8024], 'Bmm_False Bmv_False Fmm_True Fmv_False': [0.8625368915423751, 0.80272], 'Bmm_False Bmv_False Fmm_False Fmv_True': [0.8607997256219387, 0.8024], 'Bmm_False Bmv_False Fmm_False Fmv_False': [0.8622929392922669, 0.80272]}\n",
      "session is clear\n"
     ]
    }
   ],
   "source": [
    "save_eval_path = \"./logs/\" + folder_name + '/'+ str(number_batches_train) +\"_sorted_evaluation.pkl\"\n",
    "evaluation = grid_serach(BLNLayer_model, test_dataset,\n",
    "                         batch_size = minibatch, sort=True,\n",
    "                         save_eval_path = save_eval_path,\n",
    "                         weights_path = weights_path,\n",
    "                         loss = tf.keras.losses.BinaryCrossentropy(from_logits=True),\n",
    "                         metrics = tf.keras.metrics.BinaryAccuracy())\n",
    "\n"
   ]
  },
  {
   "cell_type": "code",
   "execution_count": 36,
   "metadata": {},
   "outputs": [
    {
     "data": {
      "text/plain": [
       "[('Bmm_False Bmv_True Fmm_False Fmv_True', [0.4613106780014932, 0.8032]),\n",
       " ('Bmm_False Bmv_True Fmm_True Fmv_True', [0.571727910194546, 0.80328]),\n",
       " ('Bmm_False Bmv_True Fmm_False Fmv_False', [0.672457942545414, 0.80376]),\n",
       " ('Bmm_False Bmv_True Fmm_True Fmv_False', [0.6728945661447943, 0.80376]),\n",
       " ('Bmm_True Bmv_True Fmm_False Fmv_True', [0.7382061852253974, 0.8056]),\n",
       " ('Bmm_True Bmv_True Fmm_True Fmv_True', [0.7385573499687016, 0.80556]),\n",
       " ('Bmm_True Bmv_True Fmm_False Fmv_False', [0.7401523437313735, 0.80572]),\n",
       " ('Bmm_True Bmv_True Fmm_True Fmv_False', [0.740498792514205, 0.80572]),\n",
       " ('Bmm_False Bmv_False Fmm_False Fmv_True', [0.8607997256219387, 0.8024]),\n",
       " ('Bmm_False Bmv_False Fmm_True Fmv_True', [0.8610291698966175, 0.8024]),\n",
       " ('Bmm_False Bmv_False Fmm_False Fmv_False', [0.8622929392922669, 0.80272]),\n",
       " ('Bmm_False Bmv_False Fmm_True Fmv_False', [0.8625368915423751, 0.80272]),\n",
       " ('Bmm_True Bmv_False Fmm_False Fmv_True', [0.969344563903287, 0.80012]),\n",
       " ('Bmm_True Bmv_False Fmm_True Fmv_True', [0.9696211096700281, 0.80012]),\n",
       " ('Bmm_True Bmv_False Fmm_False Fmv_False', [0.970418508278206, 0.80052]),\n",
       " ('Bmm_True Bmv_False Fmm_True Fmv_False', [0.9706676502488554, 0.80052])]"
      ]
     },
     "execution_count": 36,
     "metadata": {},
     "output_type": "execute_result"
    }
   ],
   "source": [
    "evaluation "
   ]
  },
  {
   "cell_type": "markdown",
   "metadata": {},
   "source": [
    "# 2.Using  Batch Normalization implemented in Keras"
   ]
  },
  {
   "cell_type": "code",
   "execution_count": 18,
   "metadata": {},
   "outputs": [],
   "source": [
    "def bn_keras_model(inputshape= (80), max_features = 20000, embed_size=256, random_seed = 100,\n",
    "                          lstm_unit = 128 , dense_units= 1,\n",
    "                          batch_size = 60):\n",
    "    \n",
    "\n",
    "    \n",
    "    input_lyr = tf.keras.Input(shape = inputshape, batch_size=batch_size, name = 'input')\n",
    "    \n",
    "    x = Embedding(max_features, embed_size,\n",
    "                  embeddings_initializer=tf.keras.initializers.GlorotUniform(seed=random_seed))(input_lyr)\n",
    "    \n",
    "    x = LSTM(lstm_unit, dropout=0.2, recurrent_dropout=0.2, activation='tanh',\n",
    "            recurrent_initializer = tf.keras.initializers.GlorotUniform(seed=random_seed),\n",
    "            kernel_initializer = tf.keras.initializers.GlorotUniform(seed=random_seed) ,\n",
    "            return_sequences=True)(x)\n",
    "    \n",
    "    x =  tf.keras.layers.BatchNormalization(momentum = 0.99,  name = 'bn1') (x) \n",
    "    \n",
    "    x = LSTM(lstm_unit//2, dropout=0.2,  recurrent_dropout=0.2, activation='tanh',\n",
    "            recurrent_initializer = tf.keras.initializers.GlorotUniform(seed=random_seed),\n",
    "            kernel_initializer = tf.keras.initializers.GlorotUniform(seed=random_seed) ,\n",
    "            return_sequences=False)(x)\n",
    "    x =  tf.keras.layers.BatchNormalization(momentum = 0.99,  name = 'bn2') (x) \n",
    "    \n",
    "    x = dense_layer(units = 32, name = 'dense1', random_seed=random_seed)(x)\n",
    "    x = tf.keras.layers.Activation('tanh')(x)\n",
    "    x =  tf.keras.layers.BatchNormalization(momentum = 0.99,  name = 'bn3') (x) \n",
    "\n",
    "    output_lyr = dense_layer(units = dense_units, name = 'dense2', random_seed=random_seed)(x)    \n",
    "    return tf.keras.Model(inputs = [input_lyr], outputs = [output_lyr])\n"
   ]
  },
  {
   "cell_type": "code",
   "execution_count": 19,
   "metadata": {},
   "outputs": [
    {
     "name": "stdout",
     "output_type": "stream",
     "text": [
      "Model: \"model\"\n",
      "_________________________________________________________________\n",
      "Layer (type)                 Output Shape              Param #   \n",
      "=================================================================\n",
      "input (InputLayer)           [(25, 80)]                0         \n",
      "_________________________________________________________________\n",
      "embedding (Embedding)        (25, 80, 256)             5120000   \n",
      "_________________________________________________________________\n",
      "lstm (LSTM)                  (25, 80, 128)             197120    \n",
      "_________________________________________________________________\n",
      "bn1 (BatchNormalization)     (25, 80, 128)             512       \n",
      "_________________________________________________________________\n",
      "lstm_1 (LSTM)                (25, 64)                  49408     \n",
      "_________________________________________________________________\n",
      "bn2 (BatchNormalization)     (25, 64)                  256       \n",
      "_________________________________________________________________\n",
      "dense1 (dense_layer)         (25, 32)                  2080      \n",
      "_________________________________________________________________\n",
      "activation (Activation)      (25, 32)                  0         \n",
      "_________________________________________________________________\n",
      "bn3 (BatchNormalization)     (25, 32)                  128       \n",
      "_________________________________________________________________\n",
      "dense2 (dense_layer)         (25, 1)                   33        \n",
      "=================================================================\n",
      "Total params: 5,369,537\n",
      "Trainable params: 5,369,089\n",
      "Non-trainable params: 448\n",
      "_________________________________________________________________\n"
     ]
    }
   ],
   "source": [
    "model_bn_keras = bn_keras_model(inputshape= (80), max_features = max_features, \n",
    "                                embed_size= 256, random_seed = random_seed,\n",
    "                                lstm_unit = 128 , dense_units= num_classes,\n",
    "                                batch_size = minibatch)\n",
    "model_bn_keras.summary()\n",
    "\n",
    "#### Compiling \n",
    "model_bn_keras.compile(optimizer = tf.keras.optimizers.Adam(learning_rate=learning_rate),\n",
    "                       loss = tf.keras.losses.BinaryCrossentropy(from_logits=True),\n",
    "                       metrics = [tf.keras.metrics.BinaryAccuracy()])"
   ]
  },
  {
   "cell_type": "code",
   "execution_count": 20,
   "metadata": {},
   "outputs": [],
   "source": [
    "# Callbacks for saving best model and tensorboard\n",
    "folder_name = str(number_batches_train) + '_bn_Keras_imdb'\n",
    "save_bm_cb = save_best_model_callback(folder_name)\n",
    "tb_cb = tensorboard_callback(folder_name)\n",
    "\n",
    "\n",
    "bn_keras_cb_list = [save_bm_cb, tb_cb]"
   ]
  },
  {
   "cell_type": "code",
   "execution_count": 21,
   "metadata": {},
   "outputs": [
    {
     "name": "stdout",
     "output_type": "stream",
     "text": [
      "Train for 800 steps, validate for 40 steps\n",
      "Epoch 1/5\n",
      "800/800 [==============================] - 567s 709ms/step - loss: 0.5690 - binary_accuracy: 0.6840 - val_loss: 0.4272 - val_binary_accuracy: 0.8040\n",
      "Epoch 2/5\n",
      "800/800 [==============================] - 579s 724ms/step - loss: 0.3645 - binary_accuracy: 0.8377 - val_loss: 0.4778 - val_binary_accuracy: 0.7750\n",
      "Epoch 3/5\n",
      "800/800 [==============================] - 586s 732ms/step - loss: 0.2645 - binary_accuracy: 0.8921 - val_loss: 0.4684 - val_binary_accuracy: 0.8210\n",
      "Epoch 4/5\n",
      "800/800 [==============================] - 570s 712ms/step - loss: 0.2005 - binary_accuracy: 0.9260 - val_loss: 0.4909 - val_binary_accuracy: 0.8310\n",
      "Epoch 5/5\n",
      "800/800 [==============================] - 566s 708ms/step - loss: 0.1661 - binary_accuracy: 0.9396 - val_loss: 0.5062 - val_binary_accuracy: 0.8100\n"
     ]
    }
   ],
   "source": [
    "model_bn_keras_history =  model_bn_keras.fit(train_dataset.take(number_batches_train),\n",
    "                                             epochs = epochs, verbose=1, \n",
    "                                             callbacks = bn_keras_cb_list,\n",
    "                                             validation_data = valid_dataset.take(number_batches_valid),\n",
    "                                             shuffle = True)"
   ]
  },
  {
   "cell_type": "code",
   "execution_count": 22,
   "metadata": {},
   "outputs": [
    {
     "name": "stdout",
     "output_type": "stream",
     "text": [
      "1000/1000 [==============================] - 282s 282ms/step - loss: 0.5624 - binary_accuracy: 0.7996\n"
     ]
    }
   ],
   "source": [
    "model_bn_keras_test_history = model_bn_keras.evaluate(test_dataset)"
   ]
  },
  {
   "cell_type": "code",
   "execution_count": 23,
   "metadata": {},
   "outputs": [
    {
     "name": "stdout",
     "output_type": "stream",
     "text": [
      "session is clear\n"
     ]
    }
   ],
   "source": [
    "del model_bn_keras, save_bm_cb, tb_cb, bn_keras_cb_list \n",
    "reset_graph()"
   ]
  },
  {
   "cell_type": "markdown",
   "metadata": {},
   "source": [
    "# 3.Using  Layer normalization  implemented in Keras\n"
   ]
  },
  {
   "cell_type": "code",
   "execution_count": 24,
   "metadata": {},
   "outputs": [],
   "source": [
    "def ln_keras_model(inputshape= (80), max_features = 20000, embed_size=256, random_seed = 100,\n",
    "                          lstm_unit = 128 , dense_units= 1,\n",
    "                          batch_size = 60):\n",
    "    \n",
    "\n",
    "    \n",
    "    input_lyr = tf.keras.Input(shape = inputshape, batch_size=batch_size, name = 'input')\n",
    "    \n",
    "    x = Embedding(max_features, embed_size,\n",
    "                  embeddings_initializer=tf.keras.initializers.GlorotUniform(seed=random_seed))(input_lyr)\n",
    "    \n",
    "    x = LSTM(lstm_unit, dropout=0.2, recurrent_dropout=0.2, activation='tanh',\n",
    "            recurrent_initializer = tf.keras.initializers.GlorotUniform(seed=random_seed),\n",
    "            kernel_initializer = tf.keras.initializers.GlorotUniform(seed=random_seed) ,\n",
    "            return_sequences=True)(x)\n",
    "    x =  tf.keras.layers.LayerNormalization()(x) \n",
    "\n",
    "    x = LSTM(lstm_unit//2, dropout=0.2,  recurrent_dropout=0.2, activation='tanh',\n",
    "            recurrent_initializer = tf.keras.initializers.GlorotUniform(seed=random_seed),\n",
    "            kernel_initializer = tf.keras.initializers.GlorotUniform(seed=random_seed) ,\n",
    "            return_sequences=False)(x)\n",
    "    x =  tf.keras.layers.LayerNormalization()(x) \n",
    "    \n",
    "    x = dense_layer(units = 32, name = 'dense1', random_seed=random_seed)(x)\n",
    "    x = tf.keras.layers.Activation('tanh')(x)\n",
    "    x =  tf.keras.layers.LayerNormalization()(x) \n",
    "\n",
    "    \n",
    "    output_lyr = dense_layer(units = dense_units, name = 'dense2', random_seed=random_seed)(x)    \n",
    "    return tf.keras.Model(inputs = [input_lyr], outputs = [output_lyr])\n",
    "\n"
   ]
  },
  {
   "cell_type": "code",
   "execution_count": 25,
   "metadata": {},
   "outputs": [
    {
     "name": "stdout",
     "output_type": "stream",
     "text": [
      "Model: \"model\"\n",
      "_________________________________________________________________\n",
      "Layer (type)                 Output Shape              Param #   \n",
      "=================================================================\n",
      "input (InputLayer)           [(25, 80)]                0         \n",
      "_________________________________________________________________\n",
      "embedding (Embedding)        (25, 80, 256)             5120000   \n",
      "_________________________________________________________________\n",
      "lstm (LSTM)                  (25, 80, 128)             197120    \n",
      "_________________________________________________________________\n",
      "layer_normalization (LayerNo (25, 80, 128)             256       \n",
      "_________________________________________________________________\n",
      "lstm_1 (LSTM)                (25, 64)                  49408     \n",
      "_________________________________________________________________\n",
      "layer_normalization_1 (Layer (25, 64)                  128       \n",
      "_________________________________________________________________\n",
      "dense1 (dense_layer)         (25, 32)                  2080      \n",
      "_________________________________________________________________\n",
      "activation (Activation)      (25, 32)                  0         \n",
      "_________________________________________________________________\n",
      "layer_normalization_2 (Layer (25, 32)                  64        \n",
      "_________________________________________________________________\n",
      "dense2 (dense_layer)         (25, 1)                   33        \n",
      "=================================================================\n",
      "Total params: 5,369,089\n",
      "Trainable params: 5,369,089\n",
      "Non-trainable params: 0\n",
      "_________________________________________________________________\n"
     ]
    }
   ],
   "source": [
    "model_ln_keras = ln_keras_model(inputshape= (80), max_features = max_features, \n",
    "                                embed_size= 256, random_seed = random_seed,\n",
    "                                lstm_unit = 128 , dense_units= num_classes,\n",
    "                                batch_size = minibatch)\n",
    "model_ln_keras.summary()\n",
    "\n",
    "#### Compiling \n",
    "model_ln_keras.compile(optimizer = tf.keras.optimizers.Adam(learning_rate=learning_rate),\n",
    "                       loss = tf.keras.losses.BinaryCrossentropy(from_logits=True),\n",
    "                       metrics = [tf.keras.metrics.BinaryAccuracy()])"
   ]
  },
  {
   "cell_type": "code",
   "execution_count": 26,
   "metadata": {},
   "outputs": [],
   "source": [
    "# Callbacks for saving best model and tensorboard\n",
    "folder_name = str(number_batches_train) + '_ln_Keras_imdb'\n",
    "save_bm_cb = save_best_model_callback(folder_name)\n",
    "tb_cb = tensorboard_callback(folder_name)\n",
    "\n",
    "ln_keras_cb_list = [save_bm_cb, tb_cb]"
   ]
  },
  {
   "cell_type": "code",
   "execution_count": 27,
   "metadata": {},
   "outputs": [
    {
     "name": "stdout",
     "output_type": "stream",
     "text": [
      "Train for 800 steps, validate for 40 steps\n",
      "Epoch 1/5\n",
      "800/800 [==============================] - 562s 703ms/step - loss: 0.6978 - binary_accuracy: 0.5054 - val_loss: 0.6951 - val_binary_accuracy: 0.4880\n",
      "Epoch 2/5\n",
      "800/800 [==============================] - 569s 711ms/step - loss: 0.5385 - binary_accuracy: 0.7061 - val_loss: 0.4751 - val_binary_accuracy: 0.7840\n",
      "Epoch 3/5\n",
      "800/800 [==============================] - 574s 717ms/step - loss: 0.3496 - binary_accuracy: 0.8480 - val_loss: 0.4529 - val_binary_accuracy: 0.8110\n",
      "Epoch 4/5\n",
      "800/800 [==============================] - 565s 707ms/step - loss: 0.2714 - binary_accuracy: 0.8888 - val_loss: 0.4223 - val_binary_accuracy: 0.8180\n",
      "Epoch 5/5\n",
      "800/800 [==============================] - 570s 713ms/step - loss: 0.2180 - binary_accuracy: 0.9132 - val_loss: 0.4590 - val_binary_accuracy: 0.8230\n"
     ]
    }
   ],
   "source": [
    "model_ln_keras_history =  model_ln_keras.fit(train_dataset.take(number_batches_train),\n",
    "                                             epochs=epochs, verbose=1, \n",
    "                                             callbacks=ln_keras_cb_list,\n",
    "                                             validation_data=valid_dataset.take(number_batches_valid),\n",
    "                                             shuffle=True)"
   ]
  },
  {
   "cell_type": "code",
   "execution_count": 28,
   "metadata": {},
   "outputs": [
    {
     "name": "stdout",
     "output_type": "stream",
     "text": [
      "1000/1000 [==============================] - 280s 280ms/step - loss: 0.4708 - binary_accuracy: 0.8070\n"
     ]
    }
   ],
   "source": [
    "model_ln_keras_test_history = model_ln_keras.evaluate(test_dataset)"
   ]
  },
  {
   "cell_type": "code",
   "execution_count": 29,
   "metadata": {},
   "outputs": [
    {
     "name": "stdout",
     "output_type": "stream",
     "text": [
      "session is clear\n"
     ]
    }
   ],
   "source": [
    "del model_ln_keras,save_bm_cb, ln_keras_cb_list\n",
    "reset_graph()"
   ]
  },
  {
   "cell_type": "markdown",
   "metadata": {},
   "source": [
    "# 4. Make Comaprison \n",
    "#### Layer Normalization, Batch Normalization and Batch Layer Normalization\n"
   ]
  },
  {
   "cell_type": "code",
   "execution_count": 35,
   "metadata": {},
   "outputs": [
    {
     "name": "stdout",
     "output_type": "stream",
     "text": [
      "dict_keys(['loss', 'binary_accuracy', 'val_loss', 'val_binary_accuracy'])\n"
     ]
    },
    {
     "data": {
      "image/png": "[encoded data removed]",
      "text/plain": [
       "<Figure size 432x288 with 1 Axes>"
      ]
     },
     "metadata": {
      "needs_background": "light"
     },
     "output_type": "display_data"
    },
    {
     "data": {
      "image/png": "[encoded data removed]",
      "text/plain": [
       "<Figure size 432x288 with 1 Axes>"
      ]
     },
     "metadata": {
      "needs_background": "light"
     },
     "output_type": "display_data"
    }
   ],
   "source": [
    "# list all data in history\n",
    "print(model_ln_keras_history.history.keys())\n",
    "# summarize history for accuracy\n",
    "\n",
    "\n",
    "plt.figsize=(12, 12)\n",
    "plt.plot(model_ln_keras_history.history['loss'])\n",
    "plt.plot(model_bn_keras_history.history['loss'])\n",
    "plt.plot(model_bln_layer_history.history['loss'])\n",
    "plt.scatter(4, model_ln_keras_test_history[0], s=80,  marker=(5, 2))\n",
    "plt.scatter(4, model_bn_keras_test_history[0], s=80,  marker=(5, 2))\n",
    "plt.scatter(4,evaluation[0][1][0], s=80,  marker=(5, 2))\n",
    "plt.xticks(np.arange(0, 5, 1))\n",
    "\n",
    "plt.xticks(np.arange(epochs), np.arange(1, epochs+1, 1))\n",
    "plt.ylabel('Loss',fontsize=14)\n",
    "plt.xlabel('Epoch',fontsize=14)\n",
    "plt.legend(['Layer Normalization', 'Batch Normalization','Batch Layer Normalization' ], loc='upper left')\n",
    "ax = plt.gca()\n",
    "ax.text(0.3,0.05,'Stars showing loss on test set',transform=ax.transAxes, bbox=dict(facecolor='none',edgecolor='black',boxstyle='square'))\n",
    "plt.show()\n",
    "\n",
    "\n",
    "plt.plot(model_ln_keras_history.history['binary_accuracy'])\n",
    "plt.plot(model_bn_keras_history.history['binary_accuracy'])\n",
    "plt.plot(model_bln_layer_history.history['binary_accuracy'])\n",
    "plt.scatter(4, model_ln_keras_test_history[1], s=80,  marker=(5, 2))\n",
    "plt.scatter(4, model_bn_keras_test_history[1], s=80,  marker=(5, 2))\n",
    "plt.scatter(4, evaluation[0][1][1], s=80,  marker=(5, 2))\n",
    "#plt.xticks(np.arange(0, 5, 1))\n",
    "#plt.yticks(np.arange(0.2, .6, .05))\n",
    "\n",
    "#plt.title('model validation accuracy')\n",
    "plt.xticks(np.arange(epochs), np.arange(1, epochs+1, 1))\n",
    "plt.ylabel('Accuracy', fontsize=14)\n",
    "plt.xlabel('Epoch',fontsize=14)\n",
    "plt.legend(['Layer Normalization', 'Batch Normalization','Batch Layer Normalization' ], loc='upper left')\n",
    "ax = plt.gca()\n",
    "ax.text(0.3,0.05,'Stars showing accuracy on test set',transform=ax.transAxes, bbox=dict(facecolor='none',edgecolor='black',boxstyle='square'))\n",
    "plt.show()\n",
    "\n"
   ]
  },
  {
   "cell_type": "code",
   "execution_count": null,
   "metadata": {},
   "outputs": [],
   "source": []
  }
 ],
 "metadata": {
  "kernelspec": {
   "display_name": "Python 3",
   "language": "python",
   "name": "python3"
  },
  "language_info": {
   "codemirror_mode": {
    "name": "ipython",
    "version": 3
   },
   "file_extension": ".py",
   "mimetype": "text/x-python",
   "name": "python",
   "nbconvert_exporter": "python",
   "pygments_lexer": "ipython3",
   "version": "3.6.13"
  }
 },
 "nbformat": 4,
 "nbformat_minor": 4
}
