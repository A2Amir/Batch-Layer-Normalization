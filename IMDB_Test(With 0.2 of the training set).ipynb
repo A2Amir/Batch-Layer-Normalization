{
 "cells": [
  {
   "cell_type": "code",
   "execution_count": 1,
   "metadata": {},
   "outputs": [],
   "source": [
    "import tensorflow as tf\n",
    "import numpy as np\n",
    "import matplotlib.pyplot as plt\n",
    "\n",
    "from tensorflow.keras.models import Model\n",
    "from utils import creat_datasets, reset_graph, grid_serach,  creating_val_data\n",
    "from utils import creating_train_val_test_datasets\n",
    "from layers import  bln_layer, dense_layer\n",
    "from callbacks import bln_callback , tensorboard_callback, create_callback_list, save_best_model_callback\n",
    "\n",
    "\n",
    "from tensorflow.keras.preprocessing import sequence\n",
    "from tensorflow.keras.layers import Embedding\n",
    "from tensorflow.keras.layers import LSTM\n",
    "from tensorflow.keras.datasets import imdb"
   ]
  },
  {
   "cell_type": "code",
   "execution_count": 2,
   "metadata": {},
   "outputs": [],
   "source": [
    "tf.config.experimental_run_functions_eagerly(True)"
   ]
  },
  {
   "cell_type": "code",
   "execution_count": 3,
   "metadata": {},
   "outputs": [
    {
     "data": {
      "text/plain": [
       "'2.1.0'"
      ]
     },
     "execution_count": 3,
     "metadata": {},
     "output_type": "execute_result"
    }
   ],
   "source": [
    "tf.__version__"
   ]
  },
  {
   "cell_type": "markdown",
   "metadata": {},
   "source": [
    "### Loading data"
   ]
  },
  {
   "cell_type": "code",
   "execution_count": 4,
   "metadata": {},
   "outputs": [],
   "source": [
    "random_seed = 100\n",
    "minibatch = 25\n",
    "buffersize = 60000\n",
    "number_valid_sampels = 5000 # number of validation data\n",
    "epochs = 10\n",
    "learning_rate = 0.005\n",
    "\n",
    "#((25000  - 5000 )/ 25 ) * .2\n",
    "number_batches_train = 160 # number of batches to train, each batch of size minibatch parameter\n",
    "number_batches_valid = 40 # number of batches to validate, each batch of size minibatch parameter\n",
    "num_classes = 1\n",
    "\n",
    "max_features = 20000\n",
    "maxlen = 80  # cut texts after this number of words (among top max_features most common words)\n"
   ]
  },
  {
   "cell_type": "code",
   "execution_count": 5,
   "metadata": {},
   "outputs": [
    {
     "data": {
      "text/plain": [
       "160.0"
      ]
     },
     "execution_count": 5,
     "metadata": {},
     "output_type": "execute_result"
    }
   ],
   "source": [
    "((25000  - 5000 )/ 25 ) * .2\n"
   ]
  },
  {
   "cell_type": "code",
   "execution_count": 6,
   "metadata": {
    "scrolled": true
   },
   "outputs": [
    {
     "name": "stdout",
     "output_type": "stream",
     "text": [
      "Loading data...\n"
     ]
    },
    {
     "name": "stderr",
     "output_type": "stream",
     "text": [
      "C:\\Users\\amira\\.conda\\envs\\Normalization\\lib\\site-packages\\tensorflow_core\\python\\keras\\datasets\\imdb.py:129: VisibleDeprecationWarning: Creating an ndarray from ragged nested sequences (which is a list-or-tuple of lists-or-tuples-or ndarrays with different lengths or shapes) is deprecated. If you meant to do this, you must specify 'dtype=object' when creating the ndarray\n",
      "  x_train, y_train = np.array(xs[:idx]), np.array(labels[:idx])\n",
      "C:\\Users\\amira\\.conda\\envs\\Normalization\\lib\\site-packages\\tensorflow_core\\python\\keras\\datasets\\imdb.py:130: VisibleDeprecationWarning: Creating an ndarray from ragged nested sequences (which is a list-or-tuple of lists-or-tuples-or ndarrays with different lengths or shapes) is deprecated. If you meant to do this, you must specify 'dtype=object' when creating the ndarray\n",
      "  x_test, y_test = np.array(xs[idx:]), np.array(labels[idx:])\n"
     ]
    },
    {
     "name": "stdout",
     "output_type": "stream",
     "text": [
      "25000 train sequences\n",
      "25000 test sequences\n",
      "Pad sequences (samples x time)\n",
      "x_train shape: (25000, 80)\n",
      "x_test shape: (25000, 80)\n"
     ]
    }
   ],
   "source": [
    "print('Loading data...')\n",
    "(x_train, y_train), (x_test, y_test) = imdb.load_data(num_words=max_features)\n",
    "print(len(x_train), 'train sequences')\n",
    "print(len(x_test), 'test sequences')\n",
    "\n",
    "print('Pad sequences (samples x time)')\n",
    "x_train = sequence.pad_sequences(x_train, maxlen = maxlen)\n",
    "x_test = sequence.pad_sequences(x_test, maxlen = maxlen)\n",
    "print('x_train shape:', x_train.shape)\n",
    "print('x_test shape:', x_test.shape)"
   ]
  },
  {
   "cell_type": "code",
   "execution_count": 7,
   "metadata": {},
   "outputs": [],
   "source": [
    "x_train, y_train, x_valid, y_valid = creating_val_data(x_train, y_train,\n",
    "                                                       number_valid_sampels = number_valid_sampels,\n",
    "                                                       random_seed=random_seed)\n",
    "\n",
    "train_dataset, valid_dataset, test_dataset = creating_train_val_test_datasets(x_train, y_train,\n",
    "                                                                              x_test, y_test,\n",
    "                                                                              x_valid, y_valid, \n",
    "                                                                              minibatch = minibatch,\n",
    "                                                                              buffersize= buffersize,\n",
    "                                                                              random_seed=random_seed)"
   ]
  },
  {
   "cell_type": "code",
   "execution_count": 8,
   "metadata": {},
   "outputs": [
    {
     "data": {
      "text/plain": [
       "<PrefetchDataset shapes: ((25, 80), (25,)), types: (tf.int32, tf.int64)>"
      ]
     },
     "execution_count": 8,
     "metadata": {},
     "output_type": "execute_result"
    }
   ],
   "source": [
    "train_dataset"
   ]
  },
  {
   "cell_type": "markdown",
   "metadata": {},
   "source": [
    "# 1. Using Batch Layer Normalization Layer"
   ]
  },
  {
   "cell_type": "code",
   "execution_count": 9,
   "metadata": {},
   "outputs": [],
   "source": [
    "def BLNLayer_model(inputshape= (80), max_features = 20000, embed_size=128, random_seed = 100,\n",
    "                          lstm_unit = 128 , dense_units= 1,\n",
    "                          batch_size = 10,\n",
    "                          b_mm = True, b_mv = True,\n",
    "                          f_mm = False, f_mv = False):\n",
    "    \n",
    "\n",
    "    \n",
    "    input_lyr = tf.keras.Input(shape = inputshape, batch_size=batch_size, name = 'input')\n",
    "    \n",
    "    x = Embedding(max_features, embed_size,\n",
    "                  embeddings_initializer=tf.keras.initializers.GlorotUniform(seed=random_seed))(input_lyr)\n",
    "    \n",
    "    x = LSTM(lstm_unit, dropout=0.2, recurrent_dropout=0.2,activation='tanh',\n",
    "            recurrent_initializer = tf.keras.initializers.GlorotUniform(seed=random_seed),\n",
    "            kernel_initializer = tf.keras.initializers.GlorotUniform(seed=random_seed) ,\n",
    "            return_sequences=True)(x)\n",
    "    \n",
    "    x = bln_layer(stateful = True, batchsize= batch_size, name = 'bn1', \n",
    "                  batch_moving_mean = b_mm, batch_moving_var = b_mv,\n",
    "                  feature_moving_mean = f_mm, feature_moving_var = f_mv)(x) \n",
    "    \n",
    "    x = LSTM(lstm_unit//2, dropout=0.2,  recurrent_dropout=0.2,activation='tanh',\n",
    "            recurrent_initializer = tf.keras.initializers.GlorotUniform(seed=random_seed),\n",
    "            kernel_initializer = tf.keras.initializers.GlorotUniform(seed=random_seed) ,\n",
    "            return_sequences=False)(x)\n",
    "    \n",
    "    \n",
    "    x = bln_layer(stateful = True, batchsize= batch_size, name = 'bn2', \n",
    "                  batch_moving_mean = b_mm, batch_moving_var = b_mv,\n",
    "                  feature_moving_mean = f_mm, feature_moving_var = f_mv)(x) \n",
    "    \n",
    "    output_lyr = dense_layer(units = dense_units, name = 'dense1', random_seed=random_seed)(x)    \n",
    "    return tf.keras.Model(inputs = [input_lyr], outputs = [output_lyr])"
   ]
  },
  {
   "cell_type": "code",
   "execution_count": 10,
   "metadata": {},
   "outputs": [],
   "source": [
    "model_bln_layer = BLNLayer_model(inputshape= (80), max_features = max_features, \n",
    "                                        embed_size= 128, random_seed = random_seed,\n",
    "                                        lstm_unit = 128 , dense_units= num_classes,\n",
    "                                        batch_size = minibatch,\n",
    "                                        b_mm = True, b_mv = True,\n",
    "                                        f_mm = False, f_mv = False\n",
    "                                        )\n",
    "\n"
   ]
  },
  {
   "cell_type": "code",
   "execution_count": 11,
   "metadata": {},
   "outputs": [
    {
     "name": "stdout",
     "output_type": "stream",
     "text": [
      "Model: \"model\"\n",
      "_________________________________________________________________\n",
      "Layer (type)                 Output Shape              Param #   \n",
      "=================================================================\n",
      "input (InputLayer)           [(25, 80)]                0         \n",
      "_________________________________________________________________\n",
      "embedding (Embedding)        (25, 80, 128)             2560000   \n",
      "_________________________________________________________________\n",
      "lstm (LSTM)                  (25, 80, 128)             131584    \n",
      "_________________________________________________________________\n",
      "bn1 (bln_layer)              (25, 80, 128)             24738     \n",
      "_________________________________________________________________\n",
      "lstm_1 (LSTM)                (25, 64)                  49408     \n",
      "_________________________________________________________________\n",
      "bn2 (bln_layer)              (25, 64)                  308       \n",
      "_________________________________________________________________\n",
      "dense1 (dense_layer)         (25, 1)                   65        \n",
      "=================================================================\n",
      "Total params: 2,766,103\n",
      "Trainable params: 2,741,441\n",
      "Non-trainable params: 24,662\n",
      "_________________________________________________________________\n"
     ]
    }
   ],
   "source": [
    "model_bln_layer.summary()"
   ]
  },
  {
   "cell_type": "markdown",
   "metadata": {},
   "source": [
    "# callbacks"
   ]
  },
  {
   "cell_type": "code",
   "execution_count": 12,
   "metadata": {},
   "outputs": [],
   "source": [
    "# Callbacks for saving best model and tensorboard\n",
    "folder_name = str(number_batches_train) + '_bln_layer_TTFF_imdb'\n",
    "save_bm_cb = save_best_model_callback(folder_name)\n",
    "tb_cb = tensorboard_callback(folder_name)\n",
    "\n",
    "# Callback for resetting moving mean and variances at the end of each epoch\n",
    "bln_layer_cb = bln_callback()\n",
    "\n",
    "bln_layer_cb_list = create_callback_list(save_bm_cb, tb_cb, bln_layer_cb)"
   ]
  },
  {
   "cell_type": "code",
   "execution_count": 13,
   "metadata": {},
   "outputs": [],
   "source": [
    "model_bln_layer.compile(optimizer = tf.keras.optimizers.Adam(learning_rate=learning_rate),\n",
    "                               loss = tf.keras.losses.BinaryCrossentropy(from_logits=True),\n",
    "                               metrics = [tf.keras.metrics.BinaryAccuracy()])"
   ]
  },
  {
   "cell_type": "code",
   "execution_count": 14,
   "metadata": {
    "scrolled": false
   },
   "outputs": [
    {
     "name": "stdout",
     "output_type": "stream",
     "text": [
      "Train for 160 steps, validate for 40 steps\n",
      "Epoch 1/10\n",
      "160/160 [==============================] - 114s 710ms/step - loss: 0.6963 - binary_accuracy: 0.4992 - val_loss: 0.6996 - val_binary_accuracy: 0.4880\n",
      "Epoch 2/10\n",
      "160/160 [==============================] - 112s 698ms/step - loss: 0.5656 - binary_accuracy: 0.6718 - val_loss: 0.5887 - val_binary_accuracy: 0.7110\n",
      "Epoch 3/10\n",
      "160/160 [==============================] - 117s 732ms/step - loss: 0.2682 - binary_accuracy: 0.8867 - val_loss: 1.1652 - val_binary_accuracy: 0.6210\n",
      "Epoch 4/10\n",
      "160/160 [==============================] - 112s 702ms/step - loss: 0.1336 - binary_accuracy: 0.9488 - val_loss: 0.7125 - val_binary_accuracy: 0.7250\n",
      "Epoch 5/10\n",
      "160/160 [==============================] - 112s 700ms/step - loss: 0.0857 - binary_accuracy: 0.9680 - val_loss: 1.7120 - val_binary_accuracy: 0.6390\n",
      "Epoch 6/10\n",
      "160/160 [==============================] - 112s 699ms/step - loss: 0.0590 - binary_accuracy: 0.9803 - val_loss: 0.8534 - val_binary_accuracy: 0.7360\n",
      "Epoch 7/10\n",
      "160/160 [==============================] - 117s 731ms/step - loss: 0.0347 - binary_accuracy: 0.9883 - val_loss: 1.0733 - val_binary_accuracy: 0.7200\n",
      "Epoch 8/10\n",
      "160/160 [==============================] - 118s 735ms/step - loss: 0.0146 - binary_accuracy: 0.9962 - val_loss: 1.3566 - val_binary_accuracy: 0.7280\n",
      "Epoch 9/10\n",
      "160/160 [==============================] - 117s 732ms/step - loss: 0.0244 - binary_accuracy: 0.9902 - val_loss: 1.5014 - val_binary_accuracy: 0.7240\n",
      "Epoch 10/10\n",
      "160/160 [==============================] - 115s 720ms/step - loss: 0.0154 - binary_accuracy: 0.9952 - val_loss: 1.3217 - val_binary_accuracy: 0.7260\n"
     ]
    }
   ],
   "source": [
    "\n",
    "\n",
    "\n",
    "\n",
    "model_bln_layer_history =  model_bln_layer.fit(train_dataset.take(number_batches_train), epochs=epochs,\n",
    "                                                verbose=1, callbacks=bln_layer_cb_list,\n",
    "                                                validation_data=valid_dataset.take(number_batches_valid),\n",
    "                                                shuffle=True)"
   ]
  },
  {
   "cell_type": "code",
   "execution_count": 15,
   "metadata": {},
   "outputs": [],
   "source": [
    "weights_path = \"./models/\" + folder_name + '/'+ str(number_batches_train) +\"_pretrained_weights_TTFF.h5\"\n",
    "model_bln_layer.save_weights(weights_path)"
   ]
  },
  {
   "cell_type": "code",
   "execution_count": 16,
   "metadata": {},
   "outputs": [
    {
     "name": "stdout",
     "output_type": "stream",
     "text": [
      "session is clear\n"
     ]
    }
   ],
   "source": [
    "del model_bln_layer, save_bm_cb, tb_cb, bln_layer_cb, bln_layer_cb_list\n",
    "reset_graph()"
   ]
  },
  {
   "cell_type": "code",
   "execution_count": 17,
   "metadata": {},
   "outputs": [
    {
     "name": "stdout",
     "output_type": "stream",
     "text": [
      "1000/1000 [==============================] - 276s 276ms/step - loss: 1.2311 - binary_accuracy: 0.7499\n",
      "{'Bmm_True Bmv_True Fmm_True Fmv_True': [1.2311193042621016, 0.74988]}\n",
      "session is clear\n",
      "1000/1000 [==============================] - 273s 273ms/step - loss: 1.2339 - binary_accuracy: 0.7501\n",
      "{'Bmm_True Bmv_True Fmm_True Fmv_True': [1.2311193042621016, 0.74988], 'Bmm_True Bmv_True Fmm_True Fmv_False': [1.2338628122713418, 0.75012]}\n",
      "session is clear\n",
      "1000/1000 [==============================] - 270s 270ms/step - loss: 1.2310 - binary_accuracy: 0.7499\n",
      "{'Bmm_True Bmv_True Fmm_True Fmv_True': [1.2311193042621016, 0.74988], 'Bmm_True Bmv_True Fmm_True Fmv_False': [1.2338628122713418, 0.75012], 'Bmm_True Bmv_True Fmm_False Fmv_True': [1.2309971923800185, 0.74988]}\n",
      "session is clear\n",
      "1000/1000 [==============================] - 269s 269ms/step - loss: 1.2337 - binary_accuracy: 0.7502\n",
      "{'Bmm_True Bmv_True Fmm_True Fmv_True': [1.2311193042621016, 0.74988], 'Bmm_True Bmv_True Fmm_True Fmv_False': [1.2338628122713418, 0.75012], 'Bmm_True Bmv_True Fmm_False Fmv_True': [1.2309971923800185, 0.74988], 'Bmm_True Bmv_True Fmm_False Fmv_False': [1.233710964180529, 0.75016]}\n",
      "session is clear\n",
      "1000/1000 [==============================] - 270s 270ms/step - loss: 1.5857 - binary_accuracy: 0.7485\n",
      "{'Bmm_True Bmv_True Fmm_True Fmv_True': [1.2311193042621016, 0.74988], 'Bmm_True Bmv_True Fmm_True Fmv_False': [1.2338628122713418, 0.75012], 'Bmm_True Bmv_True Fmm_False Fmv_True': [1.2309971923800185, 0.74988], 'Bmm_True Bmv_True Fmm_False Fmv_False': [1.233710964180529, 0.75016], 'Bmm_True Bmv_False Fmm_True Fmv_True': [1.5856956378873437, 0.74848]}\n",
      "session is clear\n",
      "1000/1000 [==============================] - 269s 269ms/step - loss: 1.5898 - binary_accuracy: 0.7487\n",
      "{'Bmm_True Bmv_True Fmm_True Fmv_True': [1.2311193042621016, 0.74988], 'Bmm_True Bmv_True Fmm_True Fmv_False': [1.2338628122713418, 0.75012], 'Bmm_True Bmv_True Fmm_False Fmv_True': [1.2309971923800185, 0.74988], 'Bmm_True Bmv_True Fmm_False Fmv_False': [1.233710964180529, 0.75016], 'Bmm_True Bmv_False Fmm_True Fmv_True': [1.5856956378873437, 0.74848], 'Bmm_True Bmv_False Fmm_True Fmv_False': [1.5897604931164533, 0.74872]}\n",
      "session is clear\n",
      "1000/1000 [==============================] - 268s 268ms/step - loss: 1.5856 - binary_accuracy: 0.7485\n",
      "{'Bmm_True Bmv_True Fmm_True Fmv_True': [1.2311193042621016, 0.74988], 'Bmm_True Bmv_True Fmm_True Fmv_False': [1.2338628122713418, 0.75012], 'Bmm_True Bmv_True Fmm_False Fmv_True': [1.2309971923800185, 0.74988], 'Bmm_True Bmv_True Fmm_False Fmv_False': [1.233710964180529, 0.75016], 'Bmm_True Bmv_False Fmm_True Fmv_True': [1.5856956378873437, 0.74848], 'Bmm_True Bmv_False Fmm_True Fmv_False': [1.5897604931164533, 0.74872], 'Bmm_True Bmv_False Fmm_False Fmv_True': [1.5856163126975298, 0.74852]}\n",
      "session is clear\n",
      "1000/1000 [==============================] - 269s 269ms/step - loss: 1.5896 - binary_accuracy: 0.7487\n",
      "{'Bmm_True Bmv_True Fmm_True Fmv_True': [1.2311193042621016, 0.74988], 'Bmm_True Bmv_True Fmm_True Fmv_False': [1.2338628122713418, 0.75012], 'Bmm_True Bmv_True Fmm_False Fmv_True': [1.2309971923800185, 0.74988], 'Bmm_True Bmv_True Fmm_False Fmv_False': [1.233710964180529, 0.75016], 'Bmm_True Bmv_False Fmm_True Fmv_True': [1.5856956378873437, 0.74848], 'Bmm_True Bmv_False Fmm_True Fmv_False': [1.5897604931164533, 0.74872], 'Bmm_True Bmv_False Fmm_False Fmv_True': [1.5856163126975298, 0.74852], 'Bmm_True Bmv_False Fmm_False Fmv_False': [1.5896479517240076, 0.74872]}\n",
      "session is clear\n",
      "1000/1000 [==============================] - 267s 267ms/step - loss: 1.2100 - binary_accuracy: 0.7497\n",
      "{'Bmm_True Bmv_True Fmm_True Fmv_True': [1.2311193042621016, 0.74988], 'Bmm_True Bmv_True Fmm_True Fmv_False': [1.2338628122713418, 0.75012], 'Bmm_True Bmv_True Fmm_False Fmv_True': [1.2309971923800185, 0.74988], 'Bmm_True Bmv_True Fmm_False Fmv_False': [1.233710964180529, 0.75016], 'Bmm_True Bmv_False Fmm_True Fmv_True': [1.5856956378873437, 0.74848], 'Bmm_True Bmv_False Fmm_True Fmv_False': [1.5897604931164533, 0.74872], 'Bmm_True Bmv_False Fmm_False Fmv_True': [1.5856163126975298, 0.74852], 'Bmm_True Bmv_False Fmm_False Fmv_False': [1.5896479517240076, 0.74872], 'Bmm_False Bmv_True Fmm_True Fmv_True': [1.2100462854839862, 0.74968]}\n",
      "session is clear\n",
      "1000/1000 [==============================] - 269s 269ms/step - loss: 1.2140 - binary_accuracy: 0.7492\n",
      "{'Bmm_True Bmv_True Fmm_True Fmv_True': [1.2311193042621016, 0.74988], 'Bmm_True Bmv_True Fmm_True Fmv_False': [1.2338628122713418, 0.75012], 'Bmm_True Bmv_True Fmm_False Fmv_True': [1.2309971923800185, 0.74988], 'Bmm_True Bmv_True Fmm_False Fmv_False': [1.233710964180529, 0.75016], 'Bmm_True Bmv_False Fmm_True Fmv_True': [1.5856956378873437, 0.74848], 'Bmm_True Bmv_False Fmm_True Fmv_False': [1.5897604931164533, 0.74872], 'Bmm_True Bmv_False Fmm_False Fmv_True': [1.5856163126975298, 0.74852], 'Bmm_True Bmv_False Fmm_False Fmv_False': [1.5896479517240076, 0.74872], 'Bmm_False Bmv_True Fmm_True Fmv_True': [1.2100462854839862, 0.74968], 'Bmm_False Bmv_True Fmm_True Fmv_False': [1.214009676143527, 0.74924]}\n",
      "session is clear\n",
      "1000/1000 [==============================] - 267s 267ms/step - loss: 1.2099 - binary_accuracy: 0.7497\n",
      "{'Bmm_True Bmv_True Fmm_True Fmv_True': [1.2311193042621016, 0.74988], 'Bmm_True Bmv_True Fmm_True Fmv_False': [1.2338628122713418, 0.75012], 'Bmm_True Bmv_True Fmm_False Fmv_True': [1.2309971923800185, 0.74988], 'Bmm_True Bmv_True Fmm_False Fmv_False': [1.233710964180529, 0.75016], 'Bmm_True Bmv_False Fmm_True Fmv_True': [1.5856956378873437, 0.74848], 'Bmm_True Bmv_False Fmm_True Fmv_False': [1.5897604931164533, 0.74872], 'Bmm_True Bmv_False Fmm_False Fmv_True': [1.5856163126975298, 0.74852], 'Bmm_True Bmv_False Fmm_False Fmv_False': [1.5896479517240076, 0.74872], 'Bmm_False Bmv_True Fmm_True Fmv_True': [1.2100462854839862, 0.74968], 'Bmm_False Bmv_True Fmm_True Fmv_False': [1.214009676143527, 0.74924], 'Bmm_False Bmv_True Fmm_False Fmv_True': [1.209926229007542, 0.74968]}\n",
      "session is clear\n",
      "1000/1000 [==============================] - 268s 268ms/step - loss: 1.2139 - binary_accuracy: 0.7492\n",
      "{'Bmm_True Bmv_True Fmm_True Fmv_True': [1.2311193042621016, 0.74988], 'Bmm_True Bmv_True Fmm_True Fmv_False': [1.2338628122713418, 0.75012], 'Bmm_True Bmv_True Fmm_False Fmv_True': [1.2309971923800185, 0.74988], 'Bmm_True Bmv_True Fmm_False Fmv_False': [1.233710964180529, 0.75016], 'Bmm_True Bmv_False Fmm_True Fmv_True': [1.5856956378873437, 0.74848], 'Bmm_True Bmv_False Fmm_True Fmv_False': [1.5897604931164533, 0.74872], 'Bmm_True Bmv_False Fmm_False Fmv_True': [1.5856163126975298, 0.74852], 'Bmm_True Bmv_False Fmm_False Fmv_False': [1.5896479517240076, 0.74872], 'Bmm_False Bmv_True Fmm_True Fmv_True': [1.2100462854839862, 0.74968], 'Bmm_False Bmv_True Fmm_True Fmv_False': [1.214009676143527, 0.74924], 'Bmm_False Bmv_True Fmm_False Fmv_True': [1.209926229007542, 0.74968], 'Bmm_False Bmv_True Fmm_False Fmv_False': [1.2138684452474118, 0.74924]}\n",
      "session is clear\n",
      "1000/1000 [==============================] - 267s 267ms/step - loss: 1.5490 - binary_accuracy: 0.7474\n",
      "{'Bmm_True Bmv_True Fmm_True Fmv_True': [1.2311193042621016, 0.74988], 'Bmm_True Bmv_True Fmm_True Fmv_False': [1.2338628122713418, 0.75012], 'Bmm_True Bmv_True Fmm_False Fmv_True': [1.2309971923800185, 0.74988], 'Bmm_True Bmv_True Fmm_False Fmv_False': [1.233710964180529, 0.75016], 'Bmm_True Bmv_False Fmm_True Fmv_True': [1.5856956378873437, 0.74848], 'Bmm_True Bmv_False Fmm_True Fmv_False': [1.5897604931164533, 0.74872], 'Bmm_True Bmv_False Fmm_False Fmv_True': [1.5856163126975298, 0.74852], 'Bmm_True Bmv_False Fmm_False Fmv_False': [1.5896479517240076, 0.74872], 'Bmm_False Bmv_True Fmm_True Fmv_True': [1.2100462854839862, 0.74968], 'Bmm_False Bmv_True Fmm_True Fmv_False': [1.214009676143527, 0.74924], 'Bmm_False Bmv_True Fmm_False Fmv_True': [1.209926229007542, 0.74968], 'Bmm_False Bmv_True Fmm_False Fmv_False': [1.2138684452474118, 0.74924], 'Bmm_False Bmv_False Fmm_True Fmv_True': [1.548958334721625, 0.74736]}\n",
      "session is clear\n",
      "1000/1000 [==============================] - 267s 267ms/step - loss: 1.5548 - binary_accuracy: 0.7476\n",
      "{'Bmm_True Bmv_True Fmm_True Fmv_True': [1.2311193042621016, 0.74988], 'Bmm_True Bmv_True Fmm_True Fmv_False': [1.2338628122713418, 0.75012], 'Bmm_True Bmv_True Fmm_False Fmv_True': [1.2309971923800185, 0.74988], 'Bmm_True Bmv_True Fmm_False Fmv_False': [1.233710964180529, 0.75016], 'Bmm_True Bmv_False Fmm_True Fmv_True': [1.5856956378873437, 0.74848], 'Bmm_True Bmv_False Fmm_True Fmv_False': [1.5897604931164533, 0.74872], 'Bmm_True Bmv_False Fmm_False Fmv_True': [1.5856163126975298, 0.74852], 'Bmm_True Bmv_False Fmm_False Fmv_False': [1.5896479517240076, 0.74872], 'Bmm_False Bmv_True Fmm_True Fmv_True': [1.2100462854839862, 0.74968], 'Bmm_False Bmv_True Fmm_True Fmv_False': [1.214009676143527, 0.74924], 'Bmm_False Bmv_True Fmm_False Fmv_True': [1.209926229007542, 0.74968], 'Bmm_False Bmv_True Fmm_False Fmv_False': [1.2138684452474118, 0.74924], 'Bmm_False Bmv_False Fmm_True Fmv_True': [1.548958334721625, 0.74736], 'Bmm_False Bmv_False Fmm_True Fmv_False': [1.5547508103698493, 0.74756]}\n",
      "session is clear\n"
     ]
    },
    {
     "name": "stdout",
     "output_type": "stream",
     "text": [
      "1000/1000 [==============================] - 268s 268ms/step - loss: 1.5489 - binary_accuracy: 0.7474\n",
      "{'Bmm_True Bmv_True Fmm_True Fmv_True': [1.2311193042621016, 0.74988], 'Bmm_True Bmv_True Fmm_True Fmv_False': [1.2338628122713418, 0.75012], 'Bmm_True Bmv_True Fmm_False Fmv_True': [1.2309971923800185, 0.74988], 'Bmm_True Bmv_True Fmm_False Fmv_False': [1.233710964180529, 0.75016], 'Bmm_True Bmv_False Fmm_True Fmv_True': [1.5856956378873437, 0.74848], 'Bmm_True Bmv_False Fmm_True Fmv_False': [1.5897604931164533, 0.74872], 'Bmm_True Bmv_False Fmm_False Fmv_True': [1.5856163126975298, 0.74852], 'Bmm_True Bmv_False Fmm_False Fmv_False': [1.5896479517240076, 0.74872], 'Bmm_False Bmv_True Fmm_True Fmv_True': [1.2100462854839862, 0.74968], 'Bmm_False Bmv_True Fmm_True Fmv_False': [1.214009676143527, 0.74924], 'Bmm_False Bmv_True Fmm_False Fmv_True': [1.209926229007542, 0.74968], 'Bmm_False Bmv_True Fmm_False Fmv_False': [1.2138684452474118, 0.74924], 'Bmm_False Bmv_False Fmm_True Fmv_True': [1.548958334721625, 0.74736], 'Bmm_False Bmv_False Fmm_True Fmv_False': [1.5547508103698493, 0.74756], 'Bmm_False Bmv_False Fmm_False Fmv_True': [1.548880701713264, 0.74736]}\n",
      "session is clear\n",
      "1000/1000 [==============================] - 267s 267ms/step - loss: 1.5546 - binary_accuracy: 0.7476\n",
      "{'Bmm_True Bmv_True Fmm_True Fmv_True': [1.2311193042621016, 0.74988], 'Bmm_True Bmv_True Fmm_True Fmv_False': [1.2338628122713418, 0.75012], 'Bmm_True Bmv_True Fmm_False Fmv_True': [1.2309971923800185, 0.74988], 'Bmm_True Bmv_True Fmm_False Fmv_False': [1.233710964180529, 0.75016], 'Bmm_True Bmv_False Fmm_True Fmv_True': [1.5856956378873437, 0.74848], 'Bmm_True Bmv_False Fmm_True Fmv_False': [1.5897604931164533, 0.74872], 'Bmm_True Bmv_False Fmm_False Fmv_True': [1.5856163126975298, 0.74852], 'Bmm_True Bmv_False Fmm_False Fmv_False': [1.5896479517240076, 0.74872], 'Bmm_False Bmv_True Fmm_True Fmv_True': [1.2100462854839862, 0.74968], 'Bmm_False Bmv_True Fmm_True Fmv_False': [1.214009676143527, 0.74924], 'Bmm_False Bmv_True Fmm_False Fmv_True': [1.209926229007542, 0.74968], 'Bmm_False Bmv_True Fmm_False Fmv_False': [1.2138684452474118, 0.74924], 'Bmm_False Bmv_False Fmm_True Fmv_True': [1.548958334721625, 0.74736], 'Bmm_False Bmv_False Fmm_True Fmv_False': [1.5547508103698493, 0.74756], 'Bmm_False Bmv_False Fmm_False Fmv_True': [1.548880701713264, 0.74736], 'Bmm_False Bmv_False Fmm_False Fmv_False': [1.554649827219546, 0.7476]}\n",
      "session is clear\n"
     ]
    }
   ],
   "source": [
    "save_eval_path = \"./logs/\" + folder_name + '/'+ str(number_batches_train) +\"_sorted_evaluation.pkl\"\n",
    "evaluation = grid_serach(BLNLayer_model, test_dataset,\n",
    "                         batch_size = minibatch, sort=True,\n",
    "                         save_eval_path = save_eval_path,\n",
    "                         weights_path = weights_path,\n",
    "                         loss = tf.keras.losses.BinaryCrossentropy(from_logits=True),\n",
    "                         metrics = tf.keras.metrics.BinaryAccuracy())\n",
    "\n"
   ]
  },
  {
   "cell_type": "code",
   "execution_count": 18,
   "metadata": {},
   "outputs": [
    {
     "data": {
      "text/plain": [
       "[('Bmm_False Bmv_True Fmm_False Fmv_True', [1.209926229007542, 0.74968]),\n",
       " ('Bmm_False Bmv_True Fmm_True Fmv_True', [1.2100462854839862, 0.74968]),\n",
       " ('Bmm_False Bmv_True Fmm_False Fmv_False', [1.2138684452474118, 0.74924]),\n",
       " ('Bmm_False Bmv_True Fmm_True Fmv_False', [1.214009676143527, 0.74924]),\n",
       " ('Bmm_True Bmv_True Fmm_False Fmv_True', [1.2309971923800185, 0.74988]),\n",
       " ('Bmm_True Bmv_True Fmm_True Fmv_True', [1.2311193042621016, 0.74988]),\n",
       " ('Bmm_True Bmv_True Fmm_False Fmv_False', [1.233710964180529, 0.75016]),\n",
       " ('Bmm_True Bmv_True Fmm_True Fmv_False', [1.2338628122713418, 0.75012]),\n",
       " ('Bmm_False Bmv_False Fmm_False Fmv_True', [1.548880701713264, 0.74736]),\n",
       " ('Bmm_False Bmv_False Fmm_True Fmv_True', [1.548958334721625, 0.74736]),\n",
       " ('Bmm_False Bmv_False Fmm_False Fmv_False', [1.554649827219546, 0.7476]),\n",
       " ('Bmm_False Bmv_False Fmm_True Fmv_False', [1.5547508103698493, 0.74756]),\n",
       " ('Bmm_True Bmv_False Fmm_False Fmv_True', [1.5856163126975298, 0.74852]),\n",
       " ('Bmm_True Bmv_False Fmm_True Fmv_True', [1.5856956378873437, 0.74848]),\n",
       " ('Bmm_True Bmv_False Fmm_False Fmv_False', [1.5896479517240076, 0.74872]),\n",
       " ('Bmm_True Bmv_False Fmm_True Fmv_False', [1.5897604931164533, 0.74872])]"
      ]
     },
     "execution_count": 18,
     "metadata": {},
     "output_type": "execute_result"
    }
   ],
   "source": [
    "evaluation "
   ]
  },
  {
   "cell_type": "markdown",
   "metadata": {},
   "source": [
    "# 2.Using  Batch Normalization implemented in Keras"
   ]
  },
  {
   "cell_type": "code",
   "execution_count": 19,
   "metadata": {},
   "outputs": [],
   "source": [
    "def bn_keras_model(inputshape= (80), max_features = 20000, embed_size=128, random_seed = 100,\n",
    "                          lstm_unit = 128 , dense_units= 1,\n",
    "                          batch_size = 60):\n",
    "    \n",
    "\n",
    "    \n",
    "    input_lyr = tf.keras.Input(shape = inputshape, batch_size=batch_size, name = 'input')\n",
    "    \n",
    "    x = Embedding(max_features, embed_size,\n",
    "                  embeddings_initializer=tf.keras.initializers.GlorotUniform(seed=random_seed))(input_lyr)\n",
    "    \n",
    "    x = LSTM(lstm_unit, dropout=0.2, recurrent_dropout=0.2, activation='tanh',\n",
    "            recurrent_initializer = tf.keras.initializers.GlorotUniform(seed=random_seed),\n",
    "            kernel_initializer = tf.keras.initializers.GlorotUniform(seed=random_seed) ,\n",
    "            return_sequences=True)(x)\n",
    "    \n",
    "    x =  tf.keras.layers.BatchNormalization(momentum = 0.99,  name = 'bn1') (x) \n",
    "    \n",
    "    x = LSTM(lstm_unit//2, dropout=0.2,  recurrent_dropout=0.2, activation='tanh',\n",
    "            recurrent_initializer = tf.keras.initializers.GlorotUniform(seed=random_seed),\n",
    "            kernel_initializer = tf.keras.initializers.GlorotUniform(seed=random_seed) ,\n",
    "            return_sequences=False)(x)\n",
    "    \n",
    "    x =  tf.keras.layers.BatchNormalization(momentum = 0.99,  name = 'bn2') (x) \n",
    "\n",
    "    \n",
    "    output_lyr = dense_layer(units = dense_units, name = 'dense1', random_seed=random_seed)(x)    \n",
    "    return tf.keras.Model(inputs = [input_lyr], outputs = [output_lyr])\n"
   ]
  },
  {
   "cell_type": "code",
   "execution_count": 20,
   "metadata": {},
   "outputs": [
    {
     "name": "stdout",
     "output_type": "stream",
     "text": [
      "Model: \"model\"\n",
      "_________________________________________________________________\n",
      "Layer (type)                 Output Shape              Param #   \n",
      "=================================================================\n",
      "input (InputLayer)           [(25, 80)]                0         \n",
      "_________________________________________________________________\n",
      "embedding (Embedding)        (25, 80, 128)             2560000   \n",
      "_________________________________________________________________\n",
      "lstm (LSTM)                  (25, 80, 128)             131584    \n",
      "_________________________________________________________________\n",
      "bn1 (BatchNormalization)     (25, 80, 128)             512       \n",
      "_________________________________________________________________\n",
      "lstm_1 (LSTM)                (25, 64)                  49408     \n",
      "_________________________________________________________________\n",
      "bn2 (BatchNormalization)     (25, 64)                  256       \n",
      "_________________________________________________________________\n",
      "dense1 (dense_layer)         (25, 1)                   65        \n",
      "=================================================================\n",
      "Total params: 2,741,825\n",
      "Trainable params: 2,741,441\n",
      "Non-trainable params: 384\n",
      "_________________________________________________________________\n"
     ]
    }
   ],
   "source": [
    "model_bn_keras = bn_keras_model(inputshape= (80), max_features = max_features, \n",
    "                                embed_size= 128, random_seed = random_seed,\n",
    "                                lstm_unit = 128 , dense_units= num_classes,\n",
    "                                batch_size = minibatch)\n",
    "model_bn_keras.summary()\n",
    "\n",
    "#### Compiling \n",
    "model_bn_keras.compile(optimizer = tf.keras.optimizers.Adam(learning_rate=learning_rate),\n",
    "                       loss = tf.keras.losses.BinaryCrossentropy(from_logits=True),\n",
    "                       metrics = [tf.keras.metrics.BinaryAccuracy()])"
   ]
  },
  {
   "cell_type": "code",
   "execution_count": 21,
   "metadata": {},
   "outputs": [],
   "source": [
    "# Callbacks for saving best model and tensorboard\n",
    "folder_name = str(number_batches_train) + '_bn_Keras_imdb'\n",
    "save_bm_cb = save_best_model_callback(folder_name)\n",
    "tb_cb = tensorboard_callback(folder_name)\n",
    "\n",
    "\n",
    "bn_keras_cb_list = [save_bm_cb, tb_cb]"
   ]
  },
  {
   "cell_type": "code",
   "execution_count": 22,
   "metadata": {},
   "outputs": [
    {
     "name": "stdout",
     "output_type": "stream",
     "text": [
      "Train for 160 steps, validate for 40 steps\n",
      "Epoch 1/10\n",
      "160/160 [==============================] - 112s 702ms/step - loss: 0.7267 - binary_accuracy: 0.5063 - val_loss: 0.7150 - val_binary_accuracy: 0.4880\n",
      "Epoch 2/10\n",
      "160/160 [==============================] - 115s 719ms/step - loss: 0.6288 - binary_accuracy: 0.6065 - val_loss: 0.7245 - val_binary_accuracy: 0.5830\n",
      "Epoch 3/10\n",
      "160/160 [==============================] - 112s 699ms/step - loss: 0.4382 - binary_accuracy: 0.7822 - val_loss: 0.6841 - val_binary_accuracy: 0.6200\n",
      "Epoch 4/10\n",
      "160/160 [==============================] - 113s 705ms/step - loss: 0.2739 - binary_accuracy: 0.8825 - val_loss: 1.4059 - val_binary_accuracy: 0.4910\n",
      "Epoch 5/10\n",
      "160/160 [==============================] - 112s 698ms/step - loss: 0.1819 - binary_accuracy: 0.9258 - val_loss: 1.0728 - val_binary_accuracy: 0.6240\n",
      "Epoch 6/10\n",
      "160/160 [==============================] - 112s 698ms/step - loss: 0.1093 - binary_accuracy: 0.9582 - val_loss: 1.3097 - val_binary_accuracy: 0.6760\n",
      "Epoch 7/10\n",
      "160/160 [==============================] - 113s 706ms/step - loss: 0.0696 - binary_accuracy: 0.9755 - val_loss: 1.5001 - val_binary_accuracy: 0.6860\n",
      "Epoch 8/10\n",
      "160/160 [==============================] - 116s 728ms/step - loss: 0.0433 - binary_accuracy: 0.9860 - val_loss: 1.8208 - val_binary_accuracy: 0.6720\n",
      "Epoch 9/10\n",
      "160/160 [==============================] - 116s 728ms/step - loss: 0.0337 - binary_accuracy: 0.9877 - val_loss: 1.8296 - val_binary_accuracy: 0.6660\n",
      "Epoch 10/10\n",
      "160/160 [==============================] - 112s 702ms/step - loss: 0.0373 - binary_accuracy: 0.9883 - val_loss: 2.0462 - val_binary_accuracy: 0.6510\n"
     ]
    }
   ],
   "source": [
    "model_bn_keras_history =  model_bn_keras.fit(train_dataset.take(number_batches_train),\n",
    "                                             epochs = epochs, verbose=1, \n",
    "                                             callbacks = bn_keras_cb_list,\n",
    "                                             validation_data = valid_dataset.take(number_batches_valid),\n",
    "                                             shuffle = True)"
   ]
  },
  {
   "cell_type": "code",
   "execution_count": 23,
   "metadata": {},
   "outputs": [
    {
     "name": "stdout",
     "output_type": "stream",
     "text": [
      "1000/1000 [==============================] - 267s 267ms/step - loss: 1.9658 - binary_accuracy: 0.6570\n"
     ]
    }
   ],
   "source": [
    "model_bn_keras_test_history = model_bn_keras.evaluate(test_dataset)"
   ]
  },
  {
   "cell_type": "code",
   "execution_count": 24,
   "metadata": {},
   "outputs": [
    {
     "name": "stdout",
     "output_type": "stream",
     "text": [
      "session is clear\n"
     ]
    }
   ],
   "source": [
    "del model_bn_keras, save_bm_cb, tb_cb, bn_keras_cb_list \n",
    "reset_graph()"
   ]
  },
  {
   "cell_type": "markdown",
   "metadata": {},
   "source": [
    "# 3.Using  Layer normalization  implemented in Keras\n"
   ]
  },
  {
   "cell_type": "code",
   "execution_count": 25,
   "metadata": {},
   "outputs": [],
   "source": [
    "def ln_keras_model(inputshape= (80), max_features = 20000, embed_size=128, random_seed = 100,\n",
    "                          lstm_unit = 128 , dense_units= 1,\n",
    "                          batch_size = 60):\n",
    "    \n",
    "\n",
    "    \n",
    "    input_lyr = tf.keras.Input(shape = inputshape, batch_size=batch_size, name = 'input')\n",
    "    \n",
    "    x = Embedding(max_features, embed_size,\n",
    "                  embeddings_initializer=tf.keras.initializers.GlorotUniform(seed=random_seed))(input_lyr)\n",
    "    \n",
    "    x = LSTM(lstm_unit, dropout=0.2, recurrent_dropout=0.2, activation='tanh',\n",
    "            recurrent_initializer = tf.keras.initializers.GlorotUniform(seed=random_seed),\n",
    "            kernel_initializer = tf.keras.initializers.GlorotUniform(seed=random_seed) ,\n",
    "            return_sequences=True)(x)\n",
    "    \n",
    "    x =  tf.keras.layers.LayerNormalization()(x) \n",
    "\n",
    "    x = LSTM(lstm_unit//2, dropout=0.2,  recurrent_dropout=0.2, activation='tanh',\n",
    "            recurrent_initializer = tf.keras.initializers.GlorotUniform(seed=random_seed),\n",
    "            kernel_initializer = tf.keras.initializers.GlorotUniform(seed=random_seed) ,\n",
    "            return_sequences=False)(x)\n",
    "    \n",
    "    x =  tf.keras.layers.LayerNormalization()(x) \n",
    "\n",
    "    \n",
    "    output_lyr = dense_layer(units = dense_units, name = 'dense1', random_seed=random_seed)(x)    \n",
    "    return tf.keras.Model(inputs = [input_lyr], outputs = [output_lyr])\n",
    "\n"
   ]
  },
  {
   "cell_type": "code",
   "execution_count": 26,
   "metadata": {},
   "outputs": [
    {
     "name": "stdout",
     "output_type": "stream",
     "text": [
      "Model: \"model\"\n",
      "_________________________________________________________________\n",
      "Layer (type)                 Output Shape              Param #   \n",
      "=================================================================\n",
      "input (InputLayer)           [(25, 80)]                0         \n",
      "_________________________________________________________________\n",
      "embedding (Embedding)        (25, 80, 128)             2560000   \n",
      "_________________________________________________________________\n",
      "lstm (LSTM)                  (25, 80, 128)             131584    \n",
      "_________________________________________________________________\n",
      "layer_normalization (LayerNo (25, 80, 128)             256       \n",
      "_________________________________________________________________\n",
      "lstm_1 (LSTM)                (25, 64)                  49408     \n",
      "_________________________________________________________________\n",
      "layer_normalization_1 (Layer (25, 64)                  128       \n",
      "_________________________________________________________________\n",
      "dense1 (dense_layer)         (25, 1)                   65        \n",
      "=================================================================\n",
      "Total params: 2,741,441\n",
      "Trainable params: 2,741,441\n",
      "Non-trainable params: 0\n",
      "_________________________________________________________________\n"
     ]
    }
   ],
   "source": [
    "model_ln_keras = ln_keras_model(inputshape= (80), max_features = max_features, \n",
    "                                embed_size= 128, random_seed = random_seed,\n",
    "                                lstm_unit = 128 , dense_units= num_classes,\n",
    "                                batch_size = minibatch)\n",
    "model_ln_keras.summary()\n",
    "\n",
    "#### Compiling \n",
    "model_ln_keras.compile(optimizer = tf.keras.optimizers.Adam(learning_rate=learning_rate),\n",
    "                       loss = tf.keras.losses.BinaryCrossentropy(from_logits=True),\n",
    "                       metrics = [tf.keras.metrics.BinaryAccuracy()])"
   ]
  },
  {
   "cell_type": "code",
   "execution_count": 27,
   "metadata": {},
   "outputs": [],
   "source": [
    "# Callbacks for saving best model and tensorboard\n",
    "folder_name = str(number_batches_train) + '_ln_Keras_imdb'\n",
    "save_bm_cb = save_best_model_callback(folder_name)\n",
    "tb_cb = tensorboard_callback(folder_name)\n",
    "\n",
    "ln_keras_cb_list = [save_bm_cb, tb_cb]"
   ]
  },
  {
   "cell_type": "code",
   "execution_count": 28,
   "metadata": {},
   "outputs": [
    {
     "name": "stdout",
     "output_type": "stream",
     "text": [
      "Train for 160 steps, validate for 40 steps\n",
      "Epoch 1/10\n",
      "160/160 [==============================] - 112s 703ms/step - loss: 0.7056 - binary_accuracy: 0.5005 - val_loss: 0.7032 - val_binary_accuracy: 0.4880\n",
      "Epoch 2/10\n",
      "160/160 [==============================] - 112s 697ms/step - loss: 0.5839 - binary_accuracy: 0.6578 - val_loss: 0.6424 - val_binary_accuracy: 0.6640\n",
      "Epoch 3/10\n",
      "160/160 [==============================] - 112s 698ms/step - loss: 0.2981 - binary_accuracy: 0.8698 - val_loss: 0.7155 - val_binary_accuracy: 0.7340\n",
      "Epoch 4/10\n",
      "160/160 [==============================] - 111s 694ms/step - loss: 0.1279 - binary_accuracy: 0.9498 - val_loss: 1.0756 - val_binary_accuracy: 0.6770\n",
      "Epoch 5/10\n",
      "160/160 [==============================] - 111s 695ms/step - loss: 0.0477 - binary_accuracy: 0.9840 - val_loss: 1.2127 - val_binary_accuracy: 0.7340\n",
      "Epoch 6/10\n",
      "160/160 [==============================] - 112s 697ms/step - loss: 0.0149 - binary_accuracy: 0.9952 - val_loss: 1.4550 - val_binary_accuracy: 0.7250\n",
      "Epoch 7/10\n",
      "160/160 [==============================] - 114s 711ms/step - loss: 0.0251 - binary_accuracy: 0.9915 - val_loss: 1.4646 - val_binary_accuracy: 0.7080\n",
      "Epoch 8/10\n",
      "160/160 [==============================] - 111s 696ms/step - loss: 0.0169 - binary_accuracy: 0.9940 - val_loss: 1.3705 - val_binary_accuracy: 0.7370\n",
      "Epoch 9/10\n",
      "160/160 [==============================] - 112s 698ms/step - loss: 0.0122 - binary_accuracy: 0.9955 - val_loss: 1.6173 - val_binary_accuracy: 0.7200\n",
      "Epoch 10/10\n",
      "160/160 [==============================] - 113s 705ms/step - loss: 0.0027 - binary_accuracy: 0.9995 - val_loss: 1.7381 - val_binary_accuracy: 0.7320\n"
     ]
    }
   ],
   "source": [
    "model_ln_keras_history =  model_ln_keras.fit(train_dataset.take(number_batches_train),\n",
    "                                             epochs=epochs, verbose=1, \n",
    "                                             callbacks=ln_keras_cb_list,\n",
    "                                             validation_data=valid_dataset.take(number_batches_valid),\n",
    "                                             shuffle=True)"
   ]
  },
  {
   "cell_type": "code",
   "execution_count": 29,
   "metadata": {},
   "outputs": [
    {
     "name": "stdout",
     "output_type": "stream",
     "text": [
      "1000/1000 [==============================] - 266s 266ms/step - loss: 1.6553 - binary_accuracy: 0.7293\n"
     ]
    }
   ],
   "source": [
    "model_ln_keras_test_history = model_ln_keras.evaluate(test_dataset)"
   ]
  },
  {
   "cell_type": "code",
   "execution_count": 30,
   "metadata": {},
   "outputs": [
    {
     "name": "stdout",
     "output_type": "stream",
     "text": [
      "session is clear\n"
     ]
    }
   ],
   "source": [
    "del model_ln_keras,save_bm_cb, ln_keras_cb_list\n",
    "reset_graph()"
   ]
  },
  {
   "cell_type": "markdown",
   "metadata": {},
   "source": [
    "# 4. Make Comaprison \n",
    "#### Layer Normalization, Batch Normalization and Batch Layer Normalization\n"
   ]
  },
  {
   "cell_type": "code",
   "execution_count": 45,
   "metadata": {},
   "outputs": [
    {
     "name": "stdout",
     "output_type": "stream",
     "text": [
      "dict_keys(['loss', 'binary_accuracy', 'val_loss', 'val_binary_accuracy'])\n"
     ]
    },
    {
     "data": {
      "image/png": "[encoded data removed]",
      "text/plain": [
       "<Figure size 432x288 with 1 Axes>"
      ]
     },
     "metadata": {
      "needs_background": "light"
     },
     "output_type": "display_data"
    },
    {
     "data": {
      "image/png": "[encoded data removed]",
      "text/plain": [
       "<Figure size 432x288 with 1 Axes>"
      ]
     },
     "metadata": {
      "needs_background": "light"
     },
     "output_type": "display_data"
    }
   ],
   "source": [
    "# list all data in history\n",
    "print(model_ln_keras_history.history.keys())\n",
    "# summarize history for accuracy\n",
    "\n",
    "\n",
    "plt.figsize=(12, 12)\n",
    "plt.plot(model_ln_keras_history.history['loss'])\n",
    "plt.plot(model_bn_keras_history.history['loss'])\n",
    "plt.plot(model_bln_layer_history.history['loss'])\n",
    "plt.scatter(9, model_ln_keras_test_history[0], s=80,  marker=(5, 2))\n",
    "plt.scatter(9, model_bn_keras_test_history[0], s=80,  marker=(5, 2))\n",
    "plt.scatter(9,evaluation[0][1][0], s=80,  marker=(5, 2))\n",
    "plt.xticks(np.arange(0, 5, 1))\n",
    "\n",
    "plt.xticks(np.arange(epochs), np.arange(1, epochs+1, 1))\n",
    "plt.ylabel('Loss',fontsize=14)\n",
    "plt.xlabel('Epoch',fontsize=14)\n",
    "plt.legend(['Layer Normalization', 'Batch Normalization','Batch Layer Normalization' ], loc='upper left')\n",
    "ax = plt.gca()\n",
    "ax.text(0.03,0.7,'Stars showing loss on test set',transform=ax.transAxes, bbox=dict(facecolor='none',edgecolor='black',boxstyle='square'))\n",
    "plt.show()\n",
    "\n",
    "\n",
    "plt.plot(model_ln_keras_history.history['binary_accuracy'])\n",
    "plt.plot(model_bn_keras_history.history['binary_accuracy'])\n",
    "plt.plot(model_bln_layer_history.history['binary_accuracy'])\n",
    "plt.scatter(9, model_ln_keras_test_history[1], s=80,  marker=(5, 2))\n",
    "plt.scatter(9, model_bn_keras_test_history[1], s=80,  marker=(5, 2))\n",
    "plt.scatter(9, evaluation[0][1][1], s=80,  marker=(5, 2))\n",
    "#plt.xticks(np.arange(0, 5, 1))\n",
    "#plt.yticks(np.arange(0.2, .6, .05))\n",
    "\n",
    "#plt.title('model validation accuracy')\n",
    "plt.xticks(np.arange(epochs), np.arange(1, epochs+1, 1))\n",
    "plt.ylabel('Accuracy', fontsize=14)\n",
    "plt.xlabel('Epoch',fontsize=14)\n",
    "plt.legend(['Layer Normalization', 'Batch Normalization','Batch Layer Normalization' ], loc='upper left')\n",
    "ax = plt.gca()\n",
    "ax.text(0.3,0.05,'Stars showing accuracy on test set',transform=ax.transAxes, bbox=dict(facecolor='none',edgecolor='black',boxstyle='square'))\n",
    "plt.show()\n",
    "\n"
   ]
  },
  {
   "cell_type": "code",
   "execution_count": null,
   "metadata": {},
   "outputs": [],
   "source": []
  }
 ],
 "metadata": {
  "kernelspec": {
   "display_name": "Python 3",
   "language": "python",
   "name": "python3"
  },
  "language_info": {
   "codemirror_mode": {
    "name": "ipython",
    "version": 3
   },
   "file_extension": ".py",
   "mimetype": "text/x-python",
   "name": "python",
   "nbconvert_exporter": "python",
   "pygments_lexer": "ipython3",
   "version": "3.6.13"
  }
 },
 "nbformat": 4,
 "nbformat_minor": 4
}
