{
 "cells": [
  {
   "cell_type": "code",
   "execution_count": 1,
   "metadata": {},
   "outputs": [],
   "source": [
    "import tensorflow as tf\n",
    "import numpy as np\n",
    "import matplotlib.pyplot as plt\n",
    "\n",
    "\n",
    "from helpers.utils import creat_datasets, creating_val_data, reset_graph, grid_serach, read_pickle_file, write_pickle_file\n",
    "from helpers.utils import creating_train_val_test_datasets, tensorboard_callback,  save_best_model_callback\n",
    "from helpers.bln_layer import  bln_layer\n",
    "from helpers.dense_layer import  dense_layer\n",
    "from helpers.bln_callback import bln_callback \n",
    "\n",
    "\n",
    "\n",
    "\n",
    "from tensorflow.keras.models import Model\n",
    "from tensorflow.keras.preprocessing import sequence\n",
    "from tensorflow.keras.layers import Embedding\n",
    "from tensorflow.keras.layers import LSTM\n",
    "from tensorflow.keras.datasets import imdb"
   ]
  },
  {
   "cell_type": "code",
   "execution_count": 2,
   "metadata": {},
   "outputs": [],
   "source": [
    "tf.config.experimental_run_functions_eagerly(True)"
   ]
  },
  {
   "cell_type": "code",
   "execution_count": 3,
   "metadata": {},
   "outputs": [
    {
     "data": {
      "text/plain": [
       "'2.1.0'"
      ]
     },
     "execution_count": 3,
     "metadata": {},
     "output_type": "execute_result"
    }
   ],
   "source": [
    "tf.__version__"
   ]
  },
  {
   "cell_type": "markdown",
   "metadata": {},
   "source": [
    "### Loading data"
   ]
  },
  {
   "cell_type": "code",
   "execution_count": 4,
   "metadata": {},
   "outputs": [],
   "source": [
    "random_seed = 100\n",
    "minibatch = 25\n",
    "buffersize = 60000\n",
    "number_valid_sampels = 5000 # number of validation data\n",
    "epochs = 10\n",
    "learning_rate = 0.003\n",
    "\n",
    "#((25000  - 5000 )/ 25 ) * 1\n",
    "number_batches_train = 800 # number of batches to train, each batch of size minibatch parameter\n",
    "number_batches_valid = 200 # number of batches to validate, each batch of size minibatch parameter (( 5000 )/ 25 ) * 1\n",
    "num_classes = 1\n",
    "\n",
    "max_features = 20000\n",
    "maxlen = 80  # cut texts after this number of words (among top max_features most common words)\n"
   ]
  },
  {
   "cell_type": "code",
   "execution_count": 5,
   "metadata": {
    "scrolled": true
   },
   "outputs": [
    {
     "name": "stdout",
     "output_type": "stream",
     "text": [
      "Loading data...\n"
     ]
    },
    {
     "name": "stderr",
     "output_type": "stream",
     "text": [
      "C:\\Users\\Rima\\.conda\\envs\\bln\\lib\\site-packages\\tensorflow_core\\python\\keras\\datasets\\imdb.py:129: VisibleDeprecationWarning: Creating an ndarray from ragged nested sequences (which is a list-or-tuple of lists-or-tuples-or ndarrays with different lengths or shapes) is deprecated. If you meant to do this, you must specify 'dtype=object' when creating the ndarray\n",
      "  x_train, y_train = np.array(xs[:idx]), np.array(labels[:idx])\n",
      "C:\\Users\\Rima\\.conda\\envs\\bln\\lib\\site-packages\\tensorflow_core\\python\\keras\\datasets\\imdb.py:130: VisibleDeprecationWarning: Creating an ndarray from ragged nested sequences (which is a list-or-tuple of lists-or-tuples-or ndarrays with different lengths or shapes) is deprecated. If you meant to do this, you must specify 'dtype=object' when creating the ndarray\n",
      "  x_test, y_test = np.array(xs[idx:]), np.array(labels[idx:])\n"
     ]
    },
    {
     "name": "stdout",
     "output_type": "stream",
     "text": [
      "25000 train sequences\n",
      "25000 test sequences\n",
      "Pad sequences (samples x time)\n",
      "x_train shape: (25000, 80)\n",
      "x_test shape: (25000, 80)\n"
     ]
    }
   ],
   "source": [
    "print('Loading data...')\n",
    "(x_train, y_train), (x_test, y_test) = imdb.load_data(num_words=max_features)\n",
    "print(len(x_train), 'train sequences')\n",
    "print(len(x_test), 'test sequences')\n",
    "\n",
    "print('Pad sequences (samples x time)')\n",
    "x_train = sequence.pad_sequences(x_train, maxlen = maxlen)\n",
    "x_test = sequence.pad_sequences(x_test, maxlen = maxlen)\n",
    "print('x_train shape:', x_train.shape)\n",
    "print('x_test shape:', x_test.shape)"
   ]
  },
  {
   "cell_type": "code",
   "execution_count": 6,
   "metadata": {},
   "outputs": [],
   "source": [
    "x_train, y_train, x_valid, y_valid = creating_val_data(x_train, y_train,\n",
    "                                                       number_valid_sampels = number_valid_sampels,\n",
    "                                                       random_seed=random_seed)\n",
    "\n",
    "train_dataset, valid_dataset, test_dataset = creating_train_val_test_datasets(x_train, y_train,\n",
    "                                                                              x_test, y_test,\n",
    "                                                                              x_valid, y_valid, \n",
    "                                                                              minibatch = minibatch,\n",
    "                                                                              buffersize= buffersize,\n",
    "                                                                              random_seed=random_seed)"
   ]
  },
  {
   "cell_type": "code",
   "execution_count": 7,
   "metadata": {},
   "outputs": [
    {
     "data": {
      "text/plain": [
       "<PrefetchDataset shapes: ((25, 80), (25,)), types: (tf.int32, tf.int64)>"
      ]
     },
     "execution_count": 7,
     "metadata": {},
     "output_type": "execute_result"
    }
   ],
   "source": [
    "train_dataset"
   ]
  },
  {
   "cell_type": "markdown",
   "metadata": {},
   "source": [
    "# 1. Using Batch Layer Normalization Layer"
   ]
  },
  {
   "cell_type": "code",
   "execution_count": 8,
   "metadata": {},
   "outputs": [],
   "source": [
    "def BLNLayer_model(inputshape= (80), max_features = 20000, embed_size = 512, random_seed = 100,\n",
    "                          lstm_unit = 128 , dense_units= 1, batch_size = 10,\n",
    "                          b_mm = True, b_mv = True, f_mm = False, f_mv = False):\n",
    "    \n",
    "   \n",
    "    # building the model\n",
    "  \n",
    "    input_lyr = tf.keras.Input(shape = inputshape, batch_size=batch_size, name = 'input')\n",
    "    \n",
    "    x = Embedding(max_features, embed_size,\n",
    "                  embeddings_initializer=tf.keras.initializers.GlorotUniform(seed=random_seed))(input_lyr)\n",
    "    \n",
    "    x = LSTM(lstm_unit, dropout=0.2, recurrent_dropout=0.2,activation='tanh',\n",
    "            recurrent_initializer = tf.keras.initializers.GlorotUniform(seed=random_seed),\n",
    "            kernel_initializer = tf.keras.initializers.GlorotUniform(seed=random_seed) ,\n",
    "            return_sequences=True)(x)\n",
    "    \n",
    "    x = bln_layer(stateful = True, batchsize= batch_size, name = 'bn1', \n",
    "                  batch_moving_mean = b_mm, batch_moving_var = b_mv,\n",
    "                  feature_moving_mean = f_mm, feature_moving_var = f_mv)(x) \n",
    "    \n",
    "    x = LSTM(lstm_unit//2, dropout=0.2,  recurrent_dropout=0.2,activation='tanh',\n",
    "            recurrent_initializer = tf.keras.initializers.GlorotUniform(seed=random_seed),\n",
    "            kernel_initializer = tf.keras.initializers.GlorotUniform(seed=random_seed) ,\n",
    "            return_sequences=False)(x)\n",
    "    \n",
    "    \n",
    "    x = bln_layer(stateful = True, batchsize= batch_size, name = 'bn2', \n",
    "                  batch_moving_mean = b_mm, batch_moving_var = b_mv,\n",
    "                  feature_moving_mean = f_mm, feature_moving_var = f_mv)(x) \n",
    "    \n",
    "    x = dense_layer(units = 32, name = 'dense1', random_seed=random_seed)(x)\n",
    "    x = tf.keras.layers.Activation('tanh')(x)\n",
    "    x = bln_layer(stateful = True, batchsize= batch_size, name = 'bn3', \n",
    "                  batch_moving_mean = b_mm, batch_moving_var = b_mv,\n",
    "                  feature_moving_mean = f_mm, feature_moving_var = f_mv)(x)\n",
    "           \n",
    "    \n",
    "    output_lyr = dense_layer(units = dense_units, name = 'dense2', random_seed=random_seed)(x)    \n",
    "    return tf.keras.Model(inputs = [input_lyr], outputs = [output_lyr])"
   ]
  },
  {
   "cell_type": "code",
   "execution_count": 9,
   "metadata": {},
   "outputs": [],
   "source": [
    "model_bln_layer = BLNLayer_model(inputshape= (80), max_features = max_features, \n",
    "                                        embed_size = 512, random_seed = random_seed,\n",
    "                                        lstm_unit = 128 , dense_units= num_classes,\n",
    "                                        batch_size = minibatch,\n",
    "                                        b_mm = False, b_mv = False,\n",
    "                                        f_mm = False, f_mv = False\n",
    "                                        )\n",
    "\n"
   ]
  },
  {
   "cell_type": "code",
   "execution_count": 10,
   "metadata": {},
   "outputs": [
    {
     "name": "stdout",
     "output_type": "stream",
     "text": [
      "Model: \"model\"\n",
      "_________________________________________________________________\n",
      "Layer (type)                 Output Shape              Param #   \n",
      "=================================================================\n",
      "input (InputLayer)           [(25, 80)]                0         \n",
      "_________________________________________________________________\n",
      "embedding (Embedding)        (25, 80, 512)             10240000  \n",
      "_________________________________________________________________\n",
      "lstm (LSTM)                  (25, 80, 128)             328192    \n",
      "_________________________________________________________________\n",
      "bn1 (bln_layer)              (25, 80, 128)             24738     \n",
      "_________________________________________________________________\n",
      "lstm_1 (LSTM)                (25, 64)                  49408     \n",
      "_________________________________________________________________\n",
      "bn2 (bln_layer)              (25, 64)                  308       \n",
      "_________________________________________________________________\n",
      "dense1 (dense_layer)         (25, 32)                  2080      \n",
      "_________________________________________________________________\n",
      "activation (Activation)      (25, 32)                  0         \n",
      "_________________________________________________________________\n",
      "bn3 (bln_layer)              (25, 32)                  180       \n",
      "_________________________________________________________________\n",
      "dense2 (dense_layer)         (25, 1)                   33        \n",
      "=================================================================\n",
      "Total params: 10,644,939\n",
      "Trainable params: 10,620,161\n",
      "Non-trainable params: 24,778\n",
      "_________________________________________________________________\n"
     ]
    }
   ],
   "source": [
    "model_bln_layer.summary()"
   ]
  },
  {
   "cell_type": "markdown",
   "metadata": {},
   "source": [
    "# callbacks"
   ]
  },
  {
   "cell_type": "code",
   "execution_count": 11,
   "metadata": {},
   "outputs": [],
   "source": [
    "# Callbacks for saving best model and tensorboard\n",
    "folder_name = '/rnn/bln_layer_imdb_wohletraining_batchSize_' + str(minibatch) \n",
    "save_bm_cb = save_best_model_callback(folder_name)\n",
    "tb_cb = tensorboard_callback(folder_name)\n",
    "\n",
    "# Callback for resetting moving mean and variances at the end of each epoch\n",
    "bln_layer_cb = bln_callback()\n",
    "\n",
    "bln_layer_cb_list = [save_bm_cb, tb_cb, bln_layer_cb]"
   ]
  },
  {
   "cell_type": "code",
   "execution_count": 12,
   "metadata": {},
   "outputs": [],
   "source": [
    "model_bln_layer.compile(optimizer = tf.keras.optimizers.Adam(learning_rate=learning_rate),\n",
    "                               loss = tf.keras.losses.BinaryCrossentropy(from_logits=True),\n",
    "                               metrics = [tf.keras.metrics.BinaryAccuracy()])"
   ]
  },
  {
   "cell_type": "code",
   "execution_count": 13,
   "metadata": {
    "scrolled": true
   },
   "outputs": [
    {
     "name": "stdout",
     "output_type": "stream",
     "text": [
      "Train for 800 steps, validate for 200 steps\n",
      "Epoch 1/10\n",
      "800/800 [==============================] - 703s 878ms/step - loss: 0.4781 - binary_accuracy: 0.7599 - val_loss: 0.3920 - val_binary_accuracy: 0.8086\n",
      "Epoch 2/10\n",
      "800/800 [==============================] - 737s 921ms/step - loss: 0.2744 - binary_accuracy: 0.8839 - val_loss: 0.4326 - val_binary_accuracy: 0.8208\n",
      "Epoch 3/10\n",
      "800/800 [==============================] - 748s 935ms/step - loss: 0.1499 - binary_accuracy: 0.9447 - val_loss: 0.5785 - val_binary_accuracy: 0.8186\n",
      "Epoch 4/10\n",
      "800/800 [==============================] - 744s 929ms/step - loss: 0.0933 - binary_accuracy: 0.9675 - val_loss: 0.6821 - val_binary_accuracy: 0.8092\n",
      "Epoch 5/10\n",
      "800/800 [==============================] - 712s 890ms/step - loss: 0.0658 - binary_accuracy: 0.9757 - val_loss: 0.8261 - val_binary_accuracy: 0.8178\n",
      "Epoch 6/10\n",
      "800/800 [==============================] - 751s 938ms/step - loss: 0.0464 - binary_accuracy: 0.9821 - val_loss: 0.9209 - val_binary_accuracy: 0.8076\n",
      "Epoch 7/10\n",
      "800/800 [==============================] - 748s 935ms/step - loss: 0.0370 - binary_accuracy: 0.9860 - val_loss: 1.0791 - val_binary_accuracy: 0.8154\n",
      "Epoch 8/10\n",
      "800/800 [==============================] - 756s 945ms/step - loss: 0.0301 - binary_accuracy: 0.9898 - val_loss: 1.1349 - val_binary_accuracy: 0.8182\n",
      "Epoch 9/10\n",
      "800/800 [==============================] - 764s 955ms/step - loss: 0.0216 - binary_accuracy: 0.9926 - val_loss: 1.3653 - val_binary_accuracy: 0.8124\n",
      "Epoch 10/10\n",
      "800/800 [==============================] - 763s 954ms/step - loss: 0.0177 - binary_accuracy: 0.9944 - val_loss: 1.4209 - val_binary_accuracy: 0.8140\n"
     ]
    }
   ],
   "source": [
    "model_bln_layer_history =  model_bln_layer.fit(train_dataset.take(number_batches_train), epochs=epochs,\n",
    "                                                verbose=1, callbacks=bln_layer_cb_list,\n",
    "                                                validation_data=valid_dataset.take(number_batches_valid),\n",
    "                                                shuffle=True)"
   ]
  },
  {
   "cell_type": "code",
   "execution_count": 14,
   "metadata": {},
   "outputs": [
    {
     "name": "stdout",
     "output_type": "stream",
     "text": [
      "session is clear\n"
     ]
    }
   ],
   "source": [
    "del model_bln_layer, save_bm_cb, tb_cb, bln_layer_cb, bln_layer_cb_list\n",
    "reset_graph()"
   ]
  },
  {
   "cell_type": "code",
   "execution_count": 15,
   "metadata": {},
   "outputs": [],
   "source": [
    "# Select the model with the lowest validation loss\n",
    "weights_path = './models/rnn/bln_layer_imdb_wohletraining_batchSize_25/best_model.h5'"
   ]
  },
  {
   "cell_type": "code",
   "execution_count": 16,
   "metadata": {
    "scrolled": true
   },
   "outputs": [
    {
     "name": "stdout",
     "output_type": "stream",
     "text": [
      "1000/1000 [==============================] - 308s 308ms/step - loss: 0.4339 - binary_accuracy: 0.7815\n",
      "{'Bmm_True Bmv_True Fmm_True Fmv_True': [0.4338963188454509, 0.78148]}\n",
      "session is clear\n",
      "1000/1000 [==============================] - 301s 301ms/step - loss: 0.4335 - binary_accuracy: 0.7832\n",
      "{'Bmm_True Bmv_True Fmm_True Fmv_True': [0.4338963188454509, 0.78148], 'Bmm_True Bmv_True Fmm_True Fmv_False': [0.4335413608327508, 0.7832]}\n",
      "session is clear\n",
      "1000/1000 [==============================] - 296s 296ms/step - loss: 0.4336 - binary_accuracy: 0.7816\n",
      "{'Bmm_True Bmv_True Fmm_True Fmv_True': [0.4338963188454509, 0.78148], 'Bmm_True Bmv_True Fmm_True Fmv_False': [0.4335413608327508, 0.7832], 'Bmm_True Bmv_True Fmm_False Fmv_True': [0.43361701464653013, 0.78156]}\n",
      "session is clear\n",
      "1000/1000 [==============================] - 298s 298ms/step - loss: 0.4333 - binary_accuracy: 0.7835\n",
      "{'Bmm_True Bmv_True Fmm_True Fmv_True': [0.4338963188454509, 0.78148], 'Bmm_True Bmv_True Fmm_True Fmv_False': [0.4335413608327508, 0.7832], 'Bmm_True Bmv_True Fmm_False Fmv_True': [0.43361701464653013, 0.78156], 'Bmm_True Bmv_True Fmm_False Fmv_False': [0.4332664158344269, 0.78348]}\n",
      "session is clear\n",
      "1000/1000 [==============================] - 297s 297ms/step - loss: 0.6697 - binary_accuracy: 0.6557\n",
      "{'Bmm_True Bmv_True Fmm_True Fmv_True': [0.4338963188454509, 0.78148], 'Bmm_True Bmv_True Fmm_True Fmv_False': [0.4335413608327508, 0.7832], 'Bmm_True Bmv_True Fmm_False Fmv_True': [0.43361701464653013, 0.78156], 'Bmm_True Bmv_True Fmm_False Fmv_False': [0.4332664158344269, 0.78348], 'Bmm_True Bmv_False Fmm_True Fmv_True': [0.6696520148664713, 0.65568]}\n",
      "session is clear\n",
      "1000/1000 [==============================] - 304s 304ms/step - loss: 0.6758 - binary_accuracy: 0.6551\n",
      "{'Bmm_True Bmv_True Fmm_True Fmv_True': [0.4338963188454509, 0.78148], 'Bmm_True Bmv_True Fmm_True Fmv_False': [0.4335413608327508, 0.7832], 'Bmm_True Bmv_True Fmm_False Fmv_True': [0.43361701464653013, 0.78156], 'Bmm_True Bmv_True Fmm_False Fmv_False': [0.4332664158344269, 0.78348], 'Bmm_True Bmv_False Fmm_True Fmv_True': [0.6696520148664713, 0.65568], 'Bmm_True Bmv_False Fmm_True Fmv_False': [0.6758395366966724, 0.65512]}\n",
      "session is clear\n",
      "1000/1000 [==============================] - 299s 299ms/step - loss: 0.6689 - binary_accuracy: 0.6561\n",
      "{'Bmm_True Bmv_True Fmm_True Fmv_True': [0.4338963188454509, 0.78148], 'Bmm_True Bmv_True Fmm_True Fmv_False': [0.4335413608327508, 0.7832], 'Bmm_True Bmv_True Fmm_False Fmv_True': [0.43361701464653013, 0.78156], 'Bmm_True Bmv_True Fmm_False Fmv_False': [0.4332664158344269, 0.78348], 'Bmm_True Bmv_False Fmm_True Fmv_True': [0.6696520148664713, 0.65568], 'Bmm_True Bmv_False Fmm_True Fmv_False': [0.6758395366966724, 0.65512], 'Bmm_True Bmv_False Fmm_False Fmv_True': [0.6689283060282469, 0.65608]}\n",
      "session is clear\n",
      "1000/1000 [==============================] - 296s 296ms/step - loss: 0.6751 - binary_accuracy: 0.6554\n",
      "{'Bmm_True Bmv_True Fmm_True Fmv_True': [0.4338963188454509, 0.78148], 'Bmm_True Bmv_True Fmm_True Fmv_False': [0.4335413608327508, 0.7832], 'Bmm_True Bmv_True Fmm_False Fmv_True': [0.43361701464653013, 0.78156], 'Bmm_True Bmv_True Fmm_False Fmv_False': [0.4332664158344269, 0.78348], 'Bmm_True Bmv_False Fmm_True Fmv_True': [0.6696520148664713, 0.65568], 'Bmm_True Bmv_False Fmm_True Fmv_False': [0.6758395366966724, 0.65512], 'Bmm_True Bmv_False Fmm_False Fmv_True': [0.6689283060282469, 0.65608], 'Bmm_True Bmv_False Fmm_False Fmv_False': [0.6750893536508084, 0.6554]}\n",
      "session is clear\n",
      "1000/1000 [==============================] - 296s 296ms/step - loss: 0.3821 - binary_accuracy: 0.8247\n",
      "{'Bmm_True Bmv_True Fmm_True Fmv_True': [0.4338963188454509, 0.78148], 'Bmm_True Bmv_True Fmm_True Fmv_False': [0.4335413608327508, 0.7832], 'Bmm_True Bmv_True Fmm_False Fmv_True': [0.43361701464653013, 0.78156], 'Bmm_True Bmv_True Fmm_False Fmv_False': [0.4332664158344269, 0.78348], 'Bmm_True Bmv_False Fmm_True Fmv_True': [0.6696520148664713, 0.65568], 'Bmm_True Bmv_False Fmm_True Fmv_False': [0.6758395366966724, 0.65512], 'Bmm_True Bmv_False Fmm_False Fmv_True': [0.6689283060282469, 0.65608], 'Bmm_True Bmv_False Fmm_False Fmv_False': [0.6750893536508084, 0.6554], 'Bmm_False Bmv_True Fmm_True Fmv_True': [0.3821256238147616, 0.82472]}\n",
      "session is clear\n",
      "1000/1000 [==============================] - 296s 296ms/step - loss: 0.3820 - binary_accuracy: 0.8250\n",
      "{'Bmm_True Bmv_True Fmm_True Fmv_True': [0.4338963188454509, 0.78148], 'Bmm_True Bmv_True Fmm_True Fmv_False': [0.4335413608327508, 0.7832], 'Bmm_True Bmv_True Fmm_False Fmv_True': [0.43361701464653013, 0.78156], 'Bmm_True Bmv_True Fmm_False Fmv_False': [0.4332664158344269, 0.78348], 'Bmm_True Bmv_False Fmm_True Fmv_True': [0.6696520148664713, 0.65568], 'Bmm_True Bmv_False Fmm_True Fmv_False': [0.6758395366966724, 0.65512], 'Bmm_True Bmv_False Fmm_False Fmv_True': [0.6689283060282469, 0.65608], 'Bmm_True Bmv_False Fmm_False Fmv_False': [0.6750893536508084, 0.6554], 'Bmm_False Bmv_True Fmm_True Fmv_True': [0.3821256238147616, 0.82472], 'Bmm_False Bmv_True Fmm_True Fmv_False': [0.38203894811868666, 0.82496]}\n",
      "session is clear\n",
      "1000/1000 [==============================] - 297s 297ms/step - loss: 0.3821 - binary_accuracy: 0.8247\n",
      "{'Bmm_True Bmv_True Fmm_True Fmv_True': [0.4338963188454509, 0.78148], 'Bmm_True Bmv_True Fmm_True Fmv_False': [0.4335413608327508, 0.7832], 'Bmm_True Bmv_True Fmm_False Fmv_True': [0.43361701464653013, 0.78156], 'Bmm_True Bmv_True Fmm_False Fmv_False': [0.4332664158344269, 0.78348], 'Bmm_True Bmv_False Fmm_True Fmv_True': [0.6696520148664713, 0.65568], 'Bmm_True Bmv_False Fmm_True Fmv_False': [0.6758395366966724, 0.65512], 'Bmm_True Bmv_False Fmm_False Fmv_True': [0.6689283060282469, 0.65608], 'Bmm_True Bmv_False Fmm_False Fmv_False': [0.6750893536508084, 0.6554], 'Bmm_False Bmv_True Fmm_True Fmv_True': [0.3821256238147616, 0.82472], 'Bmm_False Bmv_True Fmm_True Fmv_False': [0.38203894811868666, 0.82496], 'Bmm_False Bmv_True Fmm_False Fmv_True': [0.3821210457459092, 0.82468]}\n",
      "session is clear\n",
      "1000/1000 [==============================] - 296s 296ms/step - loss: 0.3820 - binary_accuracy: 0.8249\n",
      "{'Bmm_True Bmv_True Fmm_True Fmv_True': [0.4338963188454509, 0.78148], 'Bmm_True Bmv_True Fmm_True Fmv_False': [0.4335413608327508, 0.7832], 'Bmm_True Bmv_True Fmm_False Fmv_True': [0.43361701464653013, 0.78156], 'Bmm_True Bmv_True Fmm_False Fmv_False': [0.4332664158344269, 0.78348], 'Bmm_True Bmv_False Fmm_True Fmv_True': [0.6696520148664713, 0.65568], 'Bmm_True Bmv_False Fmm_True Fmv_False': [0.6758395366966724, 0.65512], 'Bmm_True Bmv_False Fmm_False Fmv_True': [0.6689283060282469, 0.65608], 'Bmm_True Bmv_False Fmm_False Fmv_False': [0.6750893536508084, 0.6554], 'Bmm_False Bmv_True Fmm_True Fmv_True': [0.3821256238147616, 0.82472], 'Bmm_False Bmv_True Fmm_True Fmv_False': [0.38203894811868666, 0.82496], 'Bmm_False Bmv_True Fmm_False Fmv_True': [0.3821210457459092, 0.82468], 'Bmm_False Bmv_True Fmm_False Fmv_False': [0.38203524985164405, 0.82492]}\n",
      "session is clear\n",
      "1000/1000 [==============================] - 296s 296ms/step - loss: 0.3831 - binary_accuracy: 0.8180\n",
      "{'Bmm_True Bmv_True Fmm_True Fmv_True': [0.4338963188454509, 0.78148], 'Bmm_True Bmv_True Fmm_True Fmv_False': [0.4335413608327508, 0.7832], 'Bmm_True Bmv_True Fmm_False Fmv_True': [0.43361701464653013, 0.78156], 'Bmm_True Bmv_True Fmm_False Fmv_False': [0.4332664158344269, 0.78348], 'Bmm_True Bmv_False Fmm_True Fmv_True': [0.6696520148664713, 0.65568], 'Bmm_True Bmv_False Fmm_True Fmv_False': [0.6758395366966724, 0.65512], 'Bmm_True Bmv_False Fmm_False Fmv_True': [0.6689283060282469, 0.65608], 'Bmm_True Bmv_False Fmm_False Fmv_False': [0.6750893536508084, 0.6554], 'Bmm_False Bmv_True Fmm_True Fmv_True': [0.3821256238147616, 0.82472], 'Bmm_False Bmv_True Fmm_True Fmv_False': [0.38203894811868666, 0.82496], 'Bmm_False Bmv_True Fmm_False Fmv_True': [0.3821210457459092, 0.82468], 'Bmm_False Bmv_True Fmm_False Fmv_False': [0.38203524985164405, 0.82492], 'Bmm_False Bmv_False Fmm_True Fmv_True': [0.3830686711072922, 0.81796]}\n",
      "session is clear\n",
      "1000/1000 [==============================] - 298s 298ms/step - loss: 0.3833 - binary_accuracy: 0.8182\n",
      "{'Bmm_True Bmv_True Fmm_True Fmv_True': [0.4338963188454509, 0.78148], 'Bmm_True Bmv_True Fmm_True Fmv_False': [0.4335413608327508, 0.7832], 'Bmm_True Bmv_True Fmm_False Fmv_True': [0.43361701464653013, 0.78156], 'Bmm_True Bmv_True Fmm_False Fmv_False': [0.4332664158344269, 0.78348], 'Bmm_True Bmv_False Fmm_True Fmv_True': [0.6696520148664713, 0.65568], 'Bmm_True Bmv_False Fmm_True Fmv_False': [0.6758395366966724, 0.65512], 'Bmm_True Bmv_False Fmm_False Fmv_True': [0.6689283060282469, 0.65608], 'Bmm_True Bmv_False Fmm_False Fmv_False': [0.6750893536508084, 0.6554], 'Bmm_False Bmv_True Fmm_True Fmv_True': [0.3821256238147616, 0.82472], 'Bmm_False Bmv_True Fmm_True Fmv_False': [0.38203894811868666, 0.82496], 'Bmm_False Bmv_True Fmm_False Fmv_True': [0.3821210457459092, 0.82468], 'Bmm_False Bmv_True Fmm_False Fmv_False': [0.38203524985164405, 0.82492], 'Bmm_False Bmv_False Fmm_True Fmv_True': [0.3830686711072922, 0.81796], 'Bmm_False Bmv_False Fmm_True Fmv_False': [0.3833300884962082, 0.81824]}\n",
      "session is clear\n"
     ]
    },
    {
     "name": "stdout",
     "output_type": "stream",
     "text": [
      "1000/1000 [==============================] - 296s 296ms/step - loss: 0.3831 - binary_accuracy: 0.8179\n",
      "{'Bmm_True Bmv_True Fmm_True Fmv_True': [0.4338963188454509, 0.78148], 'Bmm_True Bmv_True Fmm_True Fmv_False': [0.4335413608327508, 0.7832], 'Bmm_True Bmv_True Fmm_False Fmv_True': [0.43361701464653013, 0.78156], 'Bmm_True Bmv_True Fmm_False Fmv_False': [0.4332664158344269, 0.78348], 'Bmm_True Bmv_False Fmm_True Fmv_True': [0.6696520148664713, 0.65568], 'Bmm_True Bmv_False Fmm_True Fmv_False': [0.6758395366966724, 0.65512], 'Bmm_True Bmv_False Fmm_False Fmv_True': [0.6689283060282469, 0.65608], 'Bmm_True Bmv_False Fmm_False Fmv_False': [0.6750893536508084, 0.6554], 'Bmm_False Bmv_True Fmm_True Fmv_True': [0.3821256238147616, 0.82472], 'Bmm_False Bmv_True Fmm_True Fmv_False': [0.38203894811868666, 0.82496], 'Bmm_False Bmv_True Fmm_False Fmv_True': [0.3821210457459092, 0.82468], 'Bmm_False Bmv_True Fmm_False Fmv_False': [0.38203524985164405, 0.82492], 'Bmm_False Bmv_False Fmm_True Fmv_True': [0.3830686711072922, 0.81796], 'Bmm_False Bmv_False Fmm_True Fmv_False': [0.3833300884962082, 0.81824], 'Bmm_False Bmv_False Fmm_False Fmv_True': [0.38306253392994405, 0.81788]}\n",
      "session is clear\n",
      "1000/1000 [==============================] - 296s 296ms/step - loss: 0.3833 - binary_accuracy: 0.8182\n",
      "{'Bmm_True Bmv_True Fmm_True Fmv_True': [0.4338963188454509, 0.78148], 'Bmm_True Bmv_True Fmm_True Fmv_False': [0.4335413608327508, 0.7832], 'Bmm_True Bmv_True Fmm_False Fmv_True': [0.43361701464653013, 0.78156], 'Bmm_True Bmv_True Fmm_False Fmv_False': [0.4332664158344269, 0.78348], 'Bmm_True Bmv_False Fmm_True Fmv_True': [0.6696520148664713, 0.65568], 'Bmm_True Bmv_False Fmm_True Fmv_False': [0.6758395366966724, 0.65512], 'Bmm_True Bmv_False Fmm_False Fmv_True': [0.6689283060282469, 0.65608], 'Bmm_True Bmv_False Fmm_False Fmv_False': [0.6750893536508084, 0.6554], 'Bmm_False Bmv_True Fmm_True Fmv_True': [0.3821256238147616, 0.82472], 'Bmm_False Bmv_True Fmm_True Fmv_False': [0.38203894811868666, 0.82496], 'Bmm_False Bmv_True Fmm_False Fmv_True': [0.3821210457459092, 0.82468], 'Bmm_False Bmv_True Fmm_False Fmv_False': [0.38203524985164405, 0.82492], 'Bmm_False Bmv_False Fmm_True Fmv_True': [0.3830686711072922, 0.81796], 'Bmm_False Bmv_False Fmm_True Fmv_False': [0.3833300884962082, 0.81824], 'Bmm_False Bmv_False Fmm_False Fmv_True': [0.38306253392994405, 0.81788], 'Bmm_False Bmv_False Fmm_False Fmv_False': [0.38332282204926016, 0.81816]}\n",
      "session is clear\n"
     ]
    }
   ],
   "source": [
    "save_eval_path = \"./logs/\" + folder_name + '/'+ str(number_batches_train) +\"_sorted_evaluation.pkl\"\n",
    "evaluation = grid_serach(BLNLayer_model, test_dataset,\n",
    "                         batch_size = minibatch, sort=True,\n",
    "                         save_eval_path = save_eval_path,\n",
    "                         weights_path = weights_path,\n",
    "                         loss = tf.keras.losses.BinaryCrossentropy(from_logits=True),\n",
    "                         metrics = tf.keras.metrics.BinaryAccuracy())\n",
    "\n"
   ]
  },
  {
   "cell_type": "code",
   "execution_count": 19,
   "metadata": {},
   "outputs": [
    {
     "data": {
      "text/plain": [
       "[('Bmm_False Bmv_True Fmm_False Fmv_False', [0.38203524985164405, 0.82492]),\n",
       " ('Bmm_False Bmv_True Fmm_True Fmv_False', [0.38203894811868666, 0.82496]),\n",
       " ('Bmm_False Bmv_True Fmm_False Fmv_True', [0.3821210457459092, 0.82468]),\n",
       " ('Bmm_False Bmv_True Fmm_True Fmv_True', [0.3821256238147616, 0.82472]),\n",
       " ('Bmm_False Bmv_False Fmm_False Fmv_True', [0.38306253392994405, 0.81788]),\n",
       " ('Bmm_False Bmv_False Fmm_True Fmv_True', [0.3830686711072922, 0.81796]),\n",
       " ('Bmm_False Bmv_False Fmm_False Fmv_False', [0.38332282204926016, 0.81816]),\n",
       " ('Bmm_False Bmv_False Fmm_True Fmv_False', [0.3833300884962082, 0.81824]),\n",
       " ('Bmm_True Bmv_True Fmm_False Fmv_False', [0.4332664158344269, 0.78348]),\n",
       " ('Bmm_True Bmv_True Fmm_True Fmv_False', [0.4335413608327508, 0.7832]),\n",
       " ('Bmm_True Bmv_True Fmm_False Fmv_True', [0.43361701464653013, 0.78156]),\n",
       " ('Bmm_True Bmv_True Fmm_True Fmv_True', [0.4338963188454509, 0.78148]),\n",
       " ('Bmm_True Bmv_False Fmm_False Fmv_True', [0.6689283060282469, 0.65608]),\n",
       " ('Bmm_True Bmv_False Fmm_True Fmv_True', [0.6696520148664713, 0.65568]),\n",
       " ('Bmm_True Bmv_False Fmm_False Fmv_False', [0.6750893536508084, 0.6554]),\n",
       " ('Bmm_True Bmv_False Fmm_True Fmv_False', [0.6758395366966724, 0.65512])]"
      ]
     },
     "execution_count": 19,
     "metadata": {},
     "output_type": "execute_result"
    }
   ],
   "source": [
    "evaluation"
   ]
  },
  {
   "cell_type": "code",
   "execution_count": null,
   "metadata": {},
   "outputs": [],
   "source": []
  }
 ],
 "metadata": {
  "kernelspec": {
   "display_name": "Python 3 (ipykernel)",
   "language": "python",
   "name": "python3"
  },
  "language_info": {
   "codemirror_mode": {
    "name": "ipython",
    "version": 3
   },
   "file_extension": ".py",
   "mimetype": "text/x-python",
   "name": "python",
   "nbconvert_exporter": "python",
   "pygments_lexer": "ipython3",
   "version": "3.7.11"
  }
 },
 "nbformat": 4,
 "nbformat_minor": 4
}
