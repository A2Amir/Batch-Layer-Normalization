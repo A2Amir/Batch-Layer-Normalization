{
 "cells": [
  {
   "cell_type": "code",
   "execution_count": 1,
   "metadata": {},
   "outputs": [],
   "source": [
    "import tensorflow as tf\n",
    "import numpy as np\n",
    "import matplotlib.pyplot as plt\n",
    "\n",
    "\n",
    "from helpers.utils import creat_datasets, creating_val_data, reset_graph, grid_serach, read_pickle_file, write_pickle_file\n",
    "from helpers.utils import creating_train_val_test_datasets, tensorboard_callback,  save_best_model_callback\n",
    "from helpers.bln_layer import  bln_layer\n",
    "from helpers.dense_layer import  dense_layer\n",
    "from helpers.bln_callback import bln_callback \n",
    "\n",
    "\n",
    "\n",
    "\n",
    "from tensorflow.keras.models import Model\n",
    "from tensorflow.keras.preprocessing import sequence\n",
    "from tensorflow.keras.layers import Embedding\n",
    "from tensorflow.keras.layers import LSTM\n",
    "from tensorflow.keras.datasets import imdb"
   ]
  },
  {
   "cell_type": "code",
   "execution_count": 2,
   "metadata": {},
   "outputs": [],
   "source": [
    "tf.config.experimental_run_functions_eagerly(True)"
   ]
  },
  {
   "cell_type": "code",
   "execution_count": 3,
   "metadata": {},
   "outputs": [
    {
     "data": {
      "text/plain": [
       "'2.1.0'"
      ]
     },
     "execution_count": 3,
     "metadata": {},
     "output_type": "execute_result"
    }
   ],
   "source": [
    "tf.__version__"
   ]
  },
  {
   "cell_type": "markdown",
   "metadata": {},
   "source": [
    "### Loading data"
   ]
  },
  {
   "cell_type": "code",
   "execution_count": 4,
   "metadata": {},
   "outputs": [],
   "source": [
    "random_seed = 100\n",
    "minibatch = 25\n",
    "buffersize = 60000\n",
    "number_valid_sampels = 5000 # number of validation data\n",
    "epochs = 5\n",
    "learning_rate = 0.005\n",
    "\n",
    "#((25000  - 5000 )/ 25 ) * 1\n",
    "number_batches_train = 800 # number of batches to train, each batch of size minibatch parameter\n",
    "number_batches_valid = 200 # number of batches to validate, each batch of size minibatch parameter (( 5000 )/ 25 ) * 1\n",
    "num_classes = 1\n",
    "\n",
    "max_features = 20000\n",
    "maxlen = 80  # cut texts after this number of words (among top max_features most common words)\n"
   ]
  },
  {
   "cell_type": "code",
   "execution_count": 5,
   "metadata": {
    "scrolled": true
   },
   "outputs": [
    {
     "name": "stdout",
     "output_type": "stream",
     "text": [
      "Loading data...\n"
     ]
    },
    {
     "name": "stderr",
     "output_type": "stream",
     "text": [
      "C:\\Users\\Rima\\.conda\\envs\\bln\\lib\\site-packages\\tensorflow_core\\python\\keras\\datasets\\imdb.py:129: VisibleDeprecationWarning: Creating an ndarray from ragged nested sequences (which is a list-or-tuple of lists-or-tuples-or ndarrays with different lengths or shapes) is deprecated. If you meant to do this, you must specify 'dtype=object' when creating the ndarray\n",
      "  x_train, y_train = np.array(xs[:idx]), np.array(labels[:idx])\n",
      "C:\\Users\\Rima\\.conda\\envs\\bln\\lib\\site-packages\\tensorflow_core\\python\\keras\\datasets\\imdb.py:130: VisibleDeprecationWarning: Creating an ndarray from ragged nested sequences (which is a list-or-tuple of lists-or-tuples-or ndarrays with different lengths or shapes) is deprecated. If you meant to do this, you must specify 'dtype=object' when creating the ndarray\n",
      "  x_test, y_test = np.array(xs[idx:]), np.array(labels[idx:])\n"
     ]
    },
    {
     "name": "stdout",
     "output_type": "stream",
     "text": [
      "25000 train sequences\n",
      "25000 test sequences\n",
      "Pad sequences (samples x time)\n",
      "x_train shape: (25000, 80)\n",
      "x_test shape: (25000, 80)\n"
     ]
    }
   ],
   "source": [
    "print('Loading data...')\n",
    "(x_train, y_train), (x_test, y_test) = imdb.load_data(num_words=max_features)\n",
    "print(len(x_train), 'train sequences')\n",
    "print(len(x_test), 'test sequences')\n",
    "\n",
    "print('Pad sequences (samples x time)')\n",
    "x_train = sequence.pad_sequences(x_train, maxlen = maxlen)\n",
    "x_test = sequence.pad_sequences(x_test, maxlen = maxlen)\n",
    "print('x_train shape:', x_train.shape)\n",
    "print('x_test shape:', x_test.shape)"
   ]
  },
  {
   "cell_type": "code",
   "execution_count": 6,
   "metadata": {},
   "outputs": [],
   "source": [
    "x_train, y_train, x_valid, y_valid = creating_val_data(x_train, y_train,\n",
    "                                                       number_valid_sampels = number_valid_sampels,\n",
    "                                                       random_seed=random_seed)\n",
    "\n",
    "train_dataset, valid_dataset, test_dataset = creating_train_val_test_datasets(x_train, y_train,\n",
    "                                                                              x_test, y_test,\n",
    "                                                                              x_valid, y_valid, \n",
    "                                                                              minibatch = minibatch,\n",
    "                                                                              buffersize= buffersize,\n",
    "                                                                              random_seed=random_seed)"
   ]
  },
  {
   "cell_type": "code",
   "execution_count": 7,
   "metadata": {},
   "outputs": [
    {
     "data": {
      "text/plain": [
       "<PrefetchDataset shapes: ((25, 80), (25,)), types: (tf.int32, tf.int64)>"
      ]
     },
     "execution_count": 7,
     "metadata": {},
     "output_type": "execute_result"
    }
   ],
   "source": [
    "train_dataset"
   ]
  },
  {
   "cell_type": "markdown",
   "metadata": {},
   "source": [
    "# 1. Using Batch Layer Normalization Layer"
   ]
  },
  {
   "cell_type": "code",
   "execution_count": 8,
   "metadata": {},
   "outputs": [],
   "source": [
    "def BLNLayer_model(inputshape= (80), max_features = 20000, embed_size=256, random_seed = 100,\n",
    "                          lstm_unit = 128 , dense_units= 1,\n",
    "                          batch_size = 10,\n",
    "                          b_mm = True, b_mv = True,\n",
    "                          f_mm = False, f_mv = False):\n",
    "    \n",
    "   \n",
    "    # building the model\n",
    "  \n",
    "    input_lyr = tf.keras.Input(shape = inputshape, batch_size=batch_size, name = 'input')\n",
    "    \n",
    "    x = Embedding(max_features, embed_size,\n",
    "                  embeddings_initializer=tf.keras.initializers.GlorotUniform(seed=random_seed))(input_lyr)\n",
    "    \n",
    "    x = LSTM(lstm_unit, dropout=0.2, recurrent_dropout=0.2,activation='tanh',\n",
    "            recurrent_initializer = tf.keras.initializers.GlorotUniform(seed=random_seed),\n",
    "            kernel_initializer = tf.keras.initializers.GlorotUniform(seed=random_seed) ,\n",
    "            return_sequences=True)(x)\n",
    "    \n",
    "    x = bln_layer(stateful = True, batchsize= batch_size, name = 'bn1', \n",
    "                  batch_moving_mean = b_mm, batch_moving_var = b_mv,\n",
    "                  feature_moving_mean = f_mm, feature_moving_var = f_mv)(x) \n",
    "    \n",
    "    x = LSTM(lstm_unit//2, dropout=0.2,  recurrent_dropout=0.2,activation='tanh',\n",
    "            recurrent_initializer = tf.keras.initializers.GlorotUniform(seed=random_seed),\n",
    "            kernel_initializer = tf.keras.initializers.GlorotUniform(seed=random_seed) ,\n",
    "            return_sequences=False)(x)\n",
    "    \n",
    "    \n",
    "    x = bln_layer(stateful = True, batchsize= batch_size, name = 'bn2', \n",
    "                  batch_moving_mean = b_mm, batch_moving_var = b_mv,\n",
    "                  feature_moving_mean = f_mm, feature_moving_var = f_mv)(x) \n",
    "    \n",
    "    x = dense_layer(units = 32, name = 'dense1', random_seed=random_seed)(x)\n",
    "    x = tf.keras.layers.Activation('tanh')(x)\n",
    "    x = bln_layer(stateful = True, batchsize= batch_size, name = 'bn3', \n",
    "                  batch_moving_mean = b_mm, batch_moving_var = b_mv,\n",
    "                  feature_moving_mean = f_mm, feature_moving_var = f_mv)(x)\n",
    "           \n",
    "    \n",
    "    output_lyr = dense_layer(units = dense_units, name = 'dense2', random_seed=random_seed)(x)    \n",
    "    return tf.keras.Model(inputs = [input_lyr], outputs = [output_lyr])"
   ]
  },
  {
   "cell_type": "code",
   "execution_count": 9,
   "metadata": {},
   "outputs": [],
   "source": [
    "model_bln_layer = BLNLayer_model(inputshape= (80), max_features = max_features, \n",
    "                                        embed_size= 256, random_seed = random_seed,\n",
    "                                        lstm_unit = 128 , dense_units= num_classes,\n",
    "                                        batch_size = minibatch,\n",
    "                                        b_mm = False, b_mv = False,\n",
    "                                        f_mm = False, f_mv = False\n",
    "                                        )\n",
    "\n"
   ]
  },
  {
   "cell_type": "code",
   "execution_count": 10,
   "metadata": {},
   "outputs": [
    {
     "name": "stdout",
     "output_type": "stream",
     "text": [
      "Model: \"model\"\n",
      "_________________________________________________________________\n",
      "Layer (type)                 Output Shape              Param #   \n",
      "=================================================================\n",
      "input (InputLayer)           [(25, 80)]                0         \n",
      "_________________________________________________________________\n",
      "embedding (Embedding)        (25, 80, 256)             5120000   \n",
      "_________________________________________________________________\n",
      "lstm (LSTM)                  (25, 80, 128)             197120    \n",
      "_________________________________________________________________\n",
      "bn1 (bln_layer)              (25, 80, 128)             24738     \n",
      "_________________________________________________________________\n",
      "lstm_1 (LSTM)                (25, 64)                  49408     \n",
      "_________________________________________________________________\n",
      "bn2 (bln_layer)              (25, 64)                  308       \n",
      "_________________________________________________________________\n",
      "dense1 (dense_layer)         (25, 32)                  2080      \n",
      "_________________________________________________________________\n",
      "activation (Activation)      (25, 32)                  0         \n",
      "_________________________________________________________________\n",
      "bn3 (bln_layer)              (25, 32)                  180       \n",
      "_________________________________________________________________\n",
      "dense2 (dense_layer)         (25, 1)                   33        \n",
      "=================================================================\n",
      "Total params: 5,393,867\n",
      "Trainable params: 5,369,089\n",
      "Non-trainable params: 24,778\n",
      "_________________________________________________________________\n"
     ]
    }
   ],
   "source": [
    "model_bln_layer.summary()"
   ]
  },
  {
   "cell_type": "markdown",
   "metadata": {},
   "source": [
    "# callbacks"
   ]
  },
  {
   "cell_type": "code",
   "execution_count": 11,
   "metadata": {},
   "outputs": [],
   "source": [
    "# Callbacks for saving best model and tensorboard\n",
    "folder_name = '/rnn/bln_layer_imdb_wohletraining_batchSize_' + str(minibatch) \n",
    "save_bm_cb = save_best_model_callback(folder_name)\n",
    "tb_cb = tensorboard_callback(folder_name)\n",
    "\n",
    "# Callback for resetting moving mean and variances at the end of each epoch\n",
    "bln_layer_cb = bln_callback()\n",
    "\n",
    "bln_layer_cb_list = [save_bm_cb, tb_cb, bln_layer_cb]"
   ]
  },
  {
   "cell_type": "code",
   "execution_count": 12,
   "metadata": {},
   "outputs": [],
   "source": [
    "model_bln_layer.compile(optimizer = tf.keras.optimizers.Adam(learning_rate=learning_rate),\n",
    "                               loss = tf.keras.losses.BinaryCrossentropy(from_logits=True),\n",
    "                               metrics = [tf.keras.metrics.BinaryAccuracy()])"
   ]
  },
  {
   "cell_type": "code",
   "execution_count": 13,
   "metadata": {
    "scrolled": true
   },
   "outputs": [
    {
     "name": "stdout",
     "output_type": "stream",
     "text": [
      "Train for 800 steps, validate for 200 steps\n",
      "Epoch 1/5\n",
      "800/800 [==============================] - 678s 848ms/step - loss: 0.4811 - binary_accuracy: 0.7471 - val_loss: 0.3794 - val_binary_accuracy: 0.8182\n",
      "Epoch 2/5\n",
      "800/800 [==============================] - 684s 855ms/step - loss: 0.2622 - binary_accuracy: 0.8903 - val_loss: 0.4469 - val_binary_accuracy: 0.8134\n",
      "Epoch 3/5\n",
      "800/800 [==============================] - 690s 863ms/step - loss: 0.1549 - binary_accuracy: 0.9394 - val_loss: 0.5332 - val_binary_accuracy: 0.8132\n",
      "Epoch 4/5\n",
      "800/800 [==============================] - 690s 862ms/step - loss: 0.1011 - binary_accuracy: 0.9600 - val_loss: 0.7195 - val_binary_accuracy: 0.8110\n",
      "Epoch 5/5\n",
      "800/800 [==============================] - -85723s -107153598us/step - loss: 0.0766 - binary_accuracy: 0.9712 - val_loss: 0.7969 - val_binary_accuracy: 0.8072\n"
     ]
    }
   ],
   "source": [
    "model_bln_layer_history =  model_bln_layer.fit(train_dataset.take(number_batches_train), epochs=epochs,\n",
    "                                                verbose=1, callbacks=bln_layer_cb_list,\n",
    "                                                validation_data=valid_dataset.take(number_batches_valid),\n",
    "                                                shuffle=True)"
   ]
  },
  {
   "cell_type": "code",
   "execution_count": 14,
   "metadata": {},
   "outputs": [
    {
     "name": "stdout",
     "output_type": "stream",
     "text": [
      "session is clear\n"
     ]
    }
   ],
   "source": [
    "del model_bln_layer, save_bm_cb, tb_cb, bln_layer_cb, bln_layer_cb_list\n",
    "reset_graph()"
   ]
  },
  {
   "cell_type": "code",
   "execution_count": 15,
   "metadata": {},
   "outputs": [],
   "source": [
    "# Select the model with the lowest validation loss\n",
    "weights_path = './models/rnn/bln_layer_imdb_wohletraining_batchSize_25/best_model.h5'"
   ]
  },
  {
   "cell_type": "code",
   "execution_count": 16,
   "metadata": {
    "scrolled": true
   },
   "outputs": [
    {
     "name": "stdout",
     "output_type": "stream",
     "text": [
      "1000/1000 [==============================] - 306s 306ms/step - loss: 0.3763 - binary_accuracy: 0.8426\n",
      "{'Bmm_True Bmv_True Fmm_True Fmv_True': [0.37629663967341187, 0.8426]}\n",
      "session is clear\n",
      "1000/1000 [==============================] - 306s 306ms/step - loss: 0.3756 - binary_accuracy: 0.8426\n",
      "{'Bmm_True Bmv_True Fmm_True Fmv_True': [0.37629663967341187, 0.8426], 'Bmm_True Bmv_True Fmm_True Fmv_False': [0.37557747545838355, 0.84256]}\n",
      "session is clear\n",
      "1000/1000 [==============================] - 304s 304ms/step - loss: 0.3762 - binary_accuracy: 0.8426\n",
      "{'Bmm_True Bmv_True Fmm_True Fmv_True': [0.37629663967341187, 0.8426], 'Bmm_True Bmv_True Fmm_True Fmv_False': [0.37557747545838355, 0.84256], 'Bmm_True Bmv_True Fmm_False Fmv_True': [0.3762035561949015, 0.84256]}\n",
      "session is clear\n",
      "1000/1000 [==============================] - 303s 303ms/step - loss: 0.3755 - binary_accuracy: 0.8425\n",
      "{'Bmm_True Bmv_True Fmm_True Fmv_True': [0.37629663967341187, 0.8426], 'Bmm_True Bmv_True Fmm_True Fmv_False': [0.37557747545838355, 0.84256], 'Bmm_True Bmv_True Fmm_False Fmv_True': [0.3762035561949015, 0.84256], 'Bmm_True Bmv_True Fmm_False Fmv_False': [0.3755008724406362, 0.84248]}\n",
      "session is clear\n",
      "1000/1000 [==============================] - 306s 306ms/step - loss: 0.4407 - binary_accuracy: 0.8286\n",
      "{'Bmm_True Bmv_True Fmm_True Fmv_True': [0.37629663967341187, 0.8426], 'Bmm_True Bmv_True Fmm_True Fmv_False': [0.37557747545838355, 0.84256], 'Bmm_True Bmv_True Fmm_False Fmv_True': [0.3762035561949015, 0.84256], 'Bmm_True Bmv_True Fmm_False Fmv_False': [0.3755008724406362, 0.84248], 'Bmm_True Bmv_False Fmm_True Fmv_True': [0.4407207244038582, 0.8286]}\n",
      "session is clear\n",
      "1000/1000 [==============================] - 314s 314ms/step - loss: 0.4403 - binary_accuracy: 0.8286\n",
      "{'Bmm_True Bmv_True Fmm_True Fmv_True': [0.37629663967341187, 0.8426], 'Bmm_True Bmv_True Fmm_True Fmv_False': [0.37557747545838355, 0.84256], 'Bmm_True Bmv_True Fmm_False Fmv_True': [0.3762035561949015, 0.84256], 'Bmm_True Bmv_True Fmm_False Fmv_False': [0.3755008724406362, 0.84248], 'Bmm_True Bmv_False Fmm_True Fmv_True': [0.4407207244038582, 0.8286], 'Bmm_True Bmv_False Fmm_True Fmv_False': [0.4403442090898752, 0.82864]}\n",
      "session is clear\n",
      "1000/1000 [==============================] - 308s 308ms/step - loss: 0.4405 - binary_accuracy: 0.8287\n",
      "{'Bmm_True Bmv_True Fmm_True Fmv_True': [0.37629663967341187, 0.8426], 'Bmm_True Bmv_True Fmm_True Fmv_False': [0.37557747545838355, 0.84256], 'Bmm_True Bmv_True Fmm_False Fmv_True': [0.3762035561949015, 0.84256], 'Bmm_True Bmv_True Fmm_False Fmv_False': [0.3755008724406362, 0.84248], 'Bmm_True Bmv_False Fmm_True Fmv_True': [0.4407207244038582, 0.8286], 'Bmm_True Bmv_False Fmm_True Fmv_False': [0.4403442090898752, 0.82864], 'Bmm_True Bmv_False Fmm_False Fmv_True': [0.4404822921603918, 0.82868]}\n",
      "session is clear\n",
      "1000/1000 [==============================] - 311s 311ms/step - loss: 0.4401 - binary_accuracy: 0.8287\n",
      "{'Bmm_True Bmv_True Fmm_True Fmv_True': [0.37629663967341187, 0.8426], 'Bmm_True Bmv_True Fmm_True Fmv_False': [0.37557747545838355, 0.84256], 'Bmm_True Bmv_True Fmm_False Fmv_True': [0.3762035561949015, 0.84256], 'Bmm_True Bmv_True Fmm_False Fmv_False': [0.3755008724406362, 0.84248], 'Bmm_True Bmv_False Fmm_True Fmv_True': [0.4407207244038582, 0.8286], 'Bmm_True Bmv_False Fmm_True Fmv_False': [0.4403442090898752, 0.82864], 'Bmm_True Bmv_False Fmm_False Fmv_True': [0.4404822921603918, 0.82868], 'Bmm_True Bmv_False Fmm_False Fmv_False': [0.44014124329388143, 0.82872]}\n",
      "session is clear\n",
      "1000/1000 [==============================] - 309s 309ms/step - loss: 0.3833 - binary_accuracy: 0.8291\n",
      "{'Bmm_True Bmv_True Fmm_True Fmv_True': [0.37629663967341187, 0.8426], 'Bmm_True Bmv_True Fmm_True Fmv_False': [0.37557747545838355, 0.84256], 'Bmm_True Bmv_True Fmm_False Fmv_True': [0.3762035561949015, 0.84256], 'Bmm_True Bmv_True Fmm_False Fmv_False': [0.3755008724406362, 0.84248], 'Bmm_True Bmv_False Fmm_True Fmv_True': [0.4407207244038582, 0.8286], 'Bmm_True Bmv_False Fmm_True Fmv_False': [0.4403442090898752, 0.82864], 'Bmm_True Bmv_False Fmm_False Fmv_True': [0.4404822921603918, 0.82868], 'Bmm_True Bmv_False Fmm_False Fmv_False': [0.44014124329388143, 0.82872], 'Bmm_False Bmv_True Fmm_True Fmv_True': [0.38330538057535884, 0.82912]}\n",
      "session is clear\n",
      "1000/1000 [==============================] - 312s 312ms/step - loss: 0.3830 - binary_accuracy: 0.8292\n",
      "{'Bmm_True Bmv_True Fmm_True Fmv_True': [0.37629663967341187, 0.8426], 'Bmm_True Bmv_True Fmm_True Fmv_False': [0.37557747545838355, 0.84256], 'Bmm_True Bmv_True Fmm_False Fmv_True': [0.3762035561949015, 0.84256], 'Bmm_True Bmv_True Fmm_False Fmv_False': [0.3755008724406362, 0.84248], 'Bmm_True Bmv_False Fmm_True Fmv_True': [0.4407207244038582, 0.8286], 'Bmm_True Bmv_False Fmm_True Fmv_False': [0.4403442090898752, 0.82864], 'Bmm_True Bmv_False Fmm_False Fmv_True': [0.4404822921603918, 0.82868], 'Bmm_True Bmv_False Fmm_False Fmv_False': [0.44014124329388143, 0.82872], 'Bmm_False Bmv_True Fmm_True Fmv_True': [0.38330538057535884, 0.82912], 'Bmm_False Bmv_True Fmm_True Fmv_False': [0.3829549258388579, 0.8292]}\n",
      "session is clear\n",
      "1000/1000 [==============================] - 307s 307ms/step - loss: 0.3833 - binary_accuracy: 0.8291\n",
      "{'Bmm_True Bmv_True Fmm_True Fmv_True': [0.37629663967341187, 0.8426], 'Bmm_True Bmv_True Fmm_True Fmv_False': [0.37557747545838355, 0.84256], 'Bmm_True Bmv_True Fmm_False Fmv_True': [0.3762035561949015, 0.84256], 'Bmm_True Bmv_True Fmm_False Fmv_False': [0.3755008724406362, 0.84248], 'Bmm_True Bmv_False Fmm_True Fmv_True': [0.4407207244038582, 0.8286], 'Bmm_True Bmv_False Fmm_True Fmv_False': [0.4403442090898752, 0.82864], 'Bmm_True Bmv_False Fmm_False Fmv_True': [0.4404822921603918, 0.82868], 'Bmm_True Bmv_False Fmm_False Fmv_False': [0.44014124329388143, 0.82872], 'Bmm_False Bmv_True Fmm_True Fmv_True': [0.38330538057535884, 0.82912], 'Bmm_False Bmv_True Fmm_True Fmv_False': [0.3829549258388579, 0.8292], 'Bmm_False Bmv_True Fmm_False Fmv_True': [0.38327607592567803, 0.82908]}\n",
      "session is clear\n",
      "1000/1000 [==============================] - 321s 321ms/step - loss: 0.3829 - binary_accuracy: 0.8292\n",
      "{'Bmm_True Bmv_True Fmm_True Fmv_True': [0.37629663967341187, 0.8426], 'Bmm_True Bmv_True Fmm_True Fmv_False': [0.37557747545838355, 0.84256], 'Bmm_True Bmv_True Fmm_False Fmv_True': [0.3762035561949015, 0.84256], 'Bmm_True Bmv_True Fmm_False Fmv_False': [0.3755008724406362, 0.84248], 'Bmm_True Bmv_False Fmm_True Fmv_True': [0.4407207244038582, 0.8286], 'Bmm_True Bmv_False Fmm_True Fmv_False': [0.4403442090898752, 0.82864], 'Bmm_True Bmv_False Fmm_False Fmv_True': [0.4404822921603918, 0.82868], 'Bmm_True Bmv_False Fmm_False Fmv_False': [0.44014124329388143, 0.82872], 'Bmm_False Bmv_True Fmm_True Fmv_True': [0.38330538057535884, 0.82912], 'Bmm_False Bmv_True Fmm_True Fmv_False': [0.3829549258388579, 0.8292], 'Bmm_False Bmv_True Fmm_False Fmv_True': [0.38327607592567803, 0.82908], 'Bmm_False Bmv_True Fmm_False Fmv_False': [0.3829385451301932, 0.8292]}\n",
      "session is clear\n",
      "1000/1000 [==============================] - 319s 319ms/step - loss: 0.3717 - binary_accuracy: 0.8262\n",
      "{'Bmm_True Bmv_True Fmm_True Fmv_True': [0.37629663967341187, 0.8426], 'Bmm_True Bmv_True Fmm_True Fmv_False': [0.37557747545838355, 0.84256], 'Bmm_True Bmv_True Fmm_False Fmv_True': [0.3762035561949015, 0.84256], 'Bmm_True Bmv_True Fmm_False Fmv_False': [0.3755008724406362, 0.84248], 'Bmm_True Bmv_False Fmm_True Fmv_True': [0.4407207244038582, 0.8286], 'Bmm_True Bmv_False Fmm_True Fmv_False': [0.4403442090898752, 0.82864], 'Bmm_True Bmv_False Fmm_False Fmv_True': [0.4404822921603918, 0.82868], 'Bmm_True Bmv_False Fmm_False Fmv_False': [0.44014124329388143, 0.82872], 'Bmm_False Bmv_True Fmm_True Fmv_True': [0.38330538057535884, 0.82912], 'Bmm_False Bmv_True Fmm_True Fmv_False': [0.3829549258388579, 0.8292], 'Bmm_False Bmv_True Fmm_False Fmv_True': [0.38327607592567803, 0.82908], 'Bmm_False Bmv_True Fmm_False Fmv_False': [0.3829385451301932, 0.8292], 'Bmm_False Bmv_False Fmm_True Fmv_True': [0.37166605739295483, 0.82616]}\n",
      "session is clear\n",
      "1000/1000 [==============================] - 319s 319ms/step - loss: 0.3718 - binary_accuracy: 0.8264\n",
      "{'Bmm_True Bmv_True Fmm_True Fmv_True': [0.37629663967341187, 0.8426], 'Bmm_True Bmv_True Fmm_True Fmv_False': [0.37557747545838355, 0.84256], 'Bmm_True Bmv_True Fmm_False Fmv_True': [0.3762035561949015, 0.84256], 'Bmm_True Bmv_True Fmm_False Fmv_False': [0.3755008724406362, 0.84248], 'Bmm_True Bmv_False Fmm_True Fmv_True': [0.4407207244038582, 0.8286], 'Bmm_True Bmv_False Fmm_True Fmv_False': [0.4403442090898752, 0.82864], 'Bmm_True Bmv_False Fmm_False Fmv_True': [0.4404822921603918, 0.82868], 'Bmm_True Bmv_False Fmm_False Fmv_False': [0.44014124329388143, 0.82872], 'Bmm_False Bmv_True Fmm_True Fmv_True': [0.38330538057535884, 0.82912], 'Bmm_False Bmv_True Fmm_True Fmv_False': [0.3829549258388579, 0.8292], 'Bmm_False Bmv_True Fmm_False Fmv_True': [0.38327607592567803, 0.82908], 'Bmm_False Bmv_True Fmm_False Fmv_False': [0.3829385451301932, 0.8292], 'Bmm_False Bmv_False Fmm_True Fmv_True': [0.37166605739295483, 0.82616], 'Bmm_False Bmv_False Fmm_True Fmv_False': [0.3717609993070364, 0.82636]}\n",
      "session is clear\n"
     ]
    },
    {
     "name": "stdout",
     "output_type": "stream",
     "text": [
      "1000/1000 [==============================] - 318s 318ms/step - loss: 0.3717 - binary_accuracy: 0.8262\n",
      "{'Bmm_True Bmv_True Fmm_True Fmv_True': [0.37629663967341187, 0.8426], 'Bmm_True Bmv_True Fmm_True Fmv_False': [0.37557747545838355, 0.84256], 'Bmm_True Bmv_True Fmm_False Fmv_True': [0.3762035561949015, 0.84256], 'Bmm_True Bmv_True Fmm_False Fmv_False': [0.3755008724406362, 0.84248], 'Bmm_True Bmv_False Fmm_True Fmv_True': [0.4407207244038582, 0.8286], 'Bmm_True Bmv_False Fmm_True Fmv_False': [0.4403442090898752, 0.82864], 'Bmm_True Bmv_False Fmm_False Fmv_True': [0.4404822921603918, 0.82868], 'Bmm_True Bmv_False Fmm_False Fmv_False': [0.44014124329388143, 0.82872], 'Bmm_False Bmv_True Fmm_True Fmv_True': [0.38330538057535884, 0.82912], 'Bmm_False Bmv_True Fmm_True Fmv_False': [0.3829549258388579, 0.8292], 'Bmm_False Bmv_True Fmm_False Fmv_True': [0.38327607592567803, 0.82908], 'Bmm_False Bmv_True Fmm_False Fmv_False': [0.3829385451301932, 0.8292], 'Bmm_False Bmv_False Fmm_True Fmv_True': [0.37166605739295483, 0.82616], 'Bmm_False Bmv_False Fmm_True Fmv_False': [0.3717609993070364, 0.82636], 'Bmm_False Bmv_False Fmm_False Fmv_True': [0.37168192461133004, 0.82616]}\n",
      "session is clear\n",
      "1000/1000 [==============================] - 317s 317ms/step - loss: 0.3718 - binary_accuracy: 0.8262\n",
      "{'Bmm_True Bmv_True Fmm_True Fmv_True': [0.37629663967341187, 0.8426], 'Bmm_True Bmv_True Fmm_True Fmv_False': [0.37557747545838355, 0.84256], 'Bmm_True Bmv_True Fmm_False Fmv_True': [0.3762035561949015, 0.84256], 'Bmm_True Bmv_True Fmm_False Fmv_False': [0.3755008724406362, 0.84248], 'Bmm_True Bmv_False Fmm_True Fmv_True': [0.4407207244038582, 0.8286], 'Bmm_True Bmv_False Fmm_True Fmv_False': [0.4403442090898752, 0.82864], 'Bmm_True Bmv_False Fmm_False Fmv_True': [0.4404822921603918, 0.82868], 'Bmm_True Bmv_False Fmm_False Fmv_False': [0.44014124329388143, 0.82872], 'Bmm_False Bmv_True Fmm_True Fmv_True': [0.38330538057535884, 0.82912], 'Bmm_False Bmv_True Fmm_True Fmv_False': [0.3829549258388579, 0.8292], 'Bmm_False Bmv_True Fmm_False Fmv_True': [0.38327607592567803, 0.82908], 'Bmm_False Bmv_True Fmm_False Fmv_False': [0.3829385451301932, 0.8292], 'Bmm_False Bmv_False Fmm_True Fmv_True': [0.37166605739295483, 0.82616], 'Bmm_False Bmv_False Fmm_True Fmv_False': [0.3717609993070364, 0.82636], 'Bmm_False Bmv_False Fmm_False Fmv_True': [0.37168192461133004, 0.82616], 'Bmm_False Bmv_False Fmm_False Fmv_False': [0.37177927139401434, 0.8262]}\n",
      "session is clear\n"
     ]
    }
   ],
   "source": [
    "save_eval_path = \"./logs/\" + folder_name + '/'+ str(number_batches_train) +\"_sorted_evaluation.pkl\"\n",
    "evaluation = grid_serach(BLNLayer_model, test_dataset,\n",
    "                         batch_size = minibatch, sort=True,\n",
    "                         save_eval_path = save_eval_path,\n",
    "                         weights_path = weights_path,\n",
    "                         loss = tf.keras.losses.BinaryCrossentropy(from_logits=True),\n",
    "                         metrics = tf.keras.metrics.BinaryAccuracy())\n",
    "\n"
   ]
  },
  {
   "cell_type": "code",
   "execution_count": 18,
   "metadata": {},
   "outputs": [
    {
     "data": {
      "text/plain": [
       "[('Bmm_False Bmv_False Fmm_True Fmv_True', [0.37166605739295483, 0.82616]),\n",
       " ('Bmm_False Bmv_False Fmm_False Fmv_True', [0.37168192461133004, 0.82616]),\n",
       " ('Bmm_False Bmv_False Fmm_True Fmv_False', [0.3717609993070364, 0.82636]),\n",
       " ('Bmm_False Bmv_False Fmm_False Fmv_False', [0.37177927139401434, 0.8262]),\n",
       " ('Bmm_True Bmv_True Fmm_False Fmv_False', [0.3755008724406362, 0.84248]),\n",
       " ('Bmm_True Bmv_True Fmm_True Fmv_False', [0.37557747545838355, 0.84256]),\n",
       " ('Bmm_True Bmv_True Fmm_False Fmv_True', [0.3762035561949015, 0.84256]),\n",
       " ('Bmm_True Bmv_True Fmm_True Fmv_True', [0.37629663967341187, 0.8426]),\n",
       " ('Bmm_False Bmv_True Fmm_False Fmv_False', [0.3829385451301932, 0.8292]),\n",
       " ('Bmm_False Bmv_True Fmm_True Fmv_False', [0.3829549258388579, 0.8292]),\n",
       " ('Bmm_False Bmv_True Fmm_False Fmv_True', [0.38327607592567803, 0.82908]),\n",
       " ('Bmm_False Bmv_True Fmm_True Fmv_True', [0.38330538057535884, 0.82912]),\n",
       " ('Bmm_True Bmv_False Fmm_False Fmv_False', [0.44014124329388143, 0.82872]),\n",
       " ('Bmm_True Bmv_False Fmm_True Fmv_False', [0.4403442090898752, 0.82864]),\n",
       " ('Bmm_True Bmv_False Fmm_False Fmv_True', [0.4404822921603918, 0.82868]),\n",
       " ('Bmm_True Bmv_False Fmm_True Fmv_True', [0.4407207244038582, 0.8286])]"
      ]
     },
     "execution_count": 18,
     "metadata": {},
     "output_type": "execute_result"
    }
   ],
   "source": [
    "evaluation "
   ]
  },
  {
   "cell_type": "code",
   "execution_count": null,
   "metadata": {},
   "outputs": [],
   "source": []
  }
 ],
 "metadata": {
  "kernelspec": {
   "display_name": "Python 3 (ipykernel)",
   "language": "python",
   "name": "python3"
  },
  "language_info": {
   "codemirror_mode": {
    "name": "ipython",
    "version": 3
   },
   "file_extension": ".py",
   "mimetype": "text/x-python",
   "name": "python",
   "nbconvert_exporter": "python",
   "pygments_lexer": "ipython3",
   "version": "3.7.11"
  }
 },
 "nbformat": 4,
 "nbformat_minor": 4
}
